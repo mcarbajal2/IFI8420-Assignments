{
 "cells": [
  {
   "cell_type": "markdown",
   "id": "bc649b61-4474-4218-8811-8b9d5ba61452",
   "metadata": {},
   "source": [
    "# <b>IFI 8420 - Final Project</b>\n",
    "### Team 5\n",
    "Mina Carbajal, Carmen Morales-Mier, Gaayathri Rayapaneni, Ignatius Jonathan Sugijono"
   ]
  },
  {
   "cell_type": "markdown",
   "id": "8cf763f8-e21a-4246-a3b0-f0f9b9251175",
   "metadata": {},
   "source": [
    "<hr>"
   ]
  },
  {
   "cell_type": "markdown",
   "id": "6204a9fe-eabf-4634-bae6-bae1b1de3ea7",
   "metadata": {},
   "source": [
    "Introduction"
   ]
  },
  {
   "cell_type": "markdown",
   "id": "56ce90a3-3575-4939-917a-97e25e62d49e",
   "metadata": {},
   "source": [
    "<hr>"
   ]
  },
  {
   "cell_type": "markdown",
   "id": "6668c732-a632-4ca2-a42e-8581db02dd45",
   "metadata": {},
   "source": [
    "#### Installing all the requirement packages"
   ]
  },
  {
   "cell_type": "code",
   "execution_count": 4,
   "id": "37560327-ef2c-44c6-a6b9-993f911b2f84",
   "metadata": {},
   "outputs": [],
   "source": [
    "import pandas as pd\n",
    "import numpy as np\n",
    "import matplotlib.pyplot as plt"
   ]
  },
  {
   "cell_type": "markdown",
   "id": "f1cdac3b-22b9-48b3-a953-89f1fd202e68",
   "metadata": {},
   "source": [
    "<hr>"
   ]
  },
  {
   "cell_type": "markdown",
   "id": "8fd6efd3-4f5c-483e-9e9a-6e59fb5850f3",
   "metadata": {},
   "source": [
    "#### Getting the State Energy Data System (SEDS) data provided by the U.S. Department of Energy, The Energy Information Administration (EIA) API\n",
    "https://www.eia.gov/opendata/browser/seds\n",
    "<br>The EIA browser API generates a url that has a built in offset value, as well as a request max limit of 5000. Since we want more than 5000 items, using Offest Pagination allows us to run a while loop that will grab the next 5000 items until the total set amount of items is reached. This is possible because the browser API also tells you how many total items your request generates."
   ]
  },
  {
   "cell_type": "code",
   "execution_count": 6,
   "id": "8d2ac32a-1ec7-4fac-a913-7f740c776c32",
   "metadata": {},
   "outputs": [],
   "source": [
    "# import requests\n",
    "\n",
    "# api_key = 'v4Mpa3bxglq7V73FG1c9siXRib7Rtvsi6k17OSV5'\n",
    "# offset = 0\n",
    "# total = 2242317\n",
    "# data = []\n",
    "\n",
    "# while offset < total:\n",
    "#     url = ('https://api.eia.gov/v2/seds/data/?frequency=annual&data[0]=value&facets[stateId][]=AK&facets[stateId][]=AL&facets[stateId][]=AR&facets[stateId][]=AZ&facets[stateId][]=CA&facets[stateId][]=CO&facets[stateId][]=CT&facets[stateId][]=DC&facets[stateId][]=DE&facets[stateId][]=FL&facets[stateId][]=GA&facets[stateId][]=HI&facets[stateId][]=IA&facets[stateId][]=ID&facets[stateId][]=IL&facets[stateId][]=IN&facets[stateId][]=KS&facets[stateId][]=KY&facets[stateId][]=LA&facets[stateId][]=MA&facets[stateId][]=MD&facets[stateId][]=ME&facets[stateId][]=MI&facets[stateId][]=MN&facets[stateId][]=MO&facets[stateId][]=MS&facets[stateId][]=MT&facets[stateId][]=NC&facets[stateId][]=ND&facets[stateId][]=NE&facets[stateId][]=NH&facets[stateId][]=NJ&facets[stateId][]=NM&facets[stateId][]=NV&facets[stateId][]=NY&facets[stateId][]=OH&facets[stateId][]=OK&facets[stateId][]=OR&facets[stateId][]=PA&facets[stateId][]=RI&facets[stateId][]=SC&facets[stateId][]=SD&facets[stateId][]=TN&facets[stateId][]=TX&facets[stateId][]=US&facets[stateId][]=UT&facets[stateId][]=VA&facets[stateId][]=VT&facets[stateId][]=WA&facets[stateId][]=WI&facets[stateId][]=WV&facets[stateId][]=WY&sort[0][column]=seriesId&sort[0][direction]=desc&offset=' + str(offset) + '&length=5000')\n",
    "#     response = requests.get(url, headers={'X-API-Key': api_key})\n",
    "    \n",
    "#     if response.status_code == 200:\n",
    "#         data.extend(response.json()['response']['data'])\n",
    "#         offset += 5000\n",
    "#     else:\n",
    "#         print('Error ' + str(response.status_code) + ': ' + response.text)\n",
    "#         break\n",
    "\n",
    "# print('Successfully retrieved ' + str(len(data)) + ' rows.')"
   ]
  },
  {
   "cell_type": "code",
   "execution_count": 16,
   "id": "6b56337c-0b27-4199-9493-fa2adbdaec76",
   "metadata": {},
   "outputs": [],
   "source": [
    "# df = pd.DataFrame(paginated_data)\n",
    "# df.head()"
   ]
  },
  {
   "cell_type": "code",
   "execution_count": 8,
   "id": "5f8486bf-af41-48d0-8c1a-bf0b68800ac5",
   "metadata": {},
   "outputs": [],
   "source": [
    "# df.to_csv('EIA_raw.csv')"
   ]
  },
  {
   "cell_type": "code",
   "execution_count": 10,
   "id": "4f736042-095c-4de6-ab07-8e581a4f1eb8",
   "metadata": {},
   "outputs": [
    {
     "name": "stdout",
     "output_type": "stream",
     "text": [
      "<class 'pandas.core.frame.DataFrame'>\n",
      "RangeIndex: 2242317 entries, 0 to 2242316\n",
      "Data columns (total 8 columns):\n",
      " #   Column             Dtype  \n",
      "---  ------             -----  \n",
      " 0   Unnamed: 0         int64  \n",
      " 1   period             int64  \n",
      " 2   seriesId           object \n",
      " 3   seriesDescription  object \n",
      " 4   stateId            object \n",
      " 5   stateDescription   object \n",
      " 6   value              float64\n",
      " 7   unit               object \n",
      "dtypes: float64(1), int64(2), object(5)\n",
      "memory usage: 136.9+ MB\n"
     ]
    }
   ],
   "source": [
    "EIA_raw_df = pd.read_csv('EIA_raw.csv')\n",
    "EIA_raw_df.info()"
   ]
  },
  {
   "cell_type": "code",
   "execution_count": 12,
   "id": "ecc40fbf-98b9-47ca-9e24-839b170b775c",
   "metadata": {},
   "outputs": [
    {
     "data": {
      "text/html": [
       "<div>\n",
       "<style scoped>\n",
       "    .dataframe tbody tr th:only-of-type {\n",
       "        vertical-align: middle;\n",
       "    }\n",
       "\n",
       "    .dataframe tbody tr th {\n",
       "        vertical-align: top;\n",
       "    }\n",
       "\n",
       "    .dataframe thead th {\n",
       "        text-align: right;\n",
       "    }\n",
       "</style>\n",
       "<table border=\"1\" class=\"dataframe\">\n",
       "  <thead>\n",
       "    <tr style=\"text-align: right;\">\n",
       "      <th></th>\n",
       "      <th>Unnamed: 0</th>\n",
       "      <th>period</th>\n",
       "      <th>seriesId</th>\n",
       "      <th>seriesDescription</th>\n",
       "      <th>stateId</th>\n",
       "      <th>stateDescription</th>\n",
       "      <th>value</th>\n",
       "      <th>unit</th>\n",
       "    </tr>\n",
       "  </thead>\n",
       "  <tbody>\n",
       "    <tr>\n",
       "      <th>0</th>\n",
       "      <td>0</td>\n",
       "      <td>2021</td>\n",
       "      <td>ZWHDP</td>\n",
       "      <td>Heating degree days (HDD)</td>\n",
       "      <td>VA</td>\n",
       "      <td>Virginia</td>\n",
       "      <td>3927.0</td>\n",
       "      <td>Days</td>\n",
       "    </tr>\n",
       "    <tr>\n",
       "      <th>1</th>\n",
       "      <td>1</td>\n",
       "      <td>2023</td>\n",
       "      <td>ZWHDP</td>\n",
       "      <td>Heating degree days (HDD)</td>\n",
       "      <td>FL</td>\n",
       "      <td>Florida</td>\n",
       "      <td>428.0</td>\n",
       "      <td>Days</td>\n",
       "    </tr>\n",
       "    <tr>\n",
       "      <th>2</th>\n",
       "      <td>2</td>\n",
       "      <td>2023</td>\n",
       "      <td>ZWHDP</td>\n",
       "      <td>Heating degree days (HDD)</td>\n",
       "      <td>DE</td>\n",
       "      <td>Delaware</td>\n",
       "      <td>3844.0</td>\n",
       "      <td>Days</td>\n",
       "    </tr>\n",
       "    <tr>\n",
       "      <th>3</th>\n",
       "      <td>3</td>\n",
       "      <td>2023</td>\n",
       "      <td>ZWHDP</td>\n",
       "      <td>Heating degree days (HDD)</td>\n",
       "      <td>DC</td>\n",
       "      <td>District of Columbia</td>\n",
       "      <td>3272.0</td>\n",
       "      <td>Days</td>\n",
       "    </tr>\n",
       "    <tr>\n",
       "      <th>4</th>\n",
       "      <td>4</td>\n",
       "      <td>2023</td>\n",
       "      <td>ZWHDP</td>\n",
       "      <td>Heating degree days (HDD)</td>\n",
       "      <td>AL</td>\n",
       "      <td>Alabama</td>\n",
       "      <td>2153.0</td>\n",
       "      <td>Days</td>\n",
       "    </tr>\n",
       "  </tbody>\n",
       "</table>\n",
       "</div>"
      ],
      "text/plain": [
       "   Unnamed: 0  period seriesId          seriesDescription stateId  \\\n",
       "0           0    2021    ZWHDP  Heating degree days (HDD)      VA   \n",
       "1           1    2023    ZWHDP  Heating degree days (HDD)      FL   \n",
       "2           2    2023    ZWHDP  Heating degree days (HDD)      DE   \n",
       "3           3    2023    ZWHDP  Heating degree days (HDD)      DC   \n",
       "4           4    2023    ZWHDP  Heating degree days (HDD)      AL   \n",
       "\n",
       "       stateDescription   value  unit  \n",
       "0              Virginia  3927.0  Days  \n",
       "1               Florida   428.0  Days  \n",
       "2              Delaware  3844.0  Days  \n",
       "3  District of Columbia  3272.0  Days  \n",
       "4               Alabama  2153.0  Days  "
      ]
     },
     "execution_count": 12,
     "metadata": {},
     "output_type": "execute_result"
    }
   ],
   "source": [
    "EIA_raw_df.head()"
   ]
  },
  {
   "cell_type": "markdown",
   "id": "65403816-4630-4e71-84a3-d5b3174f35c1",
   "metadata": {},
   "source": [
    "#### Visualizing the SEDS data"
   ]
  },
  {
   "cell_type": "code",
   "execution_count": 15,
   "id": "40de5999-0fb1-410a-b63b-a29fb0bcaded",
   "metadata": {},
   "outputs": [],
   "source": [
    "# Simple regex filtering of the data to grab rows with renewable energy keywords only\n",
    "renew_keywords = ['solar', 'wind', 'renewable', 'hydroelectric', 'geothermal', 'hydropower', 'total energy']\n",
    "nonrenew_keywords = ['diesel', 'oil', 'gasoline', 'coal', 'fossil', 'hydrocarbon', 'nuclear', 'wood']\n",
    "include_pattern = '|'.join(renew_keywords)\n",
    "exclude_pattern = '|'.join(nonrenew_keywords)\n",
    "\n",
    "EIA_renewable = EIA_raw_df[EIA_raw_df['seriesDescription'].str.contains(include_pattern, case=False, na=False) & ~EIA_raw_df['seriesDescription'].str.contains(exclude_pattern, case=False, na=False)]"
   ]
  },
  {
   "cell_type": "code",
   "execution_count": 16,
   "id": "59b471cd-dbc9-46c1-8b52-bc3c2b387c8c",
   "metadata": {},
   "outputs": [
    {
     "data": {
      "text/html": [
       "<div>\n",
       "<style scoped>\n",
       "    .dataframe tbody tr th:only-of-type {\n",
       "        vertical-align: middle;\n",
       "    }\n",
       "\n",
       "    .dataframe tbody tr th {\n",
       "        vertical-align: top;\n",
       "    }\n",
       "\n",
       "    .dataframe thead th {\n",
       "        text-align: right;\n",
       "    }\n",
       "</style>\n",
       "<table border=\"1\" class=\"dataframe\">\n",
       "  <thead>\n",
       "    <tr style=\"text-align: right;\">\n",
       "      <th></th>\n",
       "      <th>period</th>\n",
       "      <th>seriesId</th>\n",
       "      <th>seriesDescription</th>\n",
       "      <th>stateId</th>\n",
       "      <th>stateDescription</th>\n",
       "      <th>value</th>\n",
       "      <th>unit</th>\n",
       "    </tr>\n",
       "  </thead>\n",
       "  <tbody>\n",
       "    <tr>\n",
       "      <th>1</th>\n",
       "      <td>2012</td>\n",
       "      <td>WYTXP</td>\n",
       "      <td>Wind energy total end-use net generation</td>\n",
       "      <td>NV</td>\n",
       "      <td>Nevada</td>\n",
       "      <td>0.0</td>\n",
       "      <td>Million kilowatthours</td>\n",
       "    </tr>\n",
       "    <tr>\n",
       "      <th>2</th>\n",
       "      <td>1967</td>\n",
       "      <td>WYTXP</td>\n",
       "      <td>Wind energy total end-use net generation</td>\n",
       "      <td>WY</td>\n",
       "      <td>Wyoming</td>\n",
       "      <td>0.0</td>\n",
       "      <td>Million kilowatthours</td>\n",
       "    </tr>\n",
       "    <tr>\n",
       "      <th>3</th>\n",
       "      <td>1966</td>\n",
       "      <td>WYTXP</td>\n",
       "      <td>Wind energy total end-use net generation</td>\n",
       "      <td>WY</td>\n",
       "      <td>Wyoming</td>\n",
       "      <td>0.0</td>\n",
       "      <td>Million kilowatthours</td>\n",
       "    </tr>\n",
       "    <tr>\n",
       "      <th>4</th>\n",
       "      <td>1965</td>\n",
       "      <td>WYTXP</td>\n",
       "      <td>Wind energy total end-use net generation</td>\n",
       "      <td>WY</td>\n",
       "      <td>Wyoming</td>\n",
       "      <td>0.0</td>\n",
       "      <td>Million kilowatthours</td>\n",
       "    </tr>\n",
       "    <tr>\n",
       "      <th>5</th>\n",
       "      <td>1964</td>\n",
       "      <td>WYTXP</td>\n",
       "      <td>Wind energy total end-use net generation</td>\n",
       "      <td>WY</td>\n",
       "      <td>Wyoming</td>\n",
       "      <td>0.0</td>\n",
       "      <td>Million kilowatthours</td>\n",
       "    </tr>\n",
       "  </tbody>\n",
       "</table>\n",
       "</div>"
      ],
      "text/plain": [
       "   period seriesId                         seriesDescription stateId  \\\n",
       "1    2012    WYTXP  Wind energy total end-use net generation      NV   \n",
       "2    1967    WYTXP  Wind energy total end-use net generation      WY   \n",
       "3    1966    WYTXP  Wind energy total end-use net generation      WY   \n",
       "4    1965    WYTXP  Wind energy total end-use net generation      WY   \n",
       "5    1964    WYTXP  Wind energy total end-use net generation      WY   \n",
       "\n",
       "  stateDescription  value                   unit  \n",
       "1           Nevada    0.0  Million kilowatthours  \n",
       "2          Wyoming    0.0  Million kilowatthours  \n",
       "3          Wyoming    0.0  Million kilowatthours  \n",
       "4          Wyoming    0.0  Million kilowatthours  \n",
       "5          Wyoming    0.0  Million kilowatthours  "
      ]
     },
     "execution_count": 16,
     "metadata": {},
     "output_type": "execute_result"
    }
   ],
   "source": [
    "EIA_renewable = EIA_renewable.drop(columns=['Unnamed: 0'])\n",
    "EIA_renewable.reset_index(drop=True, inplace=True)\n",
    "EIA_renewable.index = EIA_renewable.index + 1\n",
    "EIA_renewable.head()"
   ]
  },
  {
   "cell_type": "code",
   "execution_count": 17,
   "id": "da9f8efa-0af9-4d52-90e9-34dda0ce2fdd",
   "metadata": {
    "scrolled": true
   },
   "outputs": [],
   "source": [
    "# Solar Energy filtered dataframe\n",
    "solar_df = EIA_renewable[EIA_renewable['seriesId'] == 'SOTGP']\n",
    "state_vals = solar_df.groupby('stateId')['value'].sum()\n",
    "state_vals_sorted = state_vals.sort_values(ascending=False)\n",
    "state_vals_sorted.drop('US', inplace=True)"
   ]
  },
  {
   "cell_type": "code",
   "execution_count": 18,
   "id": "35cf5269-4c5d-4186-ada0-b026f4e6cd58",
   "metadata": {},
   "outputs": [
    {
     "name": "stdout",
     "output_type": "stream",
     "text": [
      "1960\n",
      "2023\n"
     ]
    }
   ],
   "source": [
    "smallest_year = solar_df['period'].min()\n",
    "largest_year = solar_df['period'].max()\n",
    "print(smallest_year)\n",
    "print(largest_year)"
   ]
  },
  {
   "cell_type": "code",
   "execution_count": 19,
   "id": "7b1f6f95-e762-4e5b-a80c-dbd40ead2c3d",
   "metadata": {},
   "outputs": [
    {
     "data": {
      "image/png": "[encoded data removed]",
      "text/plain": [
       "<Figure size 800x800 with 1 Axes>"
      ]
     },
     "metadata": {},
     "output_type": "display_data"
    }
   ],
   "source": [
    "top_10 = state_vals_sorted.iloc[:10]\n",
    "others = state_vals_sorted.iloc[10:].sum()\n",
    "top_10['Others'] = others\n",
    "\n",
    "plt.figure(figsize=(8, 8))\n",
    "top_10.plot(\n",
    "    kind='pie', autopct='%1.1f%%', startangle=90, \n",
    "    labels=top_10.index, colors=['#FFFF00', '#D9F041', '#B3E082', '#8DD0C3', '#67C1FF', '#4998DF', '#2B70BF', '#0D4F9F', '#00357F', '#1A0A5F', '#3B004F']\n",
    ")\n",
    "plt.title('Top 10 States (1960-2023) - Solar Total Net Generation (MM kWh)')\n",
    "plt.ylabel('')\n",
    "plt.savefig('top_solar_states.png')\n",
    "plt.show()"
   ]
  },
  {
   "cell_type": "code",
   "execution_count": 20,
   "id": "ffec3c7b-ba86-489e-9473-84349dbd427f",
   "metadata": {},
   "outputs": [],
   "source": [
    "# Wind Energy filtered dataframe\n",
    "wind_df = EIA_renewable[EIA_renewable['seriesId'] == 'WYTCP']\n",
    "state_vals_2 = wind_df.groupby('stateId')['value'].sum()\n",
    "state_vals_sorted_2 = state_vals_2.sort_values(ascending=False)\n",
    "state_vals_sorted_2.drop('US', inplace=True)"
   ]
  },
  {
   "cell_type": "code",
   "execution_count": 21,
   "id": "01829e16-a68e-40a0-b758-25896a6fdb0f",
   "metadata": {},
   "outputs": [
    {
     "data": {
      "image/png": "[encoded data removed]",
      "text/plain": [
       "<Figure size 800x800 with 1 Axes>"
      ]
     },
     "metadata": {},
     "output_type": "display_data"
    }
   ],
   "source": [
    "# Selecting the top 10 states after sorting by descending order\n",
    "top_10_2 = state_vals_sorted_2.iloc[:10]\n",
    "others_2 = state_vals_sorted_2.iloc[10:].sum()\n",
    "top_10_2['Others'] = others_2\n",
    "\n",
    "# Creating the graph\n",
    "plt.figure(figsize=(8, 8))\n",
    "top_10.plot(\n",
    "    kind='pie', autopct='%1.1f%%', startangle=90, \n",
    "    labels=top_10_2.index, colors=['#FFFF00', '#D9F041', '#B3E082', '#8DD0C3', '#67C1FF', '#4998DF', '#2B70BF', '#0D4F9F', '#00357F', '#1A0A5F', '#3B004F']\n",
    ")\n",
    "plt.title('Top 10 States (1960-2023) - Wind Total Net Generation (MM kWh)')\n",
    "plt.ylabel('')\n",
    "plt.savefig('top_wind_states.png')\n",
    "plt.show()"
   ]
  },
  {
   "cell_type": "code",
   "execution_count": 22,
   "id": "b4dbbe3d-fa4b-48e0-9ec5-c570caee5087",
   "metadata": {},
   "outputs": [
    {
     "name": "stdout",
     "output_type": "stream",
     "text": [
      "Requirement already satisfied: geopandas in /opt/anaconda3/lib/python3.12/site-packages (1.0.1)\n",
      "Requirement already satisfied: numpy>=1.22 in /opt/anaconda3/lib/python3.12/site-packages (from geopandas) (1.26.4)\n",
      "Requirement already satisfied: pyogrio>=0.7.2 in /opt/anaconda3/lib/python3.12/site-packages (from geopandas) (0.10.0)\n",
      "Requirement already satisfied: packaging in /opt/anaconda3/lib/python3.12/site-packages (from geopandas) (23.2)\n",
      "Requirement already satisfied: pandas>=1.4.0 in /opt/anaconda3/lib/python3.12/site-packages (from geopandas) (2.2.2)\n",
      "Requirement already satisfied: pyproj>=3.3.0 in /opt/anaconda3/lib/python3.12/site-packages (from geopandas) (3.6.1)\n",
      "Requirement already satisfied: shapely>=2.0.0 in /opt/anaconda3/lib/python3.12/site-packages (from geopandas) (2.0.5)\n",
      "Requirement already satisfied: python-dateutil>=2.8.2 in /opt/anaconda3/lib/python3.12/site-packages (from pandas>=1.4.0->geopandas) (2.9.0.post0)\n",
      "Requirement already satisfied: pytz>=2020.1 in /opt/anaconda3/lib/python3.12/site-packages (from pandas>=1.4.0->geopandas) (2024.1)\n",
      "Requirement already satisfied: tzdata>=2022.7 in /opt/anaconda3/lib/python3.12/site-packages (from pandas>=1.4.0->geopandas) (2023.3)\n",
      "Requirement already satisfied: certifi in /opt/anaconda3/lib/python3.12/site-packages (from pyogrio>=0.7.2->geopandas) (2025.1.31)\n",
      "Requirement already satisfied: six>=1.5 in /opt/anaconda3/lib/python3.12/site-packages (from python-dateutil>=2.8.2->pandas>=1.4.0->geopandas) (1.16.0)\n",
      "Note: you may need to restart the kernel to use updated packages.\n"
     ]
    }
   ],
   "source": [
    "pip install --upgrade geopandas"
   ]
  },
  {
   "cell_type": "code",
   "execution_count": 30,
   "id": "8e87e2bf-99cd-4cf3-8eed-3dd2bd8bf870",
   "metadata": {
    "scrolled": true
   },
   "outputs": [],
   "source": [
    "import geopandas as gpd\n",
    "import os\n",
    "\n",
    "# Solar Energy Geopandas Graph\n",
    "solar_df_2 = EIA_renewable[(EIA_renewable['seriesId'] == 'SOTGP') & \n",
    "                         (EIA_renewable['period'] >= 2013) & \n",
    "                         (EIA_renewable['period'] <= 2023)] # Grabbing values for this 10-year period\n",
    "\n",
    "# Limiting to just the state IDs and the total value over 10 years\n",
    "state_vals_2 = solar_df_2.groupby('stateId')['value'].sum()\n",
    "state_vals_2.drop('US', inplace=True)"
   ]
  },
  {
   "cell_type": "code",
   "execution_count": 42,
   "id": "ba37d52a-d47c-4561-803a-8c5cecd574b6",
   "metadata": {},
   "outputs": [
    {
     "ename": "ValueError",
     "evalue": "Found GDAL data directory at /opt/anaconda3/share/gdal but it does not appear to correctly contain GDAL data files",
     "output_type": "error",
     "traceback": [
      "\u001b[0;31m---------------------------------------------------------------------------\u001b[0m",
      "\u001b[0;31mValueError\u001b[0m                                Traceback (most recent call last)",
      "Cell \u001b[0;32mIn[42], line 3\u001b[0m\n\u001b[1;32m      1\u001b[0m \u001b[38;5;66;03m# Merging the TIGER/Line Shapefilea data from the US Census with our filtered EIA data\u001b[39;00m\n\u001b[1;32m      2\u001b[0m os\u001b[38;5;241m.\u001b[39menviron[\u001b[38;5;124m'\u001b[39m\u001b[38;5;124mGDAL_DATA\u001b[39m\u001b[38;5;124m'\u001b[39m] \u001b[38;5;241m=\u001b[39m \u001b[38;5;124mr\u001b[39m\u001b[38;5;124m\"\u001b[39m\u001b[38;5;124m/tl_2023_us_state\u001b[39m\u001b[38;5;124m'\u001b[39m\u001b[38;5;124m\"\u001b[39m\n\u001b[0;32m----> 3\u001b[0m gdf \u001b[38;5;241m=\u001b[39m gpd\u001b[38;5;241m.\u001b[39mread_file(os\u001b[38;5;241m.\u001b[39mgetcwd()\u001b[38;5;241m+\u001b[39m\u001b[38;5;124m'\u001b[39m\u001b[38;5;124m/tl_2023_us_state\u001b[39m\u001b[38;5;124m'\u001b[39m)\n\u001b[1;32m      4\u001b[0m gdf \u001b[38;5;241m=\u001b[39m gdf\u001b[38;5;241m.\u001b[39mmerge(state_vals_2, left_on\u001b[38;5;241m=\u001b[39m\u001b[38;5;124m'\u001b[39m\u001b[38;5;124mSTUSPS\u001b[39m\u001b[38;5;124m'\u001b[39m, right_on\u001b[38;5;241m=\u001b[39m\u001b[38;5;124m'\u001b[39m\u001b[38;5;124mstateId\u001b[39m\u001b[38;5;124m'\u001b[39m, how\u001b[38;5;241m=\u001b[39m\u001b[38;5;124m'\u001b[39m\u001b[38;5;124mleft\u001b[39m\u001b[38;5;124m'\u001b[39m)\n",
      "File \u001b[0;32m/opt/anaconda3/lib/python3.12/site-packages/geopandas/io/file.py:278\u001b[0m, in \u001b[0;36m_read_file\u001b[0;34m(filename, bbox, mask, columns, rows, engine, **kwargs)\u001b[0m\n\u001b[1;32m    190\u001b[0m \u001b[38;5;28;01mdef\u001b[39;00m \u001b[38;5;21m_read_file\u001b[39m(\n\u001b[1;32m    191\u001b[0m     filename, bbox\u001b[38;5;241m=\u001b[39m\u001b[38;5;28;01mNone\u001b[39;00m, mask\u001b[38;5;241m=\u001b[39m\u001b[38;5;28;01mNone\u001b[39;00m, columns\u001b[38;5;241m=\u001b[39m\u001b[38;5;28;01mNone\u001b[39;00m, rows\u001b[38;5;241m=\u001b[39m\u001b[38;5;28;01mNone\u001b[39;00m, engine\u001b[38;5;241m=\u001b[39m\u001b[38;5;28;01mNone\u001b[39;00m, \u001b[38;5;241m*\u001b[39m\u001b[38;5;241m*\u001b[39mkwargs\n\u001b[1;32m    192\u001b[0m ):\n\u001b[1;32m    193\u001b[0m \u001b[38;5;250m    \u001b[39m\u001b[38;5;124;03m\"\"\"\u001b[39;00m\n\u001b[1;32m    194\u001b[0m \u001b[38;5;124;03m    Returns a GeoDataFrame from a file or URL.\u001b[39;00m\n\u001b[1;32m    195\u001b[0m \n\u001b[0;32m   (...)\u001b[0m\n\u001b[1;32m    276\u001b[0m \n\u001b[1;32m    277\u001b[0m \u001b[38;5;124;03m    \"\"\"\u001b[39;00m\n\u001b[0;32m--> 278\u001b[0m     engine \u001b[38;5;241m=\u001b[39m _check_engine(engine, \u001b[38;5;124m\"\u001b[39m\u001b[38;5;124m'\u001b[39m\u001b[38;5;124mread_file\u001b[39m\u001b[38;5;124m'\u001b[39m\u001b[38;5;124m function\u001b[39m\u001b[38;5;124m\"\u001b[39m)\n\u001b[1;32m    280\u001b[0m     filename \u001b[38;5;241m=\u001b[39m _expand_user(filename)\n\u001b[1;32m    282\u001b[0m     from_bytes \u001b[38;5;241m=\u001b[39m \u001b[38;5;28;01mFalse\u001b[39;00m\n",
      "File \u001b[0;32m/opt/anaconda3/lib/python3.12/site-packages/geopandas/io/file.py:124\u001b[0m, in \u001b[0;36m_check_engine\u001b[0;34m(engine, func)\u001b[0m\n\u001b[1;32m    121\u001b[0m     engine \u001b[38;5;241m=\u001b[39m geopandas\u001b[38;5;241m.\u001b[39moptions\u001b[38;5;241m.\u001b[39mio_engine\n\u001b[1;32m    123\u001b[0m \u001b[38;5;28;01mif\u001b[39;00m engine \u001b[38;5;129;01mis\u001b[39;00m \u001b[38;5;28;01mNone\u001b[39;00m:\n\u001b[0;32m--> 124\u001b[0m     _import_pyogrio()\n\u001b[1;32m    125\u001b[0m     \u001b[38;5;28;01mif\u001b[39;00m pyogrio:\n\u001b[1;32m    126\u001b[0m         engine \u001b[38;5;241m=\u001b[39m \u001b[38;5;124m\"\u001b[39m\u001b[38;5;124mpyogrio\u001b[39m\u001b[38;5;124m\"\u001b[39m\n",
      "File \u001b[0;32m/opt/anaconda3/lib/python3.12/site-packages/geopandas/io/file.py:77\u001b[0m, in \u001b[0;36m_import_pyogrio\u001b[0;34m()\u001b[0m\n\u001b[1;32m     75\u001b[0m \u001b[38;5;28;01mif\u001b[39;00m pyogrio \u001b[38;5;129;01mis\u001b[39;00m \u001b[38;5;28;01mNone\u001b[39;00m:\n\u001b[1;32m     76\u001b[0m     \u001b[38;5;28;01mtry\u001b[39;00m:\n\u001b[0;32m---> 77\u001b[0m         \u001b[38;5;28;01mimport\u001b[39;00m \u001b[38;5;21;01mpyogrio\u001b[39;00m\n\u001b[1;32m     79\u001b[0m     \u001b[38;5;28;01mexcept\u001b[39;00m \u001b[38;5;167;01mImportError\u001b[39;00m \u001b[38;5;28;01mas\u001b[39;00m err:\n\u001b[1;32m     80\u001b[0m         pyogrio \u001b[38;5;241m=\u001b[39m \u001b[38;5;28;01mFalse\u001b[39;00m\n",
      "File \u001b[0;32m/opt/anaconda3/lib/python3.12/site-packages/pyogrio/__init__.py:12\u001b[0m\n\u001b[1;32m      9\u001b[0m     \u001b[38;5;28;01mpass\u001b[39;00m\n\u001b[1;32m     11\u001b[0m \u001b[38;5;28;01mfrom\u001b[39;00m \u001b[38;5;21;01mpyogrio\u001b[39;00m\u001b[38;5;21;01m.\u001b[39;00m\u001b[38;5;21;01m_version\u001b[39;00m \u001b[38;5;28;01mimport\u001b[39;00m get_versions\n\u001b[0;32m---> 12\u001b[0m \u001b[38;5;28;01mfrom\u001b[39;00m \u001b[38;5;21;01mpyogrio\u001b[39;00m\u001b[38;5;21;01m.\u001b[39;00m\u001b[38;5;21;01mcore\u001b[39;00m \u001b[38;5;28;01mimport\u001b[39;00m (\n\u001b[1;32m     13\u001b[0m     __gdal_geos_version__,\n\u001b[1;32m     14\u001b[0m     __gdal_version__,\n\u001b[1;32m     15\u001b[0m     __gdal_version_string__,\n\u001b[1;32m     16\u001b[0m     detect_write_driver,\n\u001b[1;32m     17\u001b[0m     get_gdal_config_option,\n\u001b[1;32m     18\u001b[0m     get_gdal_data_path,\n\u001b[1;32m     19\u001b[0m     list_drivers,\n\u001b[1;32m     20\u001b[0m     list_layers,\n\u001b[1;32m     21\u001b[0m     read_bounds,\n\u001b[1;32m     22\u001b[0m     read_info,\n\u001b[1;32m     23\u001b[0m     set_gdal_config_options,\n\u001b[1;32m     24\u001b[0m     vsi_listtree,\n\u001b[1;32m     25\u001b[0m     vsi_rmtree,\n\u001b[1;32m     26\u001b[0m     vsi_unlink,\n\u001b[1;32m     27\u001b[0m )\n\u001b[1;32m     28\u001b[0m \u001b[38;5;28;01mfrom\u001b[39;00m \u001b[38;5;21;01mpyogrio\u001b[39;00m\u001b[38;5;21;01m.\u001b[39;00m\u001b[38;5;21;01mgeopandas\u001b[39;00m \u001b[38;5;28;01mimport\u001b[39;00m read_dataframe, write_dataframe\n\u001b[1;32m     29\u001b[0m \u001b[38;5;28;01mfrom\u001b[39;00m \u001b[38;5;21;01mpyogrio\u001b[39;00m\u001b[38;5;21;01m.\u001b[39;00m\u001b[38;5;21;01mraw\u001b[39;00m \u001b[38;5;28;01mimport\u001b[39;00m open_arrow, read_arrow, write_arrow\n",
      "File \u001b[0;32m/opt/anaconda3/lib/python3.12/site-packages/pyogrio/core.py:35\u001b[0m\n\u001b[1;32m     16\u001b[0m \u001b[38;5;28;01mfrom\u001b[39;00m \u001b[38;5;21;01mpyogrio\u001b[39;00m\u001b[38;5;21;01m.\u001b[39;00m\u001b[38;5;21;01m_ogr\u001b[39;00m \u001b[38;5;28;01mimport\u001b[39;00m (\n\u001b[1;32m     17\u001b[0m     _get_drivers_for_path,\n\u001b[1;32m     18\u001b[0m     _register_drivers,\n\u001b[0;32m   (...)\u001b[0m\n\u001b[1;32m     27\u001b[0m     set_gdal_config_options \u001b[38;5;28;01mas\u001b[39;00m _set_gdal_config_options,\n\u001b[1;32m     28\u001b[0m )\n\u001b[1;32m     29\u001b[0m \u001b[38;5;28;01mfrom\u001b[39;00m \u001b[38;5;21;01mpyogrio\u001b[39;00m\u001b[38;5;21;01m.\u001b[39;00m\u001b[38;5;21;01m_vsi\u001b[39;00m \u001b[38;5;28;01mimport\u001b[39;00m (\n\u001b[1;32m     30\u001b[0m     ogr_vsi_listtree,\n\u001b[1;32m     31\u001b[0m     ogr_vsi_rmtree,\n\u001b[1;32m     32\u001b[0m     ogr_vsi_unlink,\n\u001b[1;32m     33\u001b[0m )\n\u001b[0;32m---> 35\u001b[0m _init_gdal_data()\n\u001b[1;32m     36\u001b[0m _init_proj_data()\n\u001b[1;32m     37\u001b[0m _register_drivers()\n",
      "File \u001b[0;32mpyogrio/_ogr.pyx:221\u001b[0m, in \u001b[0;36mpyogrio._ogr.init_gdal_data\u001b[0;34m()\u001b[0m\n",
      "\u001b[0;31mValueError\u001b[0m: Found GDAL data directory at /opt/anaconda3/share/gdal but it does not appear to correctly contain GDAL data files"
     ]
    }
   ],
   "source": [
    "# Merging the TIGER/Line Shapefilea data from the US Census with our filtered EIA data\n",
    "os.environ['GDAL_DATA'] = r\"/tl_2023_us_state'\"\n",
    "gdf = gpd.read_file(os.getcwd()+'/tl_2023_us_state')\n",
    "gdf = gdf.merge(state_vals_2, left_on='STUSPS', right_on='stateId', how='left')"
   ]
  },
  {
   "cell_type": "code",
   "execution_count": 44,
   "id": "9d500274-b09f-4999-b26d-aa5b1f44f076",
   "metadata": {},
   "outputs": [
    {
     "ename": "NameError",
     "evalue": "name 'gdf' is not defined",
     "output_type": "error",
     "traceback": [
      "\u001b[0;31m---------------------------------------------------------------------------\u001b[0m",
      "\u001b[0;31mNameError\u001b[0m                                 Traceback (most recent call last)",
      "Cell \u001b[0;32mIn[44], line 2\u001b[0m\n\u001b[1;32m      1\u001b[0m \u001b[38;5;66;03m# Filtering out Alaska and Hawaii for a cleaner graph\u001b[39;00m\n\u001b[0;32m----> 2\u001b[0m continental_us \u001b[38;5;241m=\u001b[39m gdf[\u001b[38;5;241m~\u001b[39mgdf[\u001b[38;5;124m'\u001b[39m\u001b[38;5;124mSTUSPS\u001b[39m\u001b[38;5;124m'\u001b[39m]\u001b[38;5;241m.\u001b[39misin([\u001b[38;5;124m'\u001b[39m\u001b[38;5;124mAK\u001b[39m\u001b[38;5;124m'\u001b[39m, \u001b[38;5;124m'\u001b[39m\u001b[38;5;124mHI\u001b[39m\u001b[38;5;124m'\u001b[39m])]\n\u001b[1;32m      3\u001b[0m \u001b[38;5;66;03m# Creating the graph\u001b[39;00m\n\u001b[1;32m      4\u001b[0m fig, ax \u001b[38;5;241m=\u001b[39m plt\u001b[38;5;241m.\u001b[39msubplots(figsize\u001b[38;5;241m=\u001b[39m(\u001b[38;5;241m12\u001b[39m, \u001b[38;5;241m5\u001b[39m))\n",
      "\u001b[0;31mNameError\u001b[0m: name 'gdf' is not defined"
     ]
    }
   ],
   "source": [
    "# Filtering out Alaska and Hawaii for a cleaner graph\n",
    "continental_us = gdf[~gdf['STUSPS'].isin(['AK', 'HI'])]\n",
    "# Creating the graph\n",
    "fig, ax = plt.subplots(figsize=(12, 5))\n",
    "ax.axis('off')\n",
    "plot = continental_us.plot(column='value', ax=ax, legend=True, cmap='viridis', legend_kwds={'label': \"Energy (MM kWh)\"})\n",
    "ax.set_title('State Total Net Solar Generation\\n2013-2023', fontdict={'fontsize': 17, 'fontweight': 'bold'})\n",
    "plt.savefig('map_solar_states.png')\n",
    "plt.show()"
   ]
  },
  {
   "cell_type": "code",
   "execution_count": null,
   "id": "fcaa5dc6-8816-4b0d-9ff8-fdee8e346909",
   "metadata": {
    "scrolled": true
   },
   "outputs": [],
   "source": [
    "# Wind Energy Geopandas Graph\n",
    "wind_df = EIA_renewable[(EIA_renewable['seriesId'] == 'WYTCP') & \n",
    "                         (EIA_renewable['period'] >= 2013) & \n",
    "                         (EIA_renewable['period'] <= 2023)]\n",
    "\n",
    "state_vals_3 = wind_df.groupby('stateId')['value'].sum()\n",
    "state_vals_3.drop('US', inplace=True)"
   ]
  },
  {
   "cell_type": "code",
   "execution_count": null,
   "id": "73c22689-2be5-4599-bb98-f5487638299c",
   "metadata": {},
   "outputs": [],
   "source": [
    "os.environ['GDAL_DATA'] = r\"C:\\Users\\Mina\\anaconda3\\Library\\share\\gdal\"\n",
    "gdf_2 = gpd.read_file(os.getcwd()+'/tl_2023_us_state')\n",
    "gdf_2 = gdf_2.merge(state_vals_3, left_on='STUSPS', right_on='stateId', how='left')"
   ]
  },
  {
   "cell_type": "code",
   "execution_count": null,
   "id": "16d620ab-e78b-4b1a-8d20-7017bee30b3d",
   "metadata": {},
   "outputs": [],
   "source": [
    "continental_us_2 = gdf_2[~gdf_2['STUSPS'].isin(['AK', 'HI'])]\n",
    "fig, ax = plt.subplots(figsize=(12, 5))\n",
    "ax.axis('off')\n",
    "plot = continental_us_2.plot(column='value', ax=ax, legend=True, cmap='viridis', legend_kwds={'label': \"Energy (MM kWh)\"})\n",
    "ax.set_title('State Total Net Wind Generation\\n2013-2023', fontdict={'fontsize': 17, 'fontweight': 'bold'})\n",
    "plt.savefig('map_wind_states.png')\n",
    "plt.show()"
   ]
  },
  {
   "cell_type": "code",
   "execution_count": null,
   "id": "79862c4d-1561-49b4-8be5-71c1edfbe0f3",
   "metadata": {},
   "outputs": [],
   "source": [
    "# US Total Solar Graph\n",
    "us_solar_df = EIA_renewable[EIA_renewable['seriesId'] == 'SOTGP']\n",
    "us_solar_values = us_solar_df[us_solar_df['stateId'] == 'US']\n",
    "\n",
    "plt.bar(us_solar_values['period'], us_solar_values['value'])\n",
    "\n",
    "plt.xlabel('Year')\n",
    "plt.ylabel('Energy (MM kWh)')\n",
    "plt.title('United States - Solar Total Net Generation')\n",
    "plt.savefig('us_solar_total.png', bbox_inches='tight')\n",
    "plt.show()"
   ]
  },
  {
   "cell_type": "code",
   "execution_count": null,
   "id": "af69a81e-c0ba-4023-bf64-04c9911fe5ea",
   "metadata": {},
   "outputs": [],
   "source": [
    "# US Total Wind Graph\n",
    "us_wind_df = EIA_renewable[EIA_renewable['seriesId'] == 'WYTCP']\n",
    "us_wind_values = us_wind_df[us_wind_df['stateId'] == 'US']\n",
    "\n",
    "plt.bar(us_wind_values['period'], us_wind_values['value'])\n",
    "\n",
    "plt.xlabel('Year')\n",
    "plt.ylabel('Energy (MM kWh)')\n",
    "plt.title('United States - Wind Total Net Generation')\n",
    "plt.savefig('us_wind_total.png', bbox_inches='tight')\n",
    "plt.show()"
   ]
  },
  {
   "cell_type": "markdown",
   "id": "144b60cc-c6d0-4afd-8a83-cf7f2c356be4",
   "metadata": {},
   "source": [
    "<hr>"
   ]
  },
  {
   "cell_type": "markdown",
   "id": "649830c3-48ec-4a07-8f01-41727b46d82d",
   "metadata": {},
   "source": [
    "#### Getting the Extreme Weather data"
   ]
  },
  {
   "cell_type": "code",
   "execution_count": null,
   "id": "4d6a287b-b1c5-42ab-bf07-c4f278e2df4b",
   "metadata": {},
   "outputs": [],
   "source": [
    "pip install openpyxl"
   ]
  },
  {
   "cell_type": "code",
   "execution_count": null,
   "id": "7e7f87f0-bace-4de8-913b-44981ff234bb",
   "metadata": {},
   "outputs": [],
   "source": [
    "import openpyxl\n",
    "df_data = pd.read_excel(\"exWeather_PV_data.xlsx\", sheet_name=\"data\")\n",
    "df_data.info()"
   ]
  },
  {
   "cell_type": "code",
   "execution_count": null,
   "id": "3ccf1698-7233-4e3a-af4d-63ca3c8644e7",
   "metadata": {},
   "outputs": [],
   "source": [
    "df_data.head()"
   ]
  },
  {
   "cell_type": "code",
   "execution_count": null,
   "id": "9081c721-11f5-4480-9194-244892eb7a5d",
   "metadata": {},
   "outputs": [],
   "source": [
    "df_data.describe()"
   ]
  },
  {
   "cell_type": "code",
   "execution_count": null,
   "id": "1f6f3932-c1f9-4b0f-85f5-4a93069be0e3",
   "metadata": {},
   "outputs": [],
   "source": [
    "# Show only columns with missing values\n",
    "missing = df_data.isnull().sum()\n",
    "missing = missing[missing > 0].sort_values(ascending=False)\n",
    "missing"
   ]
  },
  {
   "cell_type": "markdown",
   "id": "c4d10871-ebb9-4373-8386-306e51d3bd25",
   "metadata": {},
   "source": [
    "#### Visualising the Extreme Weather data"
   ]
  },
  {
   "cell_type": "code",
   "execution_count": null,
   "id": "2b43c789-06ec-4359-83e5-8b24c214e3f8",
   "metadata": {},
   "outputs": [],
   "source": [
    "import matplotlib.pyplot as plt\n",
    "import seaborn as sns"
   ]
  },
  {
   "cell_type": "code",
   "execution_count": null,
   "id": "c776b078-8f2e-4cf3-842a-c80955eb32b0",
   "metadata": {},
   "outputs": [],
   "source": [
    "df_data[['Date', 'snow_value_mm', 'duration_minutes_storm', 'rain_value_mm', 'wind_speed_mean']].describe()"
   ]
  },
  {
   "cell_type": "code",
   "execution_count": null,
   "id": "d95b9830-7f6f-4f58-a89f-66ee22445455",
   "metadata": {},
   "outputs": [],
   "source": [
    "ax =(df_data[['snow_value_mm', 'rain_value_mm']].mean().plot(kind='bar', title='Weather Impact on Photovoltaic Plant Performance (2018-2020)', ylabel='Mean (millimeters)', rot=45))\n",
    "ax.set_xticklabels(['Snow', 'Rain'])\n",
    "plt.savefig('snow_rain_impact.png', bbox_inches='tight')"
   ]
  },
  {
   "cell_type": "code",
   "execution_count": null,
   "id": "a992de98-bb9c-4788-bda3-c045e07c31b3",
   "metadata": {},
   "outputs": [],
   "source": [
    "# Storm Duration\n",
    "plt.figure(figsize=(10, 5))\n",
    "plt.plot(df_data['Date'], df_data['duration_minutes_storm'], color='blue')\n",
    "plt.title('Storm Duration Impact on Photovoltaic Plant Performance (2018-2020)')\n",
    "plt.xlabel('Date')\n",
    "plt.ylabel('Duration (minutes)')\n",
    "plt.grid(True)\n",
    "plt.xticks(rotation=45)\n",
    "plt.tight_layout()\n",
    "plt.savefig('storm_duration_impact.png', bbox_inches='tight')\n",
    "plt.show()\n",
    "\n",
    "# Wind Speed\n",
    "plt.figure(figsize=(10, 5))\n",
    "plt.plot(df_data['Date'], df_data['wind_speed_mean'], color='green')\n",
    "plt.title('Wind Speed Impact on Photovoltaic Plant Performance (2018-2020)')\n",
    "plt.xlabel('Date')\n",
    "plt.ylabel('Mean')\n",
    "plt.grid(True)\n",
    "plt.xticks(rotation=45)\n",
    "plt.tight_layout()\n",
    "plt.savefig('wind_speed_impact.png', bbox_inches='tight')\n",
    "plt.show()\n"
   ]
  },
  {
   "cell_type": "code",
   "execution_count": null,
   "id": "7f07fa21-95d9-4d43-be4e-8b428c3206a8",
   "metadata": {},
   "outputs": [],
   "source": [
    "sns.heatmap(\n",
    "    df_data[['snow_value_mm', 'duration_minutes_storm', 'rain_value_mm', 'wind_speed_mean']].corr(), \n",
    "    annot=True, \n",
    "    cmap='coolwarm',\n",
    "    xticklabels=['Snow', 'Storm', 'Rain', 'Wind'], \n",
    "    yticklabels=['Snow', 'Storm', 'Rain', 'Wind']\n",
    ")\n",
    "plt.title('Correlation Matrix: Extreme Weather Features')\n",
    "plt.savefig('impact_corr_matrix.png', bbox_inches='tight')\n",
    "plt.show()\n"
   ]
  },
  {
   "cell_type": "markdown",
   "id": "30dff0c5-cbfd-4d1d-8ace-7e3556fd1112",
   "metadata": {},
   "source": [
    "<hr>"
   ]
  },
  {
   "cell_type": "markdown",
   "id": "b44eb676-7163-4308-bed3-ea7b653db433",
   "metadata": {},
   "source": [
    "#### Cleaning the SEDS data"
   ]
  },
  {
   "cell_type": "code",
   "execution_count": 46,
   "id": "04620373-cdd1-44b9-afa4-88350d95dea3",
   "metadata": {},
   "outputs": [
    {
     "data": {
      "text/html": [
       "<div>\n",
       "<style scoped>\n",
       "    .dataframe tbody tr th:only-of-type {\n",
       "        vertical-align: middle;\n",
       "    }\n",
       "\n",
       "    .dataframe tbody tr th {\n",
       "        vertical-align: top;\n",
       "    }\n",
       "\n",
       "    .dataframe thead th {\n",
       "        text-align: right;\n",
       "    }\n",
       "</style>\n",
       "<table border=\"1\" class=\"dataframe\">\n",
       "  <thead>\n",
       "    <tr style=\"text-align: right;\">\n",
       "      <th></th>\n",
       "      <th>Unnamed: 0</th>\n",
       "      <th>period</th>\n",
       "      <th>seriesId</th>\n",
       "      <th>seriesDescription</th>\n",
       "      <th>stateId</th>\n",
       "      <th>stateDescription</th>\n",
       "      <th>value</th>\n",
       "      <th>unit</th>\n",
       "    </tr>\n",
       "  </thead>\n",
       "  <tbody>\n",
       "    <tr>\n",
       "      <th>0</th>\n",
       "      <td>0</td>\n",
       "      <td>2021</td>\n",
       "      <td>ZWHDP</td>\n",
       "      <td>Heating degree days (HDD)</td>\n",
       "      <td>VA</td>\n",
       "      <td>Virginia</td>\n",
       "      <td>3927.0</td>\n",
       "      <td>Days</td>\n",
       "    </tr>\n",
       "    <tr>\n",
       "      <th>1</th>\n",
       "      <td>1</td>\n",
       "      <td>2023</td>\n",
       "      <td>ZWHDP</td>\n",
       "      <td>Heating degree days (HDD)</td>\n",
       "      <td>FL</td>\n",
       "      <td>Florida</td>\n",
       "      <td>428.0</td>\n",
       "      <td>Days</td>\n",
       "    </tr>\n",
       "    <tr>\n",
       "      <th>2</th>\n",
       "      <td>2</td>\n",
       "      <td>2023</td>\n",
       "      <td>ZWHDP</td>\n",
       "      <td>Heating degree days (HDD)</td>\n",
       "      <td>DE</td>\n",
       "      <td>Delaware</td>\n",
       "      <td>3844.0</td>\n",
       "      <td>Days</td>\n",
       "    </tr>\n",
       "    <tr>\n",
       "      <th>3</th>\n",
       "      <td>3</td>\n",
       "      <td>2023</td>\n",
       "      <td>ZWHDP</td>\n",
       "      <td>Heating degree days (HDD)</td>\n",
       "      <td>DC</td>\n",
       "      <td>District of Columbia</td>\n",
       "      <td>3272.0</td>\n",
       "      <td>Days</td>\n",
       "    </tr>\n",
       "    <tr>\n",
       "      <th>4</th>\n",
       "      <td>4</td>\n",
       "      <td>2023</td>\n",
       "      <td>ZWHDP</td>\n",
       "      <td>Heating degree days (HDD)</td>\n",
       "      <td>AL</td>\n",
       "      <td>Alabama</td>\n",
       "      <td>2153.0</td>\n",
       "      <td>Days</td>\n",
       "    </tr>\n",
       "  </tbody>\n",
       "</table>\n",
       "</div>"
      ],
      "text/plain": [
       "   Unnamed: 0  period seriesId          seriesDescription stateId  \\\n",
       "0           0    2021    ZWHDP  Heating degree days (HDD)      VA   \n",
       "1           1    2023    ZWHDP  Heating degree days (HDD)      FL   \n",
       "2           2    2023    ZWHDP  Heating degree days (HDD)      DE   \n",
       "3           3    2023    ZWHDP  Heating degree days (HDD)      DC   \n",
       "4           4    2023    ZWHDP  Heating degree days (HDD)      AL   \n",
       "\n",
       "       stateDescription   value  unit  \n",
       "0              Virginia  3927.0  Days  \n",
       "1               Florida   428.0  Days  \n",
       "2              Delaware  3844.0  Days  \n",
       "3  District of Columbia  3272.0  Days  \n",
       "4               Alabama  2153.0  Days  "
      ]
     },
     "execution_count": 46,
     "metadata": {},
     "output_type": "execute_result"
    }
   ],
   "source": [
    "# Load CSV\n",
    "df_seds = pd.read_csv(r\"EIA_raw.csv\")\n",
    "df_seds.head()"
   ]
  },
  {
   "cell_type": "code",
   "execution_count": 47,
   "id": "5225e2fc-c1ce-4262-9253-3a5e0a3fdee9",
   "metadata": {},
   "outputs": [
    {
     "data": {
      "text/plain": [
       "Unnamed: 0           2242317\n",
       "period               2242317\n",
       "seriesId             2242317\n",
       "seriesDescription    2242317\n",
       "stateId              2242317\n",
       "stateDescription     2242317\n",
       "value                2242317\n",
       "unit                 2242317\n",
       "dtype: int64"
      ]
     },
     "execution_count": 47,
     "metadata": {},
     "output_type": "execute_result"
    }
   ],
   "source": [
    "df_seds.count()"
   ]
  },
  {
   "cell_type": "code",
   "execution_count": 48,
   "id": "1b045f7a-7dcf-4a97-bd6d-be3951ef2978",
   "metadata": {},
   "outputs": [
    {
     "name": "stdout",
     "output_type": "stream",
     "text": [
      "<class 'pandas.core.frame.DataFrame'>\n",
      "RangeIndex: 2242317 entries, 0 to 2242316\n",
      "Data columns (total 8 columns):\n",
      " #   Column             Dtype  \n",
      "---  ------             -----  \n",
      " 0   Unnamed: 0         int64  \n",
      " 1   period             int64  \n",
      " 2   seriesId           object \n",
      " 3   seriesDescription  object \n",
      " 4   stateId            object \n",
      " 5   stateDescription   object \n",
      " 6   value              float64\n",
      " 7   unit               object \n",
      "dtypes: float64(1), int64(2), object(5)\n",
      "memory usage: 136.9+ MB\n",
      "None\n"
     ]
    }
   ],
   "source": [
    "print(df_seds.info())"
   ]
  },
  {
   "cell_type": "code",
   "execution_count": 49,
   "id": "fc4acd6e-5431-4dfd-862b-3abf9cd119ee",
   "metadata": {},
   "outputs": [
    {
     "name": "stdout",
     "output_type": "stream",
     "text": [
      "Unnamed: 0           0\n",
      "period               0\n",
      "seriesId             0\n",
      "seriesDescription    0\n",
      "stateId              0\n",
      "stateDescription     0\n",
      "value                0\n",
      "unit                 0\n",
      "dtype: int64\n"
     ]
    }
   ],
   "source": [
    "print(df_seds.isnull().sum())"
   ]
  },
  {
   "cell_type": "code",
   "execution_count": 54,
   "id": "bfdb0241-31c4-418f-8def-dfb671169f26",
   "metadata": {},
   "outputs": [
    {
     "name": "stdout",
     "output_type": "stream",
     "text": [
      "seriesId: 886 unique values\n",
      "['ZWHDP' 'ZWCDP' 'WZTCB' 'WZEIB' 'WYTXP' 'WYTXB' 'WYTCP' 'WYTCB' 'WYICP'\n",
      " 'WYICB']\n",
      "----------------------------------------\n",
      "seriesDescription: 712 unique values\n",
      "['Heating degree days (HDD)' 'Cooling degree days (CDD)'\n",
      " 'Waste, excluding biodiesel, total consumption'\n",
      " 'Waste, excluding biodiesel, consumed by the electric power sector'\n",
      " 'Wind energy total end-use net generation'\n",
      " 'Wind energy total end-use consumption'\n",
      " 'Wind electricity total net generation' 'Wind energy total consumption'\n",
      " 'Wind electricity net generation in the industrial sector'\n",
      " 'Wind energy consumed by the industrial sector']\n",
      "----------------------------------------\n",
      "stateId: 52 unique values\n",
      "['VA' 'FL' 'DE' 'DC' 'AL' 'AK' 'WI' 'CT' 'WA' 'VT']\n",
      "----------------------------------------\n",
      "stateDescription: 52 unique values\n",
      "['Virginia' 'Florida' 'Delaware' 'District of Columbia' 'Alabama' 'Alaska'\n",
      " 'Wisconsin' 'Connecticut' 'Washington' 'Vermont']\n",
      "----------------------------------------\n",
      "unit: 25 unique values\n",
      "['Days' 'Billion Btu' 'Million kilowatthours' 'Thousand kilowatts'\n",
      " 'Percent' 'Million dollars' 'Thousand barrels' 'Dollars per million Btu'\n",
      " 'Thousand' 'Dollars']\n",
      "----------------------------------------\n",
      "         Unnamed: 0        period         value\n",
      "count  2.242317e+06  2.242317e+06  2.242317e+06\n",
      "mean   1.121158e+06  1.994060e+03  9.567745e+04\n",
      "std    6.473013e+05  1.776631e+01  1.280035e+06\n",
      "min    0.000000e+00  1.960000e+03 -7.566390e+05\n",
      "25%    5.605790e+05  1.979000e+03  4.000000e-01\n",
      "50%    1.121158e+06  1.995000e+03  8.920000e+01\n",
      "75%    1.681737e+06  2.010000e+03  6.476000e+03\n",
      "max    2.242316e+06  2.023000e+03  9.898776e+07\n"
     ]
    }
   ],
   "source": [
    "for col in df_seds.select_dtypes(include='object').columns:\n",
    "    print(f\"{col}: {df_seds[col].nunique()} unique values\")\n",
    "    print(df_seds[col].unique()[:10])  # Print first 10 unique values\n",
    "    print(\"-\" * 40)\n",
    "\n",
    "print(df_seds.describe())\n"
   ]
  },
  {
   "cell_type": "code",
   "execution_count": 56,
   "id": "eb1c57d9-b73a-4d9b-be9c-84760f249c30",
   "metadata": {},
   "outputs": [
    {
     "name": "stdout",
     "output_type": "stream",
     "text": [
      "<class 'pandas.core.frame.DataFrame'>\n",
      "Index: 1903 entries, 19864 to 310751\n",
      "Data columns (total 7 columns):\n",
      " #   Column             Non-Null Count  Dtype   \n",
      "---  ------             --------------  -----   \n",
      " 0   period             1903 non-null   int64   \n",
      " 1   seriesId           1903 non-null   category\n",
      " 2   seriesDescription  1903 non-null   category\n",
      " 3   stateId            1903 non-null   category\n",
      " 4   stateDescription   1903 non-null   category\n",
      " 5   value              1903 non-null   float64 \n",
      " 6   unit               1903 non-null   category\n",
      "dtypes: category(5), float64(1), int64(1)\n",
      "memory usage: 59.2 KB\n"
     ]
    }
   ],
   "source": [
    "# Filter to keep only solar and wind energy\n",
    "df_seds = df_seds[df_seds['seriesId'].isin(['SOTGP', 'WYTCP'])]\n",
    "\n",
    "# Remove rows where net power generation is zero\n",
    "df_seds = df_seds[df_seds['value'] != 0]\n",
    "\n",
    "# Drop index column if it's just a leftover\n",
    "df_seds = df_seds.drop(columns=['Unnamed: 0'])\n",
    "\n",
    "# Drop rows where target is missing\n",
    "df_seds = df_seds[df_seds['value'].notna()]\n",
    "\n",
    "df_seds[['seriesId', 'seriesDescription', 'stateId', 'stateDescription', 'unit']] = df_seds[['seriesId', 'seriesDescription', 'stateId', 'stateDescription', 'unit']].astype('category')\n",
    "\n",
    "# Show columns for sanity check\n",
    "df_seds.info()"
   ]
  },
  {
   "cell_type": "code",
   "execution_count": 58,
   "id": "64ce887d-db42-4715-bed2-8797925acfd6",
   "metadata": {},
   "outputs": [
    {
     "data": {
      "text/html": [
       "<div>\n",
       "<style scoped>\n",
       "    .dataframe tbody tr th:only-of-type {\n",
       "        vertical-align: middle;\n",
       "    }\n",
       "\n",
       "    .dataframe tbody tr th {\n",
       "        vertical-align: top;\n",
       "    }\n",
       "\n",
       "    .dataframe thead th {\n",
       "        text-align: right;\n",
       "    }\n",
       "</style>\n",
       "<table border=\"1\" class=\"dataframe\">\n",
       "  <thead>\n",
       "    <tr style=\"text-align: right;\">\n",
       "      <th></th>\n",
       "      <th>period</th>\n",
       "      <th>seriesId</th>\n",
       "      <th>seriesDescription</th>\n",
       "      <th>stateId</th>\n",
       "      <th>stateDescription</th>\n",
       "      <th>unit</th>\n",
       "      <th>value_wind</th>\n",
       "      <th>value_solar</th>\n",
       "    </tr>\n",
       "  </thead>\n",
       "  <tbody>\n",
       "    <tr>\n",
       "      <th>19864</th>\n",
       "      <td>2012</td>\n",
       "      <td>WYTCP</td>\n",
       "      <td>Wind electricity total net generation</td>\n",
       "      <td>UT</td>\n",
       "      <td>Utah</td>\n",
       "      <td>Million kilowatthours</td>\n",
       "      <td>704.0</td>\n",
       "      <td>NaN</td>\n",
       "    </tr>\n",
       "    <tr>\n",
       "      <th>19866</th>\n",
       "      <td>2014</td>\n",
       "      <td>WYTCP</td>\n",
       "      <td>Wind electricity total net generation</td>\n",
       "      <td>TX</td>\n",
       "      <td>Texas</td>\n",
       "      <td>Million kilowatthours</td>\n",
       "      <td>40005.0</td>\n",
       "      <td>NaN</td>\n",
       "    </tr>\n",
       "    <tr>\n",
       "      <th>19867</th>\n",
       "      <td>2014</td>\n",
       "      <td>WYTCP</td>\n",
       "      <td>Wind electricity total net generation</td>\n",
       "      <td>OH</td>\n",
       "      <td>Ohio</td>\n",
       "      <td>Million kilowatthours</td>\n",
       "      <td>1153.0</td>\n",
       "      <td>NaN</td>\n",
       "    </tr>\n",
       "    <tr>\n",
       "      <th>19868</th>\n",
       "      <td>2014</td>\n",
       "      <td>WYTCP</td>\n",
       "      <td>Wind electricity total net generation</td>\n",
       "      <td>WA</td>\n",
       "      <td>Washington</td>\n",
       "      <td>Million kilowatthours</td>\n",
       "      <td>7268.0</td>\n",
       "      <td>NaN</td>\n",
       "    </tr>\n",
       "    <tr>\n",
       "      <th>19869</th>\n",
       "      <td>2014</td>\n",
       "      <td>WYTCP</td>\n",
       "      <td>Wind electricity total net generation</td>\n",
       "      <td>SD</td>\n",
       "      <td>South Dakota</td>\n",
       "      <td>Million kilowatthours</td>\n",
       "      <td>2336.0</td>\n",
       "      <td>NaN</td>\n",
       "    </tr>\n",
       "    <tr>\n",
       "      <th>...</th>\n",
       "      <td>...</td>\n",
       "      <td>...</td>\n",
       "      <td>...</td>\n",
       "      <td>...</td>\n",
       "      <td>...</td>\n",
       "      <td>...</td>\n",
       "      <td>...</td>\n",
       "      <td>...</td>\n",
       "    </tr>\n",
       "    <tr>\n",
       "      <th>310747</th>\n",
       "      <td>2022</td>\n",
       "      <td>SOTGP</td>\n",
       "      <td>Solar thermal and photovoltaic electricity tot...</td>\n",
       "      <td>CO</td>\n",
       "      <td>Colorado</td>\n",
       "      <td>Million kilowatthours</td>\n",
       "      <td>NaN</td>\n",
       "      <td>3772.0</td>\n",
       "    </tr>\n",
       "    <tr>\n",
       "      <th>310748</th>\n",
       "      <td>2022</td>\n",
       "      <td>SOTGP</td>\n",
       "      <td>Solar thermal and photovoltaic electricity tot...</td>\n",
       "      <td>CA</td>\n",
       "      <td>California</td>\n",
       "      <td>Million kilowatthours</td>\n",
       "      <td>NaN</td>\n",
       "      <td>62910.0</td>\n",
       "    </tr>\n",
       "    <tr>\n",
       "      <th>310749</th>\n",
       "      <td>2022</td>\n",
       "      <td>SOTGP</td>\n",
       "      <td>Solar thermal and photovoltaic electricity tot...</td>\n",
       "      <td>CT</td>\n",
       "      <td>Connecticut</td>\n",
       "      <td>Million kilowatthours</td>\n",
       "      <td>NaN</td>\n",
       "      <td>1470.0</td>\n",
       "    </tr>\n",
       "    <tr>\n",
       "      <th>310750</th>\n",
       "      <td>2022</td>\n",
       "      <td>SOTGP</td>\n",
       "      <td>Solar thermal and photovoltaic electricity tot...</td>\n",
       "      <td>HI</td>\n",
       "      <td>Hawaii</td>\n",
       "      <td>Million kilowatthours</td>\n",
       "      <td>NaN</td>\n",
       "      <td>1882.0</td>\n",
       "    </tr>\n",
       "    <tr>\n",
       "      <th>310751</th>\n",
       "      <td>2022</td>\n",
       "      <td>SOTGP</td>\n",
       "      <td>Solar thermal and photovoltaic electricity tot...</td>\n",
       "      <td>US</td>\n",
       "      <td>United States</td>\n",
       "      <td>Million kilowatthours</td>\n",
       "      <td>NaN</td>\n",
       "      <td>205074.0</td>\n",
       "    </tr>\n",
       "  </tbody>\n",
       "</table>\n",
       "<p>1903 rows × 8 columns</p>\n",
       "</div>"
      ],
      "text/plain": [
       "        period seriesId                                  seriesDescription  \\\n",
       "19864     2012    WYTCP              Wind electricity total net generation   \n",
       "19866     2014    WYTCP              Wind electricity total net generation   \n",
       "19867     2014    WYTCP              Wind electricity total net generation   \n",
       "19868     2014    WYTCP              Wind electricity total net generation   \n",
       "19869     2014    WYTCP              Wind electricity total net generation   \n",
       "...        ...      ...                                                ...   \n",
       "310747    2022    SOTGP  Solar thermal and photovoltaic electricity tot...   \n",
       "310748    2022    SOTGP  Solar thermal and photovoltaic electricity tot...   \n",
       "310749    2022    SOTGP  Solar thermal and photovoltaic electricity tot...   \n",
       "310750    2022    SOTGP  Solar thermal and photovoltaic electricity tot...   \n",
       "310751    2022    SOTGP  Solar thermal and photovoltaic electricity tot...   \n",
       "\n",
       "       stateId stateDescription                   unit  value_wind  \\\n",
       "19864       UT             Utah  Million kilowatthours       704.0   \n",
       "19866       TX            Texas  Million kilowatthours     40005.0   \n",
       "19867       OH             Ohio  Million kilowatthours      1153.0   \n",
       "19868       WA       Washington  Million kilowatthours      7268.0   \n",
       "19869       SD     South Dakota  Million kilowatthours      2336.0   \n",
       "...        ...              ...                    ...         ...   \n",
       "310747      CO         Colorado  Million kilowatthours         NaN   \n",
       "310748      CA       California  Million kilowatthours         NaN   \n",
       "310749      CT      Connecticut  Million kilowatthours         NaN   \n",
       "310750      HI           Hawaii  Million kilowatthours         NaN   \n",
       "310751      US    United States  Million kilowatthours         NaN   \n",
       "\n",
       "        value_solar  \n",
       "19864           NaN  \n",
       "19866           NaN  \n",
       "19867           NaN  \n",
       "19868           NaN  \n",
       "19869           NaN  \n",
       "...             ...  \n",
       "310747       3772.0  \n",
       "310748      62910.0  \n",
       "310749       1470.0  \n",
       "310750       1882.0  \n",
       "310751     205074.0  \n",
       "\n",
       "[1903 rows x 8 columns]"
      ]
     },
     "execution_count": 58,
     "metadata": {},
     "output_type": "execute_result"
    }
   ],
   "source": [
    "# Splitting the solar and wind value columns\n",
    "df_seds['value_wind'] = df_seds.apply(lambda row: row['value'] if row['seriesId'] == 'WYTCP' else None, axis=1)\n",
    "df_seds['value_solar'] = df_seds.apply(lambda row: row['value'] if row['seriesId'] == 'SOTGP' else None, axis=1)\n",
    "\n",
    "df_seds.drop(columns=['value'], inplace=True)\n",
    "df_seds"
   ]
  },
  {
   "cell_type": "markdown",
   "id": "1e781f59-edf4-4e1a-8c86-9f739cb54a04",
   "metadata": {},
   "source": [
    "#### Cleaning the Extreme Weather data"
   ]
  },
  {
   "cell_type": "code",
   "execution_count": 61,
   "id": "ed436b07-0268-45a6-8c59-b238e8431e30",
   "metadata": {},
   "outputs": [
    {
     "name": "stdout",
     "output_type": "stream",
     "text": [
      "<class 'pandas.core.frame.DataFrame'>\n",
      "RangeIndex: 51504 entries, 0 to 51503\n",
      "Data columns (total 7 columns):\n",
      " #   Column                  Non-Null Count  Dtype         \n",
      "---  ------                  --------------  -----         \n",
      " 0   Date                    51504 non-null  datetime64[ns]\n",
      " 1   NOAAClimRegion          51504 non-null  category      \n",
      " 2   PR                      49940 non-null  float64       \n",
      " 3   snow_value_mm           45682 non-null  float64       \n",
      " 4   duration_minutes_storm  51504 non-null  float64       \n",
      " 5   rain_value_mm           40703 non-null  float64       \n",
      " 6   wind_speed_mean         40337 non-null  float64       \n",
      "dtypes: category(1), datetime64[ns](1), float64(5)\n",
      "memory usage: 2.4 MB\n"
     ]
    }
   ],
   "source": [
    "df_extreme = pd.read_excel(\"exWeather_PV_data.xlsx\", sheet_name=\"data\")\n",
    "\n",
    "# Drop any row with all 0s\n",
    "df_extreme = df_extreme[['Date', 'NOAAClimRegion', 'PR', 'snow_value_mm', 'duration_minutes_storm', 'rain_value_mm', 'wind_speed_mean']]\n",
    "df_extreme = df_extreme[(df_extreme != 0).any(axis=1)]\n",
    "\n",
    "# Cleaning column types\n",
    "df_extreme['NOAAClimRegion'] = df_extreme['NOAAClimRegion'].astype('category')\n",
    "df_extreme['duration_minutes_storm'] = df_extreme['duration_minutes_storm'].astype(float)\n",
    "\n",
    "df_extreme.info()"
   ]
  },
  {
   "cell_type": "code",
   "execution_count": 62,
   "id": "4fb7cf9f-ca59-4b63-b3ae-54311bb9bfcb",
   "metadata": {},
   "outputs": [
    {
     "name": "stdout",
     "output_type": "stream",
     "text": [
      "2018-02-22 00:00:00\n",
      "2020-03-01 00:00:00\n"
     ]
    }
   ],
   "source": [
    "min_date = df_extreme['Date'].min()\n",
    "max_date = df_extreme['Date'].max()\n",
    "\n",
    "print(min_date)\n",
    "print(max_date)"
   ]
  },
  {
   "cell_type": "code",
   "execution_count": 63,
   "id": "d53fd525-c552-4094-b71b-a71e8cfe2ae8",
   "metadata": {},
   "outputs": [
    {
     "data": {
      "text/html": [
       "<div>\n",
       "<style scoped>\n",
       "    .dataframe tbody tr th:only-of-type {\n",
       "        vertical-align: middle;\n",
       "    }\n",
       "\n",
       "    .dataframe tbody tr th {\n",
       "        vertical-align: top;\n",
       "    }\n",
       "\n",
       "    .dataframe thead th {\n",
       "        text-align: right;\n",
       "    }\n",
       "</style>\n",
       "<table border=\"1\" class=\"dataframe\">\n",
       "  <thead>\n",
       "    <tr style=\"text-align: right;\">\n",
       "      <th></th>\n",
       "      <th>Date</th>\n",
       "      <th>NOAAClimRegion</th>\n",
       "      <th>PR</th>\n",
       "      <th>snow_value_mm</th>\n",
       "      <th>duration_minutes_storm</th>\n",
       "      <th>rain_value_mm</th>\n",
       "      <th>wind_speed_mean</th>\n",
       "    </tr>\n",
       "  </thead>\n",
       "  <tbody>\n",
       "    <tr>\n",
       "      <th>0</th>\n",
       "      <td>2018-04-01</td>\n",
       "      <td>West</td>\n",
       "      <td>0.825922</td>\n",
       "      <td>0.0</td>\n",
       "      <td>0.0</td>\n",
       "      <td>0.0</td>\n",
       "      <td>4.482719</td>\n",
       "    </tr>\n",
       "    <tr>\n",
       "      <th>1</th>\n",
       "      <td>2018-04-02</td>\n",
       "      <td>West</td>\n",
       "      <td>0.788456</td>\n",
       "      <td>0.0</td>\n",
       "      <td>0.0</td>\n",
       "      <td>0.0</td>\n",
       "      <td>6.481521</td>\n",
       "    </tr>\n",
       "    <tr>\n",
       "      <th>2</th>\n",
       "      <td>2018-04-03</td>\n",
       "      <td>West</td>\n",
       "      <td>0.773524</td>\n",
       "      <td>0.0</td>\n",
       "      <td>0.0</td>\n",
       "      <td>0.0</td>\n",
       "      <td>5.166083</td>\n",
       "    </tr>\n",
       "    <tr>\n",
       "      <th>3</th>\n",
       "      <td>2018-04-04</td>\n",
       "      <td>West</td>\n",
       "      <td>0.798637</td>\n",
       "      <td>0.0</td>\n",
       "      <td>0.0</td>\n",
       "      <td>0.0</td>\n",
       "      <td>3.506312</td>\n",
       "    </tr>\n",
       "    <tr>\n",
       "      <th>4</th>\n",
       "      <td>2018-04-05</td>\n",
       "      <td>West</td>\n",
       "      <td>0.787212</td>\n",
       "      <td>0.0</td>\n",
       "      <td>0.0</td>\n",
       "      <td>0.0</td>\n",
       "      <td>5.429458</td>\n",
       "    </tr>\n",
       "    <tr>\n",
       "      <th>...</th>\n",
       "      <td>...</td>\n",
       "      <td>...</td>\n",
       "      <td>...</td>\n",
       "      <td>...</td>\n",
       "      <td>...</td>\n",
       "      <td>...</td>\n",
       "      <td>...</td>\n",
       "    </tr>\n",
       "    <tr>\n",
       "      <th>51499</th>\n",
       "      <td>2019-07-27</td>\n",
       "      <td>Southeast</td>\n",
       "      <td>0.721850</td>\n",
       "      <td>0.0</td>\n",
       "      <td>0.0</td>\n",
       "      <td>0.0</td>\n",
       "      <td>1.197477</td>\n",
       "    </tr>\n",
       "    <tr>\n",
       "      <th>51500</th>\n",
       "      <td>2019-07-28</td>\n",
       "      <td>Southeast</td>\n",
       "      <td>0.727255</td>\n",
       "      <td>0.0</td>\n",
       "      <td>0.0</td>\n",
       "      <td>0.0</td>\n",
       "      <td>0.766352</td>\n",
       "    </tr>\n",
       "    <tr>\n",
       "      <th>51501</th>\n",
       "      <td>2019-07-29</td>\n",
       "      <td>Southeast</td>\n",
       "      <td>0.717232</td>\n",
       "      <td>0.0</td>\n",
       "      <td>0.0</td>\n",
       "      <td>0.0</td>\n",
       "      <td>1.126704</td>\n",
       "    </tr>\n",
       "    <tr>\n",
       "      <th>51502</th>\n",
       "      <td>2019-07-30</td>\n",
       "      <td>Southeast</td>\n",
       "      <td>0.702711</td>\n",
       "      <td>0.0</td>\n",
       "      <td>0.0</td>\n",
       "      <td>0.0</td>\n",
       "      <td>1.262544</td>\n",
       "    </tr>\n",
       "    <tr>\n",
       "      <th>51503</th>\n",
       "      <td>2019-07-31</td>\n",
       "      <td>Southeast</td>\n",
       "      <td>0.740452</td>\n",
       "      <td>0.0</td>\n",
       "      <td>0.0</td>\n",
       "      <td>0.0</td>\n",
       "      <td>0.861987</td>\n",
       "    </tr>\n",
       "  </tbody>\n",
       "</table>\n",
       "<p>50772 rows × 7 columns</p>\n",
       "</div>"
      ],
      "text/plain": [
       "            Date NOAAClimRegion        PR  snow_value_mm  \\\n",
       "0     2018-04-01           West  0.825922            0.0   \n",
       "1     2018-04-02           West  0.788456            0.0   \n",
       "2     2018-04-03           West  0.773524            0.0   \n",
       "3     2018-04-04           West  0.798637            0.0   \n",
       "4     2018-04-05           West  0.787212            0.0   \n",
       "...          ...            ...       ...            ...   \n",
       "51499 2019-07-27      Southeast  0.721850            0.0   \n",
       "51500 2019-07-28      Southeast  0.727255            0.0   \n",
       "51501 2019-07-29      Southeast  0.717232            0.0   \n",
       "51502 2019-07-30      Southeast  0.702711            0.0   \n",
       "51503 2019-07-31      Southeast  0.740452            0.0   \n",
       "\n",
       "       duration_minutes_storm  rain_value_mm  wind_speed_mean  \n",
       "0                         0.0            0.0         4.482719  \n",
       "1                         0.0            0.0         6.481521  \n",
       "2                         0.0            0.0         5.166083  \n",
       "3                         0.0            0.0         3.506312  \n",
       "4                         0.0            0.0         5.429458  \n",
       "...                       ...            ...              ...  \n",
       "51499                     0.0            0.0         1.197477  \n",
       "51500                     0.0            0.0         0.766352  \n",
       "51501                     0.0            0.0         1.126704  \n",
       "51502                     0.0            0.0         1.262544  \n",
       "51503                     0.0            0.0         0.861987  \n",
       "\n",
       "[50772 rows x 7 columns]"
      ]
     },
     "execution_count": 63,
     "metadata": {},
     "output_type": "execute_result"
    }
   ],
   "source": [
    "# Filter rows for the years 2018 and 2019, since 2020 only has 3 months of data\n",
    "df_extreme = df_extreme[df_extreme['Date'].dt.year.isin([2018, 2019])]\n",
    "df_extreme"
   ]
  },
  {
   "cell_type": "code",
   "execution_count": 64,
   "id": "aacacc4b-bc71-4435-9f26-03848f0a0d50",
   "metadata": {},
   "outputs": [
    {
     "data": {
      "text/html": [
       "<div>\n",
       "<style scoped>\n",
       "    .dataframe tbody tr th:only-of-type {\n",
       "        vertical-align: middle;\n",
       "    }\n",
       "\n",
       "    .dataframe tbody tr th {\n",
       "        vertical-align: top;\n",
       "    }\n",
       "\n",
       "    .dataframe thead th {\n",
       "        text-align: right;\n",
       "    }\n",
       "</style>\n",
       "<table border=\"1\" class=\"dataframe\">\n",
       "  <thead>\n",
       "    <tr style=\"text-align: right;\">\n",
       "      <th></th>\n",
       "      <th>Date</th>\n",
       "      <th>PR</th>\n",
       "      <th>snow_value_mm</th>\n",
       "      <th>duration_minutes_storm</th>\n",
       "      <th>rain_value_mm</th>\n",
       "      <th>wind_speed_mean</th>\n",
       "    </tr>\n",
       "  </thead>\n",
       "  <tbody>\n",
       "    <tr>\n",
       "      <th>count</th>\n",
       "      <td>50772</td>\n",
       "      <td>49237.000000</td>\n",
       "      <td>45341.000000</td>\n",
       "      <td>50772.000000</td>\n",
       "      <td>40703.000000</td>\n",
       "      <td>39617.000000</td>\n",
       "    </tr>\n",
       "    <tr>\n",
       "      <th>mean</th>\n",
       "      <td>2018-11-18 20:30:17.442684928</td>\n",
       "      <td>0.626429</td>\n",
       "      <td>1.209992</td>\n",
       "      <td>0.414638</td>\n",
       "      <td>2.302144</td>\n",
       "      <td>3.692087</td>\n",
       "    </tr>\n",
       "    <tr>\n",
       "      <th>min</th>\n",
       "      <td>2018-02-22 00:00:00</td>\n",
       "      <td>0.000000</td>\n",
       "      <td>0.000000</td>\n",
       "      <td>0.000000</td>\n",
       "      <td>0.000000</td>\n",
       "      <td>0.000000</td>\n",
       "    </tr>\n",
       "    <tr>\n",
       "      <th>25%</th>\n",
       "      <td>2018-08-19 00:00:00</td>\n",
       "      <td>0.599696</td>\n",
       "      <td>0.000000</td>\n",
       "      <td>0.000000</td>\n",
       "      <td>0.000000</td>\n",
       "      <td>1.182958</td>\n",
       "    </tr>\n",
       "    <tr>\n",
       "      <th>50%</th>\n",
       "      <td>2018-11-16 00:00:00</td>\n",
       "      <td>0.754059</td>\n",
       "      <td>0.000000</td>\n",
       "      <td>0.000000</td>\n",
       "      <td>0.000000</td>\n",
       "      <td>1.955213</td>\n",
       "    </tr>\n",
       "    <tr>\n",
       "      <th>75%</th>\n",
       "      <td>2019-02-11 00:00:00</td>\n",
       "      <td>0.805333</td>\n",
       "      <td>0.000000</td>\n",
       "      <td>0.000000</td>\n",
       "      <td>0.235467</td>\n",
       "      <td>3.465517</td>\n",
       "    </tr>\n",
       "    <tr>\n",
       "      <th>max</th>\n",
       "      <td>2019-12-31 00:00:00</td>\n",
       "      <td>1.199583</td>\n",
       "      <td>275.737309</td>\n",
       "      <td>1440.000000</td>\n",
       "      <td>278.525241</td>\n",
       "      <td>2672.129065</td>\n",
       "    </tr>\n",
       "    <tr>\n",
       "      <th>std</th>\n",
       "      <td>NaN</td>\n",
       "      <td>0.297530</td>\n",
       "      <td>10.479230</td>\n",
       "      <td>19.050660</td>\n",
       "      <td>8.147026</td>\n",
       "      <td>34.190996</td>\n",
       "    </tr>\n",
       "  </tbody>\n",
       "</table>\n",
       "</div>"
      ],
      "text/plain": [
       "                                Date            PR  snow_value_mm  \\\n",
       "count                          50772  49237.000000   45341.000000   \n",
       "mean   2018-11-18 20:30:17.442684928      0.626429       1.209992   \n",
       "min              2018-02-22 00:00:00      0.000000       0.000000   \n",
       "25%              2018-08-19 00:00:00      0.599696       0.000000   \n",
       "50%              2018-11-16 00:00:00      0.754059       0.000000   \n",
       "75%              2019-02-11 00:00:00      0.805333       0.000000   \n",
       "max              2019-12-31 00:00:00      1.199583     275.737309   \n",
       "std                              NaN      0.297530      10.479230   \n",
       "\n",
       "       duration_minutes_storm  rain_value_mm  wind_speed_mean  \n",
       "count            50772.000000   40703.000000     39617.000000  \n",
       "mean                 0.414638       2.302144         3.692087  \n",
       "min                  0.000000       0.000000         0.000000  \n",
       "25%                  0.000000       0.000000         1.182958  \n",
       "50%                  0.000000       0.000000         1.955213  \n",
       "75%                  0.000000       0.235467         3.465517  \n",
       "max               1440.000000     278.525241      2672.129065  \n",
       "std                 19.050660       8.147026        34.190996  "
      ]
     },
     "execution_count": 64,
     "metadata": {},
     "output_type": "execute_result"
    }
   ],
   "source": [
    "df_extreme.describe()"
   ]
  },
  {
   "cell_type": "markdown",
   "id": "f37c6b79-bcf1-4c24-873e-bdadfcee8465",
   "metadata": {},
   "source": [
    "#### Combining the two datasets and preparing for model training"
   ]
  },
  {
   "cell_type": "code",
   "execution_count": 66,
   "id": "77871195-b7cc-43c4-a854-d959707ed479",
   "metadata": {},
   "outputs": [
    {
     "data": {
      "text/html": [
       "<div>\n",
       "<style scoped>\n",
       "    .dataframe tbody tr th:only-of-type {\n",
       "        vertical-align: middle;\n",
       "    }\n",
       "\n",
       "    .dataframe tbody tr th {\n",
       "        vertical-align: top;\n",
       "    }\n",
       "\n",
       "    .dataframe thead th {\n",
       "        text-align: right;\n",
       "    }\n",
       "</style>\n",
       "<table border=\"1\" class=\"dataframe\">\n",
       "  <thead>\n",
       "    <tr style=\"text-align: right;\">\n",
       "      <th></th>\n",
       "      <th>Date</th>\n",
       "      <th>NOAAClimRegion</th>\n",
       "      <th>PR</th>\n",
       "      <th>snow_value_mm</th>\n",
       "      <th>duration_minutes_storm</th>\n",
       "      <th>rain_value_mm</th>\n",
       "      <th>wind_speed_mean</th>\n",
       "      <th>year</th>\n",
       "      <th>seriesId</th>\n",
       "      <th>seriesDescription</th>\n",
       "      <th>stateId</th>\n",
       "      <th>unit</th>\n",
       "      <th>value_wind</th>\n",
       "      <th>value_solar</th>\n",
       "    </tr>\n",
       "  </thead>\n",
       "  <tbody>\n",
       "    <tr>\n",
       "      <th>0</th>\n",
       "      <td>2018-04-01</td>\n",
       "      <td>West</td>\n",
       "      <td>0.825922</td>\n",
       "      <td>0.0</td>\n",
       "      <td>0.0</td>\n",
       "      <td>0.0</td>\n",
       "      <td>4.482719</td>\n",
       "      <td>2018</td>\n",
       "      <td>WYTCP</td>\n",
       "      <td>Wind electricity total net generation</td>\n",
       "      <td>NV</td>\n",
       "      <td>Million kilowatthours</td>\n",
       "      <td>312.0</td>\n",
       "      <td>NaN</td>\n",
       "    </tr>\n",
       "    <tr>\n",
       "      <th>1</th>\n",
       "      <td>2018-04-01</td>\n",
       "      <td>West</td>\n",
       "      <td>0.825922</td>\n",
       "      <td>0.0</td>\n",
       "      <td>0.0</td>\n",
       "      <td>0.0</td>\n",
       "      <td>4.482719</td>\n",
       "      <td>2018</td>\n",
       "      <td>WYTCP</td>\n",
       "      <td>Wind electricity total net generation</td>\n",
       "      <td>CA</td>\n",
       "      <td>Million kilowatthours</td>\n",
       "      <td>14024.0</td>\n",
       "      <td>NaN</td>\n",
       "    </tr>\n",
       "    <tr>\n",
       "      <th>2</th>\n",
       "      <td>2018-04-01</td>\n",
       "      <td>West</td>\n",
       "      <td>0.825922</td>\n",
       "      <td>0.0</td>\n",
       "      <td>0.0</td>\n",
       "      <td>0.0</td>\n",
       "      <td>4.482719</td>\n",
       "      <td>2018</td>\n",
       "      <td>SOTGP</td>\n",
       "      <td>Solar thermal and photovoltaic electricity tot...</td>\n",
       "      <td>NV</td>\n",
       "      <td>Million kilowatthours</td>\n",
       "      <td>NaN</td>\n",
       "      <td>5215.0</td>\n",
       "    </tr>\n",
       "    <tr>\n",
       "      <th>3</th>\n",
       "      <td>2018-04-01</td>\n",
       "      <td>West</td>\n",
       "      <td>0.825922</td>\n",
       "      <td>0.0</td>\n",
       "      <td>0.0</td>\n",
       "      <td>0.0</td>\n",
       "      <td>4.482719</td>\n",
       "      <td>2018</td>\n",
       "      <td>SOTGP</td>\n",
       "      <td>Solar thermal and photovoltaic electricity tot...</td>\n",
       "      <td>CA</td>\n",
       "      <td>Million kilowatthours</td>\n",
       "      <td>NaN</td>\n",
       "      <td>39904.0</td>\n",
       "    </tr>\n",
       "    <tr>\n",
       "      <th>4</th>\n",
       "      <td>2018-04-02</td>\n",
       "      <td>West</td>\n",
       "      <td>0.788456</td>\n",
       "      <td>0.0</td>\n",
       "      <td>0.0</td>\n",
       "      <td>0.0</td>\n",
       "      <td>6.481521</td>\n",
       "      <td>2018</td>\n",
       "      <td>WYTCP</td>\n",
       "      <td>Wind electricity total net generation</td>\n",
       "      <td>NV</td>\n",
       "      <td>Million kilowatthours</td>\n",
       "      <td>312.0</td>\n",
       "      <td>NaN</td>\n",
       "    </tr>\n",
       "    <tr>\n",
       "      <th>...</th>\n",
       "      <td>...</td>\n",
       "      <td>...</td>\n",
       "      <td>...</td>\n",
       "      <td>...</td>\n",
       "      <td>...</td>\n",
       "      <td>...</td>\n",
       "      <td>...</td>\n",
       "      <td>...</td>\n",
       "      <td>...</td>\n",
       "      <td>...</td>\n",
       "      <td>...</td>\n",
       "      <td>...</td>\n",
       "      <td>...</td>\n",
       "      <td>...</td>\n",
       "    </tr>\n",
       "    <tr>\n",
       "      <th>391462</th>\n",
       "      <td>2019-07-31</td>\n",
       "      <td>Southeast</td>\n",
       "      <td>0.740452</td>\n",
       "      <td>0.0</td>\n",
       "      <td>0.0</td>\n",
       "      <td>0.0</td>\n",
       "      <td>0.861987</td>\n",
       "      <td>2019</td>\n",
       "      <td>SOTGP</td>\n",
       "      <td>Solar thermal and photovoltaic electricity tot...</td>\n",
       "      <td>AL</td>\n",
       "      <td>Million kilowatthours</td>\n",
       "      <td>NaN</td>\n",
       "      <td>399.0</td>\n",
       "    </tr>\n",
       "    <tr>\n",
       "      <th>391463</th>\n",
       "      <td>2019-07-31</td>\n",
       "      <td>Southeast</td>\n",
       "      <td>0.740452</td>\n",
       "      <td>0.0</td>\n",
       "      <td>0.0</td>\n",
       "      <td>0.0</td>\n",
       "      <td>0.861987</td>\n",
       "      <td>2019</td>\n",
       "      <td>SOTGP</td>\n",
       "      <td>Solar thermal and photovoltaic electricity tot...</td>\n",
       "      <td>SC</td>\n",
       "      <td>Million kilowatthours</td>\n",
       "      <td>NaN</td>\n",
       "      <td>1187.0</td>\n",
       "    </tr>\n",
       "    <tr>\n",
       "      <th>391464</th>\n",
       "      <td>2019-07-31</td>\n",
       "      <td>Southeast</td>\n",
       "      <td>0.740452</td>\n",
       "      <td>0.0</td>\n",
       "      <td>0.0</td>\n",
       "      <td>0.0</td>\n",
       "      <td>0.861987</td>\n",
       "      <td>2019</td>\n",
       "      <td>SOTGP</td>\n",
       "      <td>Solar thermal and photovoltaic electricity tot...</td>\n",
       "      <td>VA</td>\n",
       "      <td>Million kilowatthours</td>\n",
       "      <td>NaN</td>\n",
       "      <td>1081.0</td>\n",
       "    </tr>\n",
       "    <tr>\n",
       "      <th>391465</th>\n",
       "      <td>2019-07-31</td>\n",
       "      <td>Southeast</td>\n",
       "      <td>0.740452</td>\n",
       "      <td>0.0</td>\n",
       "      <td>0.0</td>\n",
       "      <td>0.0</td>\n",
       "      <td>0.861987</td>\n",
       "      <td>2019</td>\n",
       "      <td>SOTGP</td>\n",
       "      <td>Solar thermal and photovoltaic electricity tot...</td>\n",
       "      <td>NC</td>\n",
       "      <td>Million kilowatthours</td>\n",
       "      <td>NaN</td>\n",
       "      <td>7725.0</td>\n",
       "    </tr>\n",
       "    <tr>\n",
       "      <th>391466</th>\n",
       "      <td>2019-07-31</td>\n",
       "      <td>Southeast</td>\n",
       "      <td>0.740452</td>\n",
       "      <td>0.0</td>\n",
       "      <td>0.0</td>\n",
       "      <td>0.0</td>\n",
       "      <td>0.861987</td>\n",
       "      <td>2019</td>\n",
       "      <td>SOTGP</td>\n",
       "      <td>Solar thermal and photovoltaic electricity tot...</td>\n",
       "      <td>GA</td>\n",
       "      <td>Million kilowatthours</td>\n",
       "      <td>NaN</td>\n",
       "      <td>2467.0</td>\n",
       "    </tr>\n",
       "  </tbody>\n",
       "</table>\n",
       "<p>391467 rows × 14 columns</p>\n",
       "</div>"
      ],
      "text/plain": [
       "             Date NOAAClimRegion        PR  snow_value_mm  \\\n",
       "0      2018-04-01           West  0.825922            0.0   \n",
       "1      2018-04-01           West  0.825922            0.0   \n",
       "2      2018-04-01           West  0.825922            0.0   \n",
       "3      2018-04-01           West  0.825922            0.0   \n",
       "4      2018-04-02           West  0.788456            0.0   \n",
       "...           ...            ...       ...            ...   \n",
       "391462 2019-07-31      Southeast  0.740452            0.0   \n",
       "391463 2019-07-31      Southeast  0.740452            0.0   \n",
       "391464 2019-07-31      Southeast  0.740452            0.0   \n",
       "391465 2019-07-31      Southeast  0.740452            0.0   \n",
       "391466 2019-07-31      Southeast  0.740452            0.0   \n",
       "\n",
       "        duration_minutes_storm  rain_value_mm  wind_speed_mean  year seriesId  \\\n",
       "0                          0.0            0.0         4.482719  2018    WYTCP   \n",
       "1                          0.0            0.0         4.482719  2018    WYTCP   \n",
       "2                          0.0            0.0         4.482719  2018    SOTGP   \n",
       "3                          0.0            0.0         4.482719  2018    SOTGP   \n",
       "4                          0.0            0.0         6.481521  2018    WYTCP   \n",
       "...                        ...            ...              ...   ...      ...   \n",
       "391462                     0.0            0.0         0.861987  2019    SOTGP   \n",
       "391463                     0.0            0.0         0.861987  2019    SOTGP   \n",
       "391464                     0.0            0.0         0.861987  2019    SOTGP   \n",
       "391465                     0.0            0.0         0.861987  2019    SOTGP   \n",
       "391466                     0.0            0.0         0.861987  2019    SOTGP   \n",
       "\n",
       "                                        seriesDescription stateId  \\\n",
       "0                   Wind electricity total net generation      NV   \n",
       "1                   Wind electricity total net generation      CA   \n",
       "2       Solar thermal and photovoltaic electricity tot...      NV   \n",
       "3       Solar thermal and photovoltaic electricity tot...      CA   \n",
       "4                   Wind electricity total net generation      NV   \n",
       "...                                                   ...     ...   \n",
       "391462  Solar thermal and photovoltaic electricity tot...      AL   \n",
       "391463  Solar thermal and photovoltaic electricity tot...      SC   \n",
       "391464  Solar thermal and photovoltaic electricity tot...      VA   \n",
       "391465  Solar thermal and photovoltaic electricity tot...      NC   \n",
       "391466  Solar thermal and photovoltaic electricity tot...      GA   \n",
       "\n",
       "                         unit  value_wind  value_solar  \n",
       "0       Million kilowatthours       312.0          NaN  \n",
       "1       Million kilowatthours     14024.0          NaN  \n",
       "2       Million kilowatthours         NaN       5215.0  \n",
       "3       Million kilowatthours         NaN      39904.0  \n",
       "4       Million kilowatthours       312.0          NaN  \n",
       "...                       ...         ...          ...  \n",
       "391462  Million kilowatthours         NaN        399.0  \n",
       "391463  Million kilowatthours         NaN       1187.0  \n",
       "391464  Million kilowatthours         NaN       1081.0  \n",
       "391465  Million kilowatthours         NaN       7725.0  \n",
       "391466  Million kilowatthours         NaN       2467.0  \n",
       "\n",
       "[391467 rows x 14 columns]"
      ]
     },
     "execution_count": 66,
     "metadata": {},
     "output_type": "execute_result"
    }
   ],
   "source": [
    "# Create a dictionary with climate regions as keys and lists of states as values\n",
    "region_to_states = {\n",
    "    \"Northeast\": [\n",
    "        \"Connecticut\", \"Delaware\", \"Maine\", \"Maryland\", \"Massachusetts\", \n",
    "        \"New Hampshire\", \"New Jersey\", \"New York\", \"Pennsylvania\", \n",
    "        \"Rhode Island\", \"Vermont\"\n",
    "    ],\n",
    "    \"Upper Midwest\": [\"Iowa\", \"Michigan\", \"Minnesota\", \"Wisconsin\"],\n",
    "    \"Ohio Valley\": [\n",
    "        \"Illinois\", \"Indiana\", \"Kentucky\", \"Missouri\", \"Ohio\", \n",
    "        \"Tennessee\", \"West Virginia\"\n",
    "    ],\n",
    "    \"Southeast\": [\n",
    "        \"Alabama\", \"Florida\", \"Georgia\", \"North Carolina\", \n",
    "        \"South Carolina\", \"Virginia\"\n",
    "    ],\n",
    "    \"South\": [\"Arkansas\", \"Kansas\", \"Louisiana\", \"Mississippi\", \"Oklahoma\", \"Texas\"],\n",
    "    \"Southwest\": [\"Arizona\", \"Colorado\", \"New Mexico\", \"Utah\"],\n",
    "    \"Northwest\": [\"Idaho\", \"Oregon\", \"Washington\"],\n",
    "    \"West\": [\"California\", \"Nevada\"]\n",
    "}\n",
    "\n",
    "state_to_region = {}\n",
    "for region, states in region_to_states.items():\n",
    "    for state in states:\n",
    "        state_to_region[state] = region\n",
    "\n",
    "# Getting rows with matching years\n",
    "df_extreme['year'] = pd.to_datetime(df_extreme['Date']).dt.year\n",
    "\n",
    "# Mapping climate regions and combining based on year + region\n",
    "df_seds['climate_region'] = df_seds['stateDescription'].map(state_to_region)\n",
    "df_combined = pd.merge(df_extreme, df_seds, left_on=['year', 'NOAAClimRegion'], \n",
    "                       right_on=['period', 'climate_region'], how='left')\n",
    "\n",
    "df_combined = df_combined.drop(columns=['period', 'stateDescription', 'climate_region'])\n",
    "df_combined"
   ]
  },
  {
   "cell_type": "code",
   "execution_count": 102,
   "id": "6b08bc26-0e21-4f05-8912-eb593e5d17c3",
   "metadata": {},
   "outputs": [],
   "source": [
    "wind_combined = df_combined[df_combined['seriesId'] == 'WYTCP']\n",
    "wind_combined = wind_combined.drop(columns=['value_solar']).dropna()\n",
    "solar_combined = df_combined[df_combined['seriesId'] == 'SOTGP']\n",
    "solar_combined = solar_combined.drop(columns=['value_wind']).dropna()"
   ]
  },
  {
   "cell_type": "code",
   "execution_count": 104,
   "id": "09d79023-a897-44ae-ae48-45fff11fa23c",
   "metadata": {},
   "outputs": [],
   "source": [
    "from sklearn.model_selection import train_test_split\n",
    "\n",
    "# Wind data splitting\n",
    "df_wind = wind_combined[wind_combined['seriesId'] == 'WYTCP']\n",
    "X_wind = df_wind[['PR', 'snow_value_mm', 'rain_value_mm', 'wind_speed_mean']]\n",
    "y_wind = df_wind['value_wind']\n",
    "\n",
    "# Solar data splitting\n",
    "df_solar = solar_combined[solar_combined['seriesId'] == 'SOTGP']\n",
    "X_solar = df_solar[['PR', 'snow_value_mm', 'rain_value_mm', 'wind_speed_mean']]\n",
    "y_solar = df_solar['value_solar']\n",
    "\n",
    "X_wind_train, X_wind_test, y_wind_train, y_wind_test = train_test_split(X_wind, y_wind, test_size=0.2, random_state=42)\n",
    "X_solar_train, X_solar_test, y_solar_train, y_solar_test = train_test_split(X_solar, y_solar, test_size=0.2, random_state=42)"
   ]
  },
  {
   "cell_type": "markdown",
   "id": "2ced17c5-39be-4a03-8c29-9cc69df909c0",
   "metadata": {},
   "source": [
    "<hr>"
   ]
  },
  {
   "cell_type": "markdown",
   "id": "744173f4-5a12-4aba-a4db-451f466ec75f",
   "metadata": {},
   "source": [
    "#### Model: Multiple Linear Regression"
   ]
  },
  {
   "cell_type": "code",
   "execution_count": 108,
   "id": "4b63cac3-e0b8-4ef6-b350-7a6c214fe72e",
   "metadata": {},
   "outputs": [],
   "source": [
    "from sklearn.linear_model import LinearRegression"
   ]
  },
  {
   "cell_type": "code",
   "execution_count": 110,
   "id": "27a2605e-630d-4e46-a0a3-8f00c46dfbba",
   "metadata": {},
   "outputs": [
    {
     "name": "stdout",
     "output_type": "stream",
     "text": [
      "Wind Model Coefficients: [-2211.72851814    -8.80634868   -62.04499233     5.68792015]\n",
      "Wind Model Intercept: 7465.219369106189\n"
     ]
    },
    {
     "data": {
      "image/png": "[encoded data removed]",
      "text/plain": [
       "<Figure size 800x600 with 1 Axes>"
      ]
     },
     "metadata": {},
     "output_type": "display_data"
    }
   ],
   "source": [
    "wind_model = LinearRegression()\n",
    "wind_model.fit(X_wind_train, y_wind_train)\n",
    "\n",
    "#Evaluate\n",
    "print(\"Wind Model Coefficients:\", wind_model.coef_)\n",
    "print(\"Wind Model Intercept:\", wind_model.intercept_)\n",
    "\n",
    "#Predict\n",
    "y_wind_pred = wind_model.predict(X_wind_test)\n",
    "\n",
    "#Visual Plot Actual vs Predicted Wind Model\n",
    "plt.figure(figsize=(8, 6))\n",
    "plt.scatter(y_wind_test, y_wind_pred, alpha=0.6)\n",
    "plt.plot([y_wind_test.min(), y_wind_test.max()], [y_wind_test.min(), y_wind_test.max()], 'r--')\n",
    "plt.xlabel('Actual Wind Output')\n",
    "plt.ylabel('Predicted Wind Output')\n",
    "plt.title('Actual vs Predicted: Wind Energy')\n",
    "plt.grid(True)\n",
    "plt.show()"
   ]
  },
  {
   "cell_type": "code",
   "execution_count": 116,
   "id": "2ad032f0-91b8-4b67-b13a-3075a00d1e4a",
   "metadata": {},
   "outputs": [],
   "source": [
    "from sklearn.metrics import r2_score, mean_absolute_error, mean_squared_error"
   ]
  },
  {
   "cell_type": "code",
   "execution_count": 140,
   "id": "89c381b7-64d7-4234-b705-1f8536348ffe",
   "metadata": {},
   "outputs": [
    {
     "name": "stdout",
     "output_type": "stream",
     "text": [
      "R² Score: 0.009097935148480563\n",
      "Mean Absolute Error (MAE): 6102.674629106241\n",
      "Mean Squared Error (MSE): 51353070.83997182\n",
      "Root Mean Squared Error (RMSE): 7166.105695562396\n"
     ]
    }
   ],
   "source": [
    "print('R² Score:', r2_score(y_wind_test, y_wind_pred))\n",
    "print('Mean Absolute Error (MAE):', mean_absolute_error(y_wind_test, y_wind_pred))  \n",
    "print('Mean Squared Error (MSE):', mean_squared_error(y_wind_test, y_wind_pred))  \n",
    "print('Root Mean Squared Error (RMSE):', np.sqrt(mean_squared_error(y_wind_test, y_wind_pred)))"
   ]
  },
  {
   "cell_type": "markdown",
   "id": "6fcd2cb0-0f51-4095-acfe-4f219bb187a8",
   "metadata": {},
   "source": [
    "The linear regression model for predicting wind energy output was evaluated using standard performance metrics. The model resulted in an R² score of 0.0091, indicating that less than 1% of the variance in wind energy output is explained by the features used. The MAE was 6102.67, meaning the model’s predictions were off by over 6,100 units on average. The RMSE was 7166.11, highlighting a substantial deviation between predicted and actual values. These high error values, along with the low R², suggest that the linear model is not effectively capturing patterns in the data.\n",
    "\n",
    "While linear regression makes it easy to interpret the influence of individual features through its coefficients, in this case, those coefficients did not strongly predict wind output, as shown by the low model accuracy and poor prediction performance. There was minimal difference between training and testing error, indicating the model likely underfit that data rather than overfit it."
   ]
  },
  {
   "cell_type": "code",
   "execution_count": 112,
   "id": "7bfa02e5-2041-4f32-992f-d6fa6a8c1271",
   "metadata": {},
   "outputs": [
    {
     "name": "stdout",
     "output_type": "stream",
     "text": [
      "Solar Model Coefficients: [ 8.45039826e+03 -2.53319252e+01 -1.35374010e+02  4.31043138e+00]\n",
      "Solar Model Intercept: 3018.4519283896243\n"
     ]
    },
    {
     "data": {
      "image/png": "[encoded data removed]",
      "text/plain": [
       "<Figure size 800x600 with 1 Axes>"
      ]
     },
     "metadata": {},
     "output_type": "display_data"
    }
   ],
   "source": [
    "solar_model = LinearRegression()\n",
    "solar_model.fit(X_solar_train, y_solar_train)\n",
    "\n",
    "#Evaluate\n",
    "print(\"Solar Model Coefficients:\", solar_model.coef_)\n",
    "print(\"Solar Model Intercept:\", solar_model.intercept_)\n",
    "\n",
    "#Predict\n",
    "y_solar_pred = solar_model.predict(X_solar_test)\n",
    "\n",
    "#Visual Plot Actual vs Predicted Solar Model\n",
    "plt.figure(figsize=(8, 6))\n",
    "plt.scatter(y_solar_test, y_solar_pred, alpha=0.6)\n",
    "plt.plot([y_solar_test.min(), y_solar_test.max()], [y_solar_test.min(), y_solar_test.max()], 'r--')\n",
    "plt.xlabel('Actual Solar Output')\n",
    "plt.ylabel('Predicted Solar Output')\n",
    "plt.title('Actual vs Predicted: Solar Energy')\n",
    "plt.grid(True)\n",
    "plt.show()"
   ]
  },
  {
   "cell_type": "code",
   "execution_count": 126,
   "id": "433b5b88-1694-4037-aaa5-6304ec48c967",
   "metadata": {},
   "outputs": [
    {
     "name": "stdout",
     "output_type": "stream",
     "text": [
      "R² Score: 0.036619898602537115\n",
      "Mean Absolute Error (MAE): 10079.011776336774\n",
      "Mean Squared Error (MSE): 195908212.09386778\n",
      "Root Mean Squared Error (RMSE): 13996.721476612578\n"
     ]
    }
   ],
   "source": [
    "print('R² Score:', r2_score(y_solar_test, y_solar_pred))\n",
    "print('Mean Absolute Error (MAE):', mean_absolute_error(y_solar_test, y_solar_pred))  \n",
    "print('Mean Squared Error (MSE):', mean_squared_error(y_solar_test, y_solar_pred))  \n",
    "print('Root Mean Squared Error (RMSE):', np.sqrt(mean_squared_error(y_solar_test, y_solar_pred)))"
   ]
  },
  {
   "cell_type": "markdown",
   "id": "27cdc307-2259-4280-9165-5b70b39b44b4",
   "metadata": {},
   "source": [
    "The linear regression for predicting solar energy output showed slightly better performance than the wind model, but still had limited predictive power. The R² score was 0.0366, indicating that only about 3.7% of the variation in solar output is explained by the model’s features. The MAE was 10079.01, meaning that the model's predictions were off by over 10,000 units on average. The RMSE was 13,996.72, indicating that the model's predictions tend to deviate significantly from the actual values. \n",
    "\n",
    "Although the solar model outperformed the wind model in terms of R² and overall error, its predictive accuracy remains very low. This suggests that the linear model still struggles to capture the complexity of solar energy output. Like the wind model, linear regression offers the benefit of being straightforward and easy to interpret, particularly when examining the influence of individual features. However, the low R² and substantial prediction errors suggest that the model is underfitting the data, likely due to its inability to represent more complex patterns and relationships."
   ]
  },
  {
   "cell_type": "markdown",
   "id": "1654f65f-464c-4672-83eb-20c318b866ef",
   "metadata": {},
   "source": [
    "#### Model: Random Forest"
   ]
  },
  {
   "cell_type": "code",
   "execution_count": null,
   "id": "346d2355-63d0-4d07-9ed9-0e70b8bde806",
   "metadata": {},
   "outputs": [],
   "source": [
    "from sklearn.ensemble import RandomForestRegressor\n"
   ]
  },
  {
   "cell_type": "markdown",
   "id": "5f4b7ea5-80b2-42a4-88e5-08b7ed023a56",
   "metadata": {},
   "source": [
    "#### Model: Support Vector Regression"
   ]
  },
  {
   "cell_type": "code",
   "execution_count": null,
   "id": "24f72185-030d-4daf-92eb-ba44c39a838a",
   "metadata": {},
   "outputs": [],
   "source": [
    "from sklearn.svm import SVR\n"
   ]
  }
 ],
 "metadata": {
  "kernelspec": {
   "display_name": "Python 3 (ipykernel)",
   "language": "python",
   "name": "python3"
  },
  "language_info": {
   "codemirror_mode": {
    "name": "ipython",
    "version": 3
   },
   "file_extension": ".py",
   "mimetype": "text/x-python",
   "name": "python",
   "nbconvert_exporter": "python",
   "pygments_lexer": "ipython3",
   "version": "3.12.4"
  }
 },
 "nbformat": 4,
 "nbformat_minor": 5
}
