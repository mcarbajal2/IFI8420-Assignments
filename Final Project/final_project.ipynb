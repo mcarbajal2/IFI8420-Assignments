{
 "cells": [
  {
   "cell_type": "markdown",
   "id": "bc649b61-4474-4218-8811-8b9d5ba61452",
   "metadata": {},
   "source": [
    "# <b>IFI 8420 - Final Project</b>\n",
    "### Team 5\n",
    "Mina Carbajal, Carmen Morales-Mier, Gaayathri Rayapaneni, Ignatius Jonathan Sugijono"
   ]
  },
  {
   "cell_type": "markdown",
   "id": "8cf763f8-e21a-4246-a3b0-f0f9b9251175",
   "metadata": {},
   "source": [
    "<hr>"
   ]
  },
  {
   "cell_type": "markdown",
   "id": "6204a9fe-eabf-4634-bae6-bae1b1de3ea7",
   "metadata": {},
   "source": [
    "Introduction"
   ]
  },
  {
   "cell_type": "markdown",
   "id": "56ce90a3-3575-4939-917a-97e25e62d49e",
   "metadata": {},
   "source": [
    "<hr>"
   ]
  },
  {
   "cell_type": "markdown",
   "id": "6668c732-a632-4ca2-a42e-8581db02dd45",
   "metadata": {},
   "source": [
    "#### Installing all the requirement packages"
   ]
  },
  {
   "cell_type": "code",
   "execution_count": 54,
   "id": "37560327-ef2c-44c6-a6b9-993f911b2f84",
   "metadata": {},
   "outputs": [],
   "source": [
    "import requests\n",
    "import pandas as pd"
   ]
  },
  {
   "cell_type": "markdown",
   "id": "8fd6efd3-4f5c-483e-9e9a-6e59fb5850f3",
   "metadata": {},
   "source": [
    "#### Getting the State Energy Data System (SEDS) data provided by the U.S. Department of Energy, The Energy Information Administration (EIA) API"
   ]
  },
  {
   "cell_type": "code",
   "execution_count": 51,
   "id": "8d2ac32a-1ec7-4fac-a913-7f740c776c32",
   "metadata": {},
   "outputs": [
    {
     "name": "stdout",
     "output_type": "stream",
     "text": [
      "Retrieved 2242317 rows.\n"
     ]
    }
   ],
   "source": [
    "# API_KEY = 'v4Mpa3bxglq7V73FG1c9siXRib7Rtvsi6k17OSV5'\n",
    "# BASE_URL = 'https://api.eia.gov/v2/seds/data/'\n",
    "# OFFSET = 0\n",
    "# BATCH_SIZE = 5000\n",
    "# TOTAL_ITEMS = 2242317\n",
    "# data = []\n",
    "\n",
    "# while OFFSET < TOTAL_ITEMS:\n",
    "#     url = f'{BASE_URL}?frequency=annual&data[0]=value&facets[stateId][]=AK&facets[stateId][]=AL&facets[stateId][]=AR&facets[stateId][]=AZ&facets[stateId][]=CA&facets[stateId][]=CO&facets[stateId][]=CT&facets[stateId][]=DC&facets[stateId][]=DE&facets[stateId][]=FL&facets[stateId][]=GA&facets[stateId][]=HI&facets[stateId][]=IA&facets[stateId][]=ID&facets[stateId][]=IL&facets[stateId][]=IN&facets[stateId][]=KS&facets[stateId][]=KY&facets[stateId][]=LA&facets[stateId][]=MA&facets[stateId][]=MD&facets[stateId][]=ME&facets[stateId][]=MI&facets[stateId][]=MN&facets[stateId][]=MO&facets[stateId][]=MS&facets[stateId][]=MT&facets[stateId][]=NC&facets[stateId][]=ND&facets[stateId][]=NE&facets[stateId][]=NH&facets[stateId][]=NJ&facets[stateId][]=NM&facets[stateId][]=NV&facets[stateId][]=NY&facets[stateId][]=OH&facets[stateId][]=OK&facets[stateId][]=OR&facets[stateId][]=PA&facets[stateId][]=RI&facets[stateId][]=SC&facets[stateId][]=SD&facets[stateId][]=TN&facets[stateId][]=TX&facets[stateId][]=US&facets[stateId][]=UT&facets[stateId][]=VA&facets[stateId][]=VT&facets[stateId][]=WA&facets[stateId][]=WI&facets[stateId][]=WV&facets[stateId][]=WY&sort[0][column]=seriesId&sort[0][direction]=desc&offset={OFFSET}&length={BATCH_SIZE}'\n",
    "#     response = requests.get(url, headers={'X-API-Key': API_KEY})\n",
    "    \n",
    "#     if response.status_code == 200:\n",
    "#         data.extend(response.json()['response']['data'])\n",
    "#         OFFSET += BATCH_SIZE\n",
    "#     else:\n",
    "#         print(f\"Error {response.status_code}: {response.text}\")\n",
    "#         break\n",
    "\n",
    "# print(f\"Retrieved {len(data)} rows.\")"
   ]
  },
  {
   "cell_type": "code",
   "execution_count": 57,
   "id": "6b56337c-0b27-4199-9493-fa2adbdaec76",
   "metadata": {},
   "outputs": [],
   "source": [
    "# df = pd.DataFrame(paginated_data)\n",
    "# df.head()"
   ]
  },
  {
   "cell_type": "code",
   "execution_count": 56,
   "id": "5f8486bf-af41-48d0-8c1a-bf0b68800ac5",
   "metadata": {},
   "outputs": [],
   "source": [
    "# df.to_csv('EIA_raw.csv')"
   ]
  },
  {
   "cell_type": "code",
   "execution_count": 60,
   "id": "4f736042-095c-4de6-ab07-8e581a4f1eb8",
   "metadata": {},
   "outputs": [
    {
     "name": "stdout",
     "output_type": "stream",
     "text": [
      "<class 'pandas.core.frame.DataFrame'>\n",
      "RangeIndex: 2242317 entries, 0 to 2242316\n",
      "Data columns (total 8 columns):\n",
      " #   Column             Dtype  \n",
      "---  ------             -----  \n",
      " 0   Unnamed: 0         int64  \n",
      " 1   period             int64  \n",
      " 2   seriesId           object \n",
      " 3   seriesDescription  object \n",
      " 4   stateId            object \n",
      " 5   stateDescription   object \n",
      " 6   value              float64\n",
      " 7   unit               object \n",
      "dtypes: float64(1), int64(2), object(5)\n",
      "memory usage: 136.9+ MB\n"
     ]
    }
   ],
   "source": [
    "EIA_raw_df = pd.read_csv('EIA_raw.csv')\n",
    "EIA_raw_df.info()"
   ]
  },
  {
   "cell_type": "code",
   "execution_count": 61,
   "id": "ecc40fbf-98b9-47ca-9e24-839b170b775c",
   "metadata": {},
   "outputs": [
    {
     "data": {
      "text/html": [
       "<div>\n",
       "<style scoped>\n",
       "    .dataframe tbody tr th:only-of-type {\n",
       "        vertical-align: middle;\n",
       "    }\n",
       "\n",
       "    .dataframe tbody tr th {\n",
       "        vertical-align: top;\n",
       "    }\n",
       "\n",
       "    .dataframe thead th {\n",
       "        text-align: right;\n",
       "    }\n",
       "</style>\n",
       "<table border=\"1\" class=\"dataframe\">\n",
       "  <thead>\n",
       "    <tr style=\"text-align: right;\">\n",
       "      <th></th>\n",
       "      <th>Unnamed: 0</th>\n",
       "      <th>period</th>\n",
       "      <th>seriesId</th>\n",
       "      <th>seriesDescription</th>\n",
       "      <th>stateId</th>\n",
       "      <th>stateDescription</th>\n",
       "      <th>value</th>\n",
       "      <th>unit</th>\n",
       "    </tr>\n",
       "  </thead>\n",
       "  <tbody>\n",
       "    <tr>\n",
       "      <th>0</th>\n",
       "      <td>0</td>\n",
       "      <td>2021</td>\n",
       "      <td>ZWHDP</td>\n",
       "      <td>Heating degree days (HDD)</td>\n",
       "      <td>VA</td>\n",
       "      <td>Virginia</td>\n",
       "      <td>3927.0</td>\n",
       "      <td>Days</td>\n",
       "    </tr>\n",
       "    <tr>\n",
       "      <th>1</th>\n",
       "      <td>1</td>\n",
       "      <td>2023</td>\n",
       "      <td>ZWHDP</td>\n",
       "      <td>Heating degree days (HDD)</td>\n",
       "      <td>FL</td>\n",
       "      <td>Florida</td>\n",
       "      <td>428.0</td>\n",
       "      <td>Days</td>\n",
       "    </tr>\n",
       "    <tr>\n",
       "      <th>2</th>\n",
       "      <td>2</td>\n",
       "      <td>2023</td>\n",
       "      <td>ZWHDP</td>\n",
       "      <td>Heating degree days (HDD)</td>\n",
       "      <td>DE</td>\n",
       "      <td>Delaware</td>\n",
       "      <td>3844.0</td>\n",
       "      <td>Days</td>\n",
       "    </tr>\n",
       "    <tr>\n",
       "      <th>3</th>\n",
       "      <td>3</td>\n",
       "      <td>2023</td>\n",
       "      <td>ZWHDP</td>\n",
       "      <td>Heating degree days (HDD)</td>\n",
       "      <td>DC</td>\n",
       "      <td>District of Columbia</td>\n",
       "      <td>3272.0</td>\n",
       "      <td>Days</td>\n",
       "    </tr>\n",
       "    <tr>\n",
       "      <th>4</th>\n",
       "      <td>4</td>\n",
       "      <td>2023</td>\n",
       "      <td>ZWHDP</td>\n",
       "      <td>Heating degree days (HDD)</td>\n",
       "      <td>AL</td>\n",
       "      <td>Alabama</td>\n",
       "      <td>2153.0</td>\n",
       "      <td>Days</td>\n",
       "    </tr>\n",
       "  </tbody>\n",
       "</table>\n",
       "</div>"
      ],
      "text/plain": [
       "   Unnamed: 0  period seriesId          seriesDescription stateId  \\\n",
       "0           0    2021    ZWHDP  Heating degree days (HDD)      VA   \n",
       "1           1    2023    ZWHDP  Heating degree days (HDD)      FL   \n",
       "2           2    2023    ZWHDP  Heating degree days (HDD)      DE   \n",
       "3           3    2023    ZWHDP  Heating degree days (HDD)      DC   \n",
       "4           4    2023    ZWHDP  Heating degree days (HDD)      AL   \n",
       "\n",
       "       stateDescription   value  unit  \n",
       "0              Virginia  3927.0  Days  \n",
       "1               Florida   428.0  Days  \n",
       "2              Delaware  3844.0  Days  \n",
       "3  District of Columbia  3272.0  Days  \n",
       "4               Alabama  2153.0  Days  "
      ]
     },
     "execution_count": 61,
     "metadata": {},
     "output_type": "execute_result"
    }
   ],
   "source": [
    "EIA_raw_df.head()"
   ]
  },
  {
   "cell_type": "code",
   "execution_count": null,
   "id": "4218a8bb-b053-4d4b-93b8-2d8cbb48dc2e",
   "metadata": {},
   "outputs": [],
   "source": []
  }
 ],
 "metadata": {
  "kernelspec": {
   "display_name": "Python 3 (ipykernel)",
   "language": "python",
   "name": "python3"
  },
  "language_info": {
   "codemirror_mode": {
    "name": "ipython",
    "version": 3
   },
   "file_extension": ".py",
   "mimetype": "text/x-python",
   "name": "python",
   "nbconvert_exporter": "python",
   "pygments_lexer": "ipython3",
   "version": "3.12.3"
  }
 },
 "nbformat": 4,
 "nbformat_minor": 5
}
