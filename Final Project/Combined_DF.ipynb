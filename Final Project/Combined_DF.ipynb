{
 "cells": [
  {
   "cell_type": "code",
   "execution_count": 2,
   "id": "3303bd44-8d99-4d07-a995-8b8e9ba037fb",
   "metadata": {},
   "outputs": [
    {
     "name": "stdout",
     "output_type": "stream",
     "text": [
      "<class 'pandas.core.frame.DataFrame'>\n",
      "RangeIndex: 2242317 entries, 0 to 2242316\n",
      "Data columns (total 8 columns):\n",
      " #   Column             Dtype  \n",
      "---  ------             -----  \n",
      " 0   Unnamed: 0         int64  \n",
      " 1   period             int64  \n",
      " 2   seriesId           object \n",
      " 3   seriesDescription  object \n",
      " 4   stateId            object \n",
      " 5   stateDescription   object \n",
      " 6   value              float64\n",
      " 7   unit               object \n",
      "dtypes: float64(1), int64(2), object(5)\n",
      "memory usage: 136.9+ MB\n"
     ]
    }
   ],
   "source": [
    "import pandas as pd\n",
    "import numpy as np\n",
    "import matplotlib.pyplot as plt\n",
    "\n",
    "\n",
    "EIA_raw_df = pd.read_csv(r\"C:\\Users\\vsray\\Desktop\\PA\\Business Machine learning\\EIA_raw.csv\")\n",
    "EIA_raw_df.info()"
   ]
  },
  {
   "cell_type": "code",
   "execution_count": 3,
   "id": "c9e2874f-f9f8-474a-b795-097c21faee8c",
   "metadata": {},
   "outputs": [
    {
     "name": "stdout",
     "output_type": "stream",
     "text": [
      "No common columns found. Concatenating with outer join.\n",
      "        Date NOAAClimRegion        PR  snow_value_mm  duration_minutes_storm  \\\n",
      "0 2018-04-01           West  0.825922            0.0                     0.0   \n",
      "1 2018-04-02           West  0.788456            0.0                     0.0   \n",
      "2 2018-04-03           West  0.773524            0.0                     0.0   \n",
      "3 2018-04-04           West  0.798637            0.0                     0.0   \n",
      "4 2018-04-05           West  0.787212            0.0                     0.0   \n",
      "\n",
      "   rain_value_mm  wind_speed_mean  Unnamed: 0  period seriesId  \\\n",
      "0            0.0         4.482719           0    2021    ZWHDP   \n",
      "1            0.0         6.481521           1    2023    ZWHDP   \n",
      "2            0.0         5.166083           2    2023    ZWHDP   \n",
      "3            0.0         3.506312           3    2023    ZWHDP   \n",
      "4            0.0         5.429458           4    2023    ZWHDP   \n",
      "\n",
      "           seriesDescription stateId      stateDescription   value  unit  \n",
      "0  Heating degree days (HDD)      VA              Virginia  3927.0  Days  \n",
      "1  Heating degree days (HDD)      FL               Florida   428.0  Days  \n",
      "2  Heating degree days (HDD)      DE              Delaware  3844.0  Days  \n",
      "3  Heating degree days (HDD)      DC  District of Columbia  3272.0  Days  \n",
      "4  Heating degree days (HDD)      AL               Alabama  2153.0  Days  \n"
     ]
    }
   ],
   "source": [
    "import pandas as pd\n",
    "import numpy as np\n",
    "import matplotlib.pyplot as plt\n",
    "\n",
    "\n",
    "# Load data\n",
    "df_extreme = pd.read_excel(\"exWeather_PV_data.xlsx\", sheet_name=\"data\")\n",
    "EIA_raw_df = pd.read_csv(r\"C:\\Users\\vsray\\Desktop\\PA\\Business Machine learning\\EIA_raw.csv\")\n",
    "\n",
    "# Clean df_extreme\n",
    "df_extreme = df_extreme[['Date', 'NOAAClimRegion', 'PR', 'snow_value_mm', 'duration_minutes_storm', 'rain_value_mm', 'wind_speed_mean']]\n",
    "df_extreme = df_extreme[(df_extreme != 0).any(axis=1)]\n",
    "df_extreme['NOAAClimRegion'] = df_extreme['NOAAClimRegion'].astype('category')\n",
    "df_extreme['duration_minutes_storm'] = df_extreme['duration_minutes_storm'].astype(float)\n",
    "\n",
    "# Check for common columns\n",
    "common_cols = set(df_extreme.columns).intersection(set(EIA_raw_df.columns))\n",
    "\n",
    "# Try to merge on common columns if any\n",
    "if common_cols:\n",
    "    print(f\"Found common columns: {common_cols}\")\n",
    "    # You can choose how you want to merge\n",
    "    merged_df = pd.merge(df_extreme, EIA_raw_df, on=list(common_cols), how='outer')\n",
    "else:\n",
    "    print(\"No common columns found. Concatenating with outer join.\")\n",
    "    merged_df = pd.concat([df_extreme, EIA_raw_df], axis=1)\n",
    "\n",
    "# Preview result\n",
    "print(merged_df.head())\n"
   ]
  },
  {
   "cell_type": "code",
   "execution_count": null,
   "id": "7df3064a-bdae-4460-bbf2-a829c6ab43ae",
   "metadata": {},
   "outputs": [],
   "source": []
  }
 ],
 "metadata": {
  "kernelspec": {
   "display_name": "Python 3 (ipykernel)",
   "language": "python",
   "name": "python3"
  },
  "language_info": {
   "codemirror_mode": {
    "name": "ipython",
    "version": 3
   },
   "file_extension": ".py",
   "mimetype": "text/x-python",
   "name": "python",
   "nbconvert_exporter": "python",
   "pygments_lexer": "ipython3",
   "version": "3.12.6"
  }
 },
 "nbformat": 4,
 "nbformat_minor": 5
}
