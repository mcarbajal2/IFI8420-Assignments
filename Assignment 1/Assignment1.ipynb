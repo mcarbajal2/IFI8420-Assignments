{
 "cells": [
  {
   "cell_type": "markdown",
   "id": "aea71ec3-5c86-46f5-a1c5-b171afc61fcd",
   "metadata": {
    "editable": true,
    "slideshow": {
     "slide_type": ""
    },
    "tags": []
   },
   "source": [
    "# <b>IFI 8420 - Assignment 1</b>\n",
    "### Team 5"
   ]
  },
  {
   "cell_type": "markdown",
   "id": "a8913e21-246c-4433-aa74-4d7e57e7839c",
   "metadata": {},
   "source": [
    "<hr>"
   ]
  },
  {
   "cell_type": "markdown",
   "id": "4fe74ab4-9e78-41e6-8f31-bc42c490febe",
   "metadata": {},
   "source": [
    "<h3>Install all the requirement packages</h3>"
   ]
  },
  {
   "cell_type": "code",
   "execution_count": 1,
   "id": "2b706fed-cab9-44bc-8b9a-3edbe7fe1176",
   "metadata": {},
   "outputs": [],
   "source": [
    "import pandas as pd\n",
    "import yfinance as yf\n",
    "import numpy as np\n",
    "import matplotlib.pyplot as plt"
   ]
  },
  {
   "cell_type": "markdown",
   "id": "291a5db7-ecef-418f-8786-60c939ec843d",
   "metadata": {},
   "source": [
    "### <b>Section 1</b> - Netflix stock from Yahoo (Jan 2, 2004 - Dec 31, 2019)\n",
    "##### <u>Section Code Split</u>\n",
    "<ol>\n",
    "    <li>Mina - </li>\n",
    "    <li>Carmen - </li>\n",
    "    <li>Gaayathri - </li>\n",
    "    <li>Jonathan - </li>   \n",
    "</ol>"
   ]
  },
  {
   "cell_type": "markdown",
   "id": "5626139a-b4a2-48d3-b521-9a8d1d5f1e6f",
   "metadata": {},
   "source": [
    "<hr>"
   ]
  },
  {
   "cell_type": "markdown",
   "id": "af0389eb-6ed2-4150-9b7c-11559db796a6",
   "metadata": {},
   "source": [
    "##### a. Download the data for NFLX from Yahoo to a dataframe"
   ]
  },
  {
   "cell_type": "code",
   "execution_count": 2,
   "id": "e4d508a5-1447-4839-960e-914b4e22f811",
   "metadata": {},
   "outputs": [
    {
     "name": "stderr",
     "output_type": "stream",
     "text": [
      "[*********************100%***********************]  1 of 1 completed\n"
     ]
    }
   ],
   "source": [
    "netflix_df = yf.download('NFLX').loc[\"2004-01-02\":\"2019-12-31\"]"
   ]
  },
  {
   "cell_type": "markdown",
   "id": "b4932b2b-3259-4407-8ba9-646a20382f81",
   "metadata": {},
   "source": [
    "##### b. Seeing the size and type of the dataframe."
   ]
  },
  {
   "cell_type": "code",
   "execution_count": 5,
   "id": "08f0ba8a-8965-4c12-b581-2775cc67281f",
   "metadata": {},
   "outputs": [
    {
     "name": "stdout",
     "output_type": "stream",
     "text": [
      "(4027, 5)\n",
      "<class 'pandas.core.frame.DataFrame'>\n"
     ]
    }
   ],
   "source": [
    "print(netflix_df.shape)\n",
    "print(type(netflix_df))"
   ]
  },
  {
   "cell_type": "markdown",
   "id": "1606c779-b351-46b6-b888-91152e83c542",
   "metadata": {},
   "source": [
    "##### c. Viewing the first 5 rows of the dataframe."
   ]
  },
  {
   "cell_type": "code",
   "execution_count": 6,
   "id": "e14ccb1d-0590-40f5-b513-dbed3ae843c8",
   "metadata": {},
   "outputs": [
    {
     "data": {
      "text/html": [
       "<div>\n",
       "<style scoped>\n",
       "    .dataframe tbody tr th:only-of-type {\n",
       "        vertical-align: middle;\n",
       "    }\n",
       "\n",
       "    .dataframe tbody tr th {\n",
       "        vertical-align: top;\n",
       "    }\n",
       "\n",
       "    .dataframe thead tr th {\n",
       "        text-align: left;\n",
       "    }\n",
       "\n",
       "    .dataframe thead tr:last-of-type th {\n",
       "        text-align: right;\n",
       "    }\n",
       "</style>\n",
       "<table border=\"1\" class=\"dataframe\">\n",
       "  <thead>\n",
       "    <tr>\n",
       "      <th>Price</th>\n",
       "      <th>Close</th>\n",
       "      <th>High</th>\n",
       "      <th>Low</th>\n",
       "      <th>Open</th>\n",
       "      <th>Volume</th>\n",
       "    </tr>\n",
       "    <tr>\n",
       "      <th>Ticker</th>\n",
       "      <th>NFLX</th>\n",
       "      <th>NFLX</th>\n",
       "      <th>NFLX</th>\n",
       "      <th>NFLX</th>\n",
       "      <th>NFLX</th>\n",
       "    </tr>\n",
       "    <tr>\n",
       "      <th>Date</th>\n",
       "      <th></th>\n",
       "      <th></th>\n",
       "      <th></th>\n",
       "      <th></th>\n",
       "      <th></th>\n",
       "    </tr>\n",
       "  </thead>\n",
       "  <tbody>\n",
       "    <tr>\n",
       "      <th>2004-01-02</th>\n",
       "      <td>3.916429</td>\n",
       "      <td>4.127857</td>\n",
       "      <td>3.842143</td>\n",
       "      <td>4.107143</td>\n",
       "      <td>50230600</td>\n",
       "    </tr>\n",
       "    <tr>\n",
       "      <th>2004-01-05</th>\n",
       "      <td>3.992857</td>\n",
       "      <td>4.061429</td>\n",
       "      <td>3.875000</td>\n",
       "      <td>3.892857</td>\n",
       "      <td>25207000</td>\n",
       "    </tr>\n",
       "    <tr>\n",
       "      <th>2004-01-06</th>\n",
       "      <td>4.257857</td>\n",
       "      <td>4.339286</td>\n",
       "      <td>3.937143</td>\n",
       "      <td>3.946429</td>\n",
       "      <td>52633000</td>\n",
       "    </tr>\n",
       "    <tr>\n",
       "      <th>2004-01-07</th>\n",
       "      <td>4.445714</td>\n",
       "      <td>4.470000</td>\n",
       "      <td>4.249286</td>\n",
       "      <td>4.307143</td>\n",
       "      <td>68432000</td>\n",
       "    </tr>\n",
       "    <tr>\n",
       "      <th>2004-01-08</th>\n",
       "      <td>4.432857</td>\n",
       "      <td>4.564286</td>\n",
       "      <td>4.291429</td>\n",
       "      <td>4.539286</td>\n",
       "      <td>37178400</td>\n",
       "    </tr>\n",
       "  </tbody>\n",
       "</table>\n",
       "</div>"
      ],
      "text/plain": [
       "Price          Close      High       Low      Open    Volume\n",
       "Ticker          NFLX      NFLX      NFLX      NFLX      NFLX\n",
       "Date                                                        \n",
       "2004-01-02  3.916429  4.127857  3.842143  4.107143  50230600\n",
       "2004-01-05  3.992857  4.061429  3.875000  3.892857  25207000\n",
       "2004-01-06  4.257857  4.339286  3.937143  3.946429  52633000\n",
       "2004-01-07  4.445714  4.470000  4.249286  4.307143  68432000\n",
       "2004-01-08  4.432857  4.564286  4.291429  4.539286  37178400"
      ]
     },
     "execution_count": 6,
     "metadata": {},
     "output_type": "execute_result"
    }
   ],
   "source": [
    "netflix_df.head(5)"
   ]
  },
  {
   "cell_type": "markdown",
   "id": "9a2b7060-d62c-4df1-a013-ab084d1ee484",
   "metadata": {},
   "source": [
    "##### d. Plotting the daily prices."
   ]
  },
  {
   "cell_type": "code",
   "execution_count": 9,
   "id": "ef134699-82af-46b6-9fa0-b22bd7a95ba2",
   "metadata": {},
   "outputs": [
    {
     "data": {
      "image/png": "[encoded data removed]",
      "text/plain": [
       "<Figure size 1200x600 with 1 Axes>"
      ]
     },
     "metadata": {},
     "output_type": "display_data"
    }
   ],
   "source": [
    "netflix_df['Close'].plot(title = \"NFLX's stock price\", color = \"#831010\", figsize=(12, 6))\n",
    "plt.ylabel('Close Price (USD)')\n",
    "plt.grid(True)\n",
    "plt.show()"
   ]
  },
  {
   "cell_type": "markdown",
   "id": "51a88e2e-59c5-4740-97d2-6388834b2c7e",
   "metadata": {},
   "source": [
    "##### e. Computing log returns using closing price."
   ]
  },
  {
   "cell_type": "code",
   "execution_count": 55,
   "id": "d8f271dd-b080-40ff-973c-afceda6e3ef3",
   "metadata": {},
   "outputs": [
    {
     "data": {
      "text/plain": [
       "Date\n",
       "2004-01-02         NaN\n",
       "2004-01-05    0.019327\n",
       "2004-01-06    0.064259\n",
       "2004-01-07    0.043175\n",
       "2004-01-08   -0.002896\n",
       "                ...   \n",
       "2019-12-24    0.000300\n",
       "2019-12-26   -0.001712\n",
       "2019-12-27   -0.010700\n",
       "2019-12-30   -0.017720\n",
       "2019-12-31    0.000804\n",
       "Name: NFLX, Length: 4027, dtype: float64"
      ]
     },
     "execution_count": 55,
     "metadata": {},
     "output_type": "execute_result"
    }
   ],
   "source": [
    "netflix_returns = netflix_df[\"Close\"]/netflix_df[\"Close\"].shift(1)\n",
    "netflix_log_returns = np.log(netflix_returns)[\"NFLX\"]\n",
    "netflix_log_returns"
   ]
  },
  {
   "cell_type": "markdown",
   "id": "aff50453-735f-4cb7-b2e4-476be41be8ad",
   "metadata": {},
   "source": [
    "##### f. Constructing a time plot of the daily log returns."
   ]
  },
  {
   "cell_type": "code",
   "execution_count": 45,
   "id": "1a6708fd-0eca-405e-ab2c-70aeb06e3001",
   "metadata": {},
   "outputs": [
    {
     "data": {
      "image/png": "[encoded data removed]",
      "text/plain": [
       "<Figure size 640x480 with 1 Axes>"
      ]
     },
     "metadata": {},
     "output_type": "display_data"
    }
   ],
   "source": [
    "netflix_log_returns.plot(title=\"Timeplot of the daily log returns\")\n",
    "plt.ylabel(\"Daily Returns\")\n",
    "plt.show()"
   ]
  },
  {
   "cell_type": "markdown",
   "id": "ed1885d7-941e-47fd-935d-f335efcb2e0c",
   "metadata": {},
   "source": [
    "##### g. Calculating the sample mean, standard deviation, minimum, and maximum of the daily log returns series."
   ]
  },
  {
   "cell_type": "code",
   "execution_count": 46,
   "id": "13ca48ae-598d-4e3a-b7eb-ce70e0edaed4",
   "metadata": {},
   "outputs": [
    {
     "data": {
      "text/plain": [
       "mean    0.001096\n",
       "std     0.034518\n",
       "min    -0.526049\n",
       "max     0.352230\n",
       "Name: NFLX, dtype: float64"
      ]
     },
     "execution_count": 46,
     "metadata": {},
     "output_type": "execute_result"
    }
   ],
   "source": [
    "netflix_log_returns.describe().loc[['mean','std','min','max']]"
   ]
  },
  {
   "cell_type": "markdown",
   "id": "c8384bfd-d48e-4318-9aa7-62b2f78f6aec",
   "metadata": {},
   "source": [
    "##### h. Constructing a historgram of the return series."
   ]
  },
  {
   "cell_type": "code",
   "execution_count": 62,
   "id": "84ae804e-8aad-4f7e-8e72-b2f295b4aa6d",
   "metadata": {},
   "outputs": [
    {
     "data": {
      "image/png": "[encoded data removed]",
      "text/plain": [
       "<Figure size 640x480 with 1 Axes>"
      ]
     },
     "metadata": {},
     "output_type": "display_data"
    }
   ],
   "source": [
    "plt.hist(netflix_returns,bins=100)\n",
    "plt.show()"
   ]
  },
  {
   "cell_type": "markdown",
   "id": "d266bda6-e073-4a30-acab-7e1761568f3a",
   "metadata": {},
   "source": [
    "##### i. Testing whether the mean of the daily log return is different from zero."
   ]
  },
  {
   "cell_type": "code",
   "execution_count": 69,
   "id": "1aca55c0-8eb1-44e5-b2a9-657b0017e18f",
   "metadata": {},
   "outputs": [
    {
     "name": "stdout",
     "output_type": "stream",
     "text": [
      "The mean of daily log return is different from zero: 0.001096431996103925\n"
     ]
    }
   ],
   "source": [
    "if netflix_log_returns.mean() != 0:\n",
    "    print(f\"The mean of daily log return is different from zero: {netflix_log_returns.mean()}\")\n",
    "else:\n",
    "    print(\"The mean of daily log return is zero\")"
   ]
  },
  {
   "cell_type": "markdown",
   "id": "2abeeac7-c20c-4b8c-abca-3c79bc3adcde",
   "metadata": {},
   "source": [
    "##### j. Summary of the analysis for Section 1."
   ]
  },
  {
   "cell_type": "code",
   "execution_count": null,
   "id": "47e8488b-87d2-4d80-a8bb-d8cbe656b467",
   "metadata": {},
   "outputs": [],
   "source": []
  },
  {
   "cell_type": "markdown",
   "id": "315df20a-4405-4878-ae19-843e2671937b",
   "metadata": {},
   "source": [
    "<hr>"
   ]
  },
  {
   "cell_type": "markdown",
   "id": "fa853452-7242-42a6-8913-4b2e92d1f456",
   "metadata": {},
   "source": [
    "### <b>Section 2</b> - Chosen Stocks Monthly Prices Datasets\n",
    "##### First dataset: link\n",
    "##### Second dataset: link\n",
    "##### Third dataset: link<br>\n",
    "##### <u>Section Code Split</u>\n",
    "<ol>\n",
    "    <li>Mina - </li>\n",
    "    <li>Carmen - </li>\n",
    "    <li>Gaayathri - </li>\n",
    "    <li>Jonathan - </li>   \n",
    "</ol>"
   ]
  },
  {
   "cell_type": "markdown",
   "id": "ab6ff8aa-e9c1-4d10-b97a-0ab2ec7ff2dc",
   "metadata": {},
   "source": [
    "<hr>"
   ]
  },
  {
   "cell_type": "markdown",
   "id": "deeb67da-3349-47e0-97b9-6483e4c76853",
   "metadata": {},
   "source": [
    "##### a. Converting the CSV files to a dataframe."
   ]
  },
  {
   "cell_type": "code",
   "execution_count": null,
   "id": "c6d9a055-3b36-4f72-9602-40d398a6bd2b",
   "metadata": {},
   "outputs": [],
   "source": []
  },
  {
   "cell_type": "markdown",
   "id": "090b87b0-f60a-424e-9416-c2ddea020f98",
   "metadata": {},
   "source": [
    "##### b. Choosing the adjusted closing price of the three stocks and formatting the price series in a single Data series."
   ]
  },
  {
   "cell_type": "code",
   "execution_count": null,
   "id": "a8f5260c-ff36-4340-b424-5313959a330a",
   "metadata": {},
   "outputs": [],
   "source": []
  },
  {
   "cell_type": "markdown",
   "id": "74fef274-a2cb-4318-ab62-280e0ddddf94",
   "metadata": {},
   "source": [
    "##### c. Seeing the size and type of the dataframe."
   ]
  },
  {
   "cell_type": "code",
   "execution_count": null,
   "id": "8f2ef112-8612-4a7f-a0a5-5d364f2feea4",
   "metadata": {},
   "outputs": [],
   "source": []
  },
  {
   "cell_type": "markdown",
   "id": "2226a79e-5647-4170-8982-80026f6b2a1c",
   "metadata": {},
   "source": [
    "##### d. Viewing the first 5 rows of the dataframe."
   ]
  },
  {
   "cell_type": "code",
   "execution_count": null,
   "id": "285096ef-e8fa-464b-9620-f512a60404ce",
   "metadata": {},
   "outputs": [],
   "source": []
  },
  {
   "cell_type": "markdown",
   "id": "a751e04b-cafb-4b29-9e18-d95b3b622ec9",
   "metadata": {},
   "source": [
    "##### e. Plotting the monthly prices of the three stocks."
   ]
  },
  {
   "cell_type": "code",
   "execution_count": null,
   "id": "e20fd15d-9932-40a9-9c74-fc724ccbda04",
   "metadata": {},
   "outputs": [],
   "source": []
  },
  {
   "cell_type": "markdown",
   "id": "15224f9e-f423-4879-b5fd-68746f9f2b1d",
   "metadata": {},
   "source": [
    "##### f. Computing log returns using closing price, using functions, loops, etc."
   ]
  },
  {
   "cell_type": "code",
   "execution_count": null,
   "id": "b5711d08-ed58-45f7-8ac4-6292c6af3997",
   "metadata": {},
   "outputs": [],
   "source": []
  },
  {
   "cell_type": "markdown",
   "id": "8f02f70a-bda9-44a9-9a8e-733be8225c96",
   "metadata": {},
   "source": [
    "##### g. Constructing a time plot of the monthly log returns of the three stocks, and displaying the return series together in one plot and also separately."
   ]
  },
  {
   "cell_type": "code",
   "execution_count": null,
   "id": "5ef5efff-a97a-4a93-8007-3e0e1f4cfcfa",
   "metadata": {},
   "outputs": [],
   "source": []
  },
  {
   "cell_type": "markdown",
   "id": "f2e74be2-4df6-41f3-a3c1-275c80b8c760",
   "metadata": {},
   "source": [
    "##### h. Calculating the sample mean, standard deviation, minimum, and maximum of the monthly log returns series."
   ]
  },
  {
   "cell_type": "code",
   "execution_count": null,
   "id": "dd367a6f-d4b8-4bf6-ac61-aa49b0288b35",
   "metadata": {},
   "outputs": [],
   "source": []
  },
  {
   "cell_type": "markdown",
   "id": "6af9eaad-c6d1-4b20-915b-6335943abe13",
   "metadata": {},
   "source": [
    "##### i. Constructing a historgrams of the three return series."
   ]
  },
  {
   "cell_type": "code",
   "execution_count": null,
   "id": "024329eb-4f97-4730-923c-ee24ed1813a2",
   "metadata": {},
   "outputs": [],
   "source": []
  },
  {
   "cell_type": "markdown",
   "id": "29952e81-a371-4319-bba7-acb9c9c12192",
   "metadata": {},
   "source": [
    "##### j. Testing whether the mean of the daily log return is different from zero."
   ]
  },
  {
   "cell_type": "code",
   "execution_count": null,
   "id": "a0ead171-7dad-4f55-b637-3adcd3d2af0f",
   "metadata": {},
   "outputs": [],
   "source": []
  },
  {
   "cell_type": "markdown",
   "id": "9ae074ad-b22e-4f72-b9da-132bb6db9aa1",
   "metadata": {},
   "source": [
    "##### k. Computing the total HPR, the average annual HPR returns, and reporting the values in percentage."
   ]
  },
  {
   "cell_type": "code",
   "execution_count": null,
   "id": "7f5d750c-fc46-4cda-9ba5-4f6920c177d1",
   "metadata": {},
   "outputs": [],
   "source": []
  },
  {
   "cell_type": "markdown",
   "id": "b989f73e-1b3f-40e3-9618-07d29e25529c",
   "metadata": {},
   "source": [
    "##### l. Summary of the analysis for Section 2."
   ]
  },
  {
   "cell_type": "code",
   "execution_count": null,
   "id": "8a730510-78a1-45cf-8aff-c750c6985015",
   "metadata": {},
   "outputs": [],
   "source": []
  }
 ],
 "metadata": {
  "kernelspec": {
   "display_name": "Python 3 (ipykernel)",
   "language": "python",
   "name": "python3"
  },
  "language_info": {
   "codemirror_mode": {
    "name": "ipython",
    "version": 3
   },
   "file_extension": ".py",
   "mimetype": "text/x-python",
   "name": "python",
   "nbconvert_exporter": "python",
   "pygments_lexer": "ipython3",
   "version": "3.12.5"
  }
 },
 "nbformat": 4,
 "nbformat_minor": 5
}
