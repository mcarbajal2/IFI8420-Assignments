{
 "cells": [
  {
   "cell_type": "markdown",
   "id": "aea71ec3-5c86-46f5-a1c5-b171afc61fcd",
   "metadata": {
    "editable": true,
    "slideshow": {
     "slide_type": ""
    },
    "tags": []
   },
   "source": [
    "# <b>IFI 8420 - Assignment 1</b>\n",
    "### Team 5"
   ]
  },
  {
   "cell_type": "markdown",
   "id": "a8913e21-246c-4433-aa74-4d7e57e7839c",
   "metadata": {},
   "source": [
    "<hr>"
   ]
  },
  {
   "cell_type": "markdown",
   "id": "291a5db7-ecef-418f-8786-60c939ec843d",
   "metadata": {},
   "source": [
    "### <b>Section 1</b> - Netflix stock from Yahoo (Jan 2, 2004 - Dec 31, 2019)\n",
    "##### <u>Section Code Split</u>\n",
    "<ol>\n",
    "    <li>Mina - </li>\n",
    "    <li>Carmen - </li>\n",
    "    <li>Gaayathri - </li>\n",
    "    <li>Jonathan - </li>   \n",
    "</ol>"
   ]
  },
  {
   "cell_type": "markdown",
   "id": "5626139a-b4a2-48d3-b521-9a8d1d5f1e6f",
   "metadata": {},
   "source": [
    "<hr>"
   ]
  },
  {
   "cell_type": "markdown",
   "id": "af0389eb-6ed2-4150-9b7c-11559db796a6",
   "metadata": {},
   "source": [
    "##### a. Converting the CSV file to a dataframe."
   ]
  },
  {
   "cell_type": "code",
   "execution_count": null,
   "id": "e4d508a5-1447-4839-960e-914b4e22f811",
   "metadata": {},
   "outputs": [],
   "source": []
  },
  {
   "cell_type": "markdown",
   "id": "b4932b2b-3259-4407-8ba9-646a20382f81",
   "metadata": {},
   "source": [
    "##### b. Seeing the size and type of the dataframe."
   ]
  },
  {
   "cell_type": "code",
   "execution_count": null,
   "id": "08f0ba8a-8965-4c12-b581-2775cc67281f",
   "metadata": {},
   "outputs": [],
   "source": []
  },
  {
   "cell_type": "markdown",
   "id": "1606c779-b351-46b6-b888-91152e83c542",
   "metadata": {},
   "source": [
    "##### c. Viewing the first 5 rows of the dataframe."
   ]
  },
  {
   "cell_type": "code",
   "execution_count": null,
   "id": "e14ccb1d-0590-40f5-b513-dbed3ae843c8",
   "metadata": {},
   "outputs": [],
   "source": []
  },
  {
   "cell_type": "markdown",
   "id": "9a2b7060-d62c-4df1-a013-ab084d1ee484",
   "metadata": {},
   "source": [
    "##### d. Plotting the daily prices."
   ]
  },
  {
   "cell_type": "code",
   "execution_count": null,
   "id": "ef134699-82af-46b6-9fa0-b22bd7a95ba2",
   "metadata": {},
   "outputs": [],
   "source": []
  },
  {
   "cell_type": "markdown",
   "id": "51a88e2e-59c5-4740-97d2-6388834b2c7e",
   "metadata": {},
   "source": [
    "##### e. Computing log returns using closing price."
   ]
  },
  {
   "cell_type": "code",
   "execution_count": null,
   "id": "d8f271dd-b080-40ff-973c-afceda6e3ef3",
   "metadata": {},
   "outputs": [],
   "source": []
  },
  {
   "cell_type": "markdown",
   "id": "aff50453-735f-4cb7-b2e4-476be41be8ad",
   "metadata": {},
   "source": [
    "##### f. Constructing a time plot of the daily log returns."
   ]
  },
  {
   "cell_type": "code",
   "execution_count": null,
   "id": "1a6708fd-0eca-405e-ab2c-70aeb06e3001",
   "metadata": {},
   "outputs": [],
   "source": []
  },
  {
   "cell_type": "markdown",
   "id": "ed1885d7-941e-47fd-935d-f335efcb2e0c",
   "metadata": {},
   "source": [
    "##### g. Calculating the sample mean, standard deviation, minimum, and maximum of the daily log returns series."
   ]
  },
  {
   "cell_type": "code",
   "execution_count": null,
   "id": "13ca48ae-598d-4e3a-b7eb-ce70e0edaed4",
   "metadata": {},
   "outputs": [],
   "source": []
  },
  {
   "cell_type": "markdown",
   "id": "c8384bfd-d48e-4318-9aa7-62b2f78f6aec",
   "metadata": {},
   "source": [
    "##### h. Constructing a historgram of the return series."
   ]
  },
  {
   "cell_type": "code",
   "execution_count": null,
   "id": "84ae804e-8aad-4f7e-8e72-b2f295b4aa6d",
   "metadata": {},
   "outputs": [],
   "source": []
  },
  {
   "cell_type": "markdown",
   "id": "d266bda6-e073-4a30-acab-7e1761568f3a",
   "metadata": {},
   "source": [
    "##### i. Testing whether the mean of the daily log return is different from zero."
   ]
  },
  {
   "cell_type": "code",
   "execution_count": null,
   "id": "1aca55c0-8eb1-44e5-b2a9-657b0017e18f",
   "metadata": {},
   "outputs": [],
   "source": []
  },
  {
   "cell_type": "markdown",
   "id": "2abeeac7-c20c-4b8c-abca-3c79bc3adcde",
   "metadata": {},
   "source": [
    "##### j. Summary of the analysis for Section 1."
   ]
  },
  {
   "cell_type": "code",
   "execution_count": null,
   "id": "47e8488b-87d2-4d80-a8bb-d8cbe656b467",
   "metadata": {},
   "outputs": [],
   "source": []
  },
  {
   "cell_type": "markdown",
   "id": "315df20a-4405-4878-ae19-843e2671937b",
   "metadata": {},
   "source": [
    "<hr>"
   ]
  },
  {
   "cell_type": "markdown",
   "id": "fa853452-7242-42a6-8913-4b2e92d1f456",
   "metadata": {},
   "source": [
    "### <b>Section 2</b> - Chosen Stocks Monthly Prices Datasets\n",
    "##### First dataset: link\n",
    "##### Second dataset: link\n",
    "##### Third dataset: link<br>\n",
    "##### <u>Section Code Split</u>\n",
    "<ol>\n",
    "    <li>Mina - </li>\n",
    "    <li>Carmen - </li>\n",
    "    <li>Gaayathri - </li>\n",
    "    <li>Jonathan - </li>   \n",
    "</ol>"
   ]
  },
  {
   "cell_type": "markdown",
   "id": "ab6ff8aa-e9c1-4d10-b97a-0ab2ec7ff2dc",
   "metadata": {},
   "source": [
    "<hr>"
   ]
  },
  {
   "cell_type": "markdown",
   "id": "deeb67da-3349-47e0-97b9-6483e4c76853",
   "metadata": {},
   "source": [
    "##### a. Converting the CSV files to a dataframe."
   ]
  },
  {
   "cell_type": "code",
   "execution_count": null,
   "id": "c6d9a055-3b36-4f72-9602-40d398a6bd2b",
   "metadata": {},
   "outputs": [],
   "source": []
  },
  {
   "cell_type": "markdown",
   "id": "090b87b0-f60a-424e-9416-c2ddea020f98",
   "metadata": {},
   "source": [
    "##### b. Choosing the adjusted closing price of the three stocks and formatting the price series in a single Data series."
   ]
  },
  {
   "cell_type": "code",
   "execution_count": null,
   "id": "a8f5260c-ff36-4340-b424-5313959a330a",
   "metadata": {},
   "outputs": [],
   "source": []
  },
  {
   "cell_type": "markdown",
   "id": "74fef274-a2cb-4318-ab62-280e0ddddf94",
   "metadata": {},
   "source": [
    "##### c. Seeing the size and type of the dataframe."
   ]
  },
  {
   "cell_type": "code",
   "execution_count": null,
   "id": "8f2ef112-8612-4a7f-a0a5-5d364f2feea4",
   "metadata": {},
   "outputs": [],
   "source": []
  },
  {
   "cell_type": "markdown",
   "id": "2226a79e-5647-4170-8982-80026f6b2a1c",
   "metadata": {},
   "source": [
    "##### d. Viewing the first 5 rows of the dataframe."
   ]
  },
  {
   "cell_type": "code",
   "execution_count": null,
   "id": "285096ef-e8fa-464b-9620-f512a60404ce",
   "metadata": {},
   "outputs": [],
   "source": []
  },
  {
   "cell_type": "markdown",
   "id": "a751e04b-cafb-4b29-9e18-d95b3b622ec9",
   "metadata": {},
   "source": [
    "##### e. Plotting the monthly prices of the three stocks."
   ]
  },
  {
   "cell_type": "code",
   "execution_count": null,
   "id": "e20fd15d-9932-40a9-9c74-fc724ccbda04",
   "metadata": {},
   "outputs": [],
   "source": []
  },
  {
   "cell_type": "markdown",
   "id": "15224f9e-f423-4879-b5fd-68746f9f2b1d",
   "metadata": {},
   "source": [
    "##### f. Computing log returns using closing price, using functions, loops, etc."
   ]
  },
  {
   "cell_type": "code",
   "execution_count": null,
   "id": "b5711d08-ed58-45f7-8ac4-6292c6af3997",
   "metadata": {},
   "outputs": [],
   "source": []
  },
  {
   "cell_type": "markdown",
   "id": "8f02f70a-bda9-44a9-9a8e-733be8225c96",
   "metadata": {},
   "source": [
    "##### g. Constructing a time plot of the monthly log returns of the three stocks, and displaying the return series together in one plot and also separately."
   ]
  },
  {
   "cell_type": "code",
   "execution_count": null,
   "id": "5ef5efff-a97a-4a93-8007-3e0e1f4cfcfa",
   "metadata": {},
   "outputs": [],
   "source": []
  },
  {
   "cell_type": "markdown",
   "id": "f2e74be2-4df6-41f3-a3c1-275c80b8c760",
   "metadata": {},
   "source": [
    "##### h. Calculating the sample mean, standard deviation, minimum, and maximum of the monthly log returns series."
   ]
  },
  {
   "cell_type": "code",
   "execution_count": null,
   "id": "dd367a6f-d4b8-4bf6-ac61-aa49b0288b35",
   "metadata": {},
   "outputs": [],
   "source": []
  },
  {
   "cell_type": "markdown",
   "id": "6af9eaad-c6d1-4b20-915b-6335943abe13",
   "metadata": {},
   "source": [
    "##### i. Constructing a historgrams of the three return series."
   ]
  },
  {
   "cell_type": "code",
   "execution_count": null,
   "id": "024329eb-4f97-4730-923c-ee24ed1813a2",
   "metadata": {},
   "outputs": [],
   "source": []
  },
  {
   "cell_type": "markdown",
   "id": "29952e81-a371-4319-bba7-acb9c9c12192",
   "metadata": {},
   "source": [
    "##### j. Testing whether the mean of the daily log return is different from zero."
   ]
  },
  {
   "cell_type": "code",
   "execution_count": null,
   "id": "a0ead171-7dad-4f55-b637-3adcd3d2af0f",
   "metadata": {},
   "outputs": [],
   "source": []
  },
  {
   "cell_type": "markdown",
   "id": "9ae074ad-b22e-4f72-b9da-132bb6db9aa1",
   "metadata": {},
   "source": [
    "##### k. Computing the total HPR, the average annual HPR returns, and reporting the values in percentage."
   ]
  },
  {
   "cell_type": "code",
   "execution_count": null,
   "id": "7f5d750c-fc46-4cda-9ba5-4f6920c177d1",
   "metadata": {},
   "outputs": [],
   "source": []
  },
  {
   "cell_type": "markdown",
   "id": "b989f73e-1b3f-40e3-9618-07d29e25529c",
   "metadata": {},
   "source": [
    "##### l. Summary of the analysis for Section 2."
   ]
  },
  {
   "cell_type": "code",
   "execution_count": null,
   "id": "8a730510-78a1-45cf-8aff-c750c6985015",
   "metadata": {},
   "outputs": [],
   "source": []
  }
 ],
 "metadata": {
  "kernelspec": {
   "display_name": "Python [conda env:base] *",
   "language": "python",
   "name": "conda-base-py"
  },
  "language_info": {
   "codemirror_mode": {
    "name": "ipython",
    "version": 3
   },
   "file_extension": ".py",
   "mimetype": "text/x-python",
   "name": "python",
   "nbconvert_exporter": "python",
   "pygments_lexer": "ipython3",
   "version": "3.12.2"
  }
 },
 "nbformat": 4,
 "nbformat_minor": 5
}
