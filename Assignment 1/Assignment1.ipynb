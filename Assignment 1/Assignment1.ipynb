{
 "cells": [
  {
   "cell_type": "markdown",
   "id": "aea71ec3-5c86-46f5-a1c5-b171afc61fcd",
   "metadata": {
    "editable": true,
    "slideshow": {
     "slide_type": ""
    },
    "tags": []
   },
   "source": [
    "# <b>IFI 8420 - Assignment 1</b>\n",
    "### Team 5"
   ]
  },
  {
   "cell_type": "markdown",
   "id": "a8913e21-246c-4433-aa74-4d7e57e7839c",
   "metadata": {},
   "source": [
    "<hr>"
   ]
  },
  {
   "cell_type": "markdown",
   "id": "4fe74ab4-9e78-41e6-8f31-bc42c490febe",
   "metadata": {},
   "source": [
    "#### Install all the requirement packages"
   ]
  },
  {
   "cell_type": "code",
   "execution_count": 22,
   "id": "2b706fed-cab9-44bc-8b9a-3edbe7fe1176",
   "metadata": {},
   "outputs": [],
   "source": [
    "import pandas as pd\n",
    "import yfinance as yf\n",
    "import numpy as np\n",
    "from scipy.stats import norm\n",
    "from scipy import stats\n",
    "import matplotlib.pyplot as plt"
   ]
  },
  {
   "cell_type": "markdown",
   "id": "291a5db7-ecef-418f-8786-60c939ec843d",
   "metadata": {},
   "source": [
    "### <b>Section 1</b> - Netflix stock from Yahoo (Jan 2, 2004 - Dec 31, 2019)\n",
    "##### <u>Section Code Split</u>\n",
    "<ol>\n",
    "    <li>Mina - </li>\n",
    "    <li>Carmen - </li>\n",
    "    <li>Gaayathri - </li>\n",
    "    <li>Jonathan - </li>   \n",
    "</ol>"
   ]
  },
  {
   "cell_type": "markdown",
   "id": "5626139a-b4a2-48d3-b521-9a8d1d5f1e6f",
   "metadata": {},
   "source": [
    "<hr>"
   ]
  },
  {
   "cell_type": "markdown",
   "id": "af0389eb-6ed2-4150-9b7c-11559db796a6",
   "metadata": {},
   "source": [
    "#### Download the data for NFLX from Yahoo to a dataframe. (<b>a</b>)"
   ]
  },
  {
   "cell_type": "code",
   "execution_count": 27,
   "id": "e4d508a5-1447-4839-960e-914b4e22f811",
   "metadata": {},
   "outputs": [
    {
     "name": "stderr",
     "output_type": "stream",
     "text": [
      "[*********************100%***********************]  1 of 1 completed\n"
     ]
    }
   ],
   "source": [
    "netflix_df = yf.download('NFLX').loc[\"2004-01-02\":\"2019-12-31\"]"
   ]
  },
  {
   "cell_type": "markdown",
   "id": "b4932b2b-3259-4407-8ba9-646a20382f81",
   "metadata": {},
   "source": [
    "#### Seeing the size and type of the dataframe  (<b>b</b>)"
   ]
  },
  {
   "cell_type": "code",
   "execution_count": 29,
   "id": "08f0ba8a-8965-4c12-b581-2775cc67281f",
   "metadata": {},
   "outputs": [
    {
     "name": "stdout",
     "output_type": "stream",
     "text": [
      "(4027, 5)\n",
      "<class 'pandas.core.frame.DataFrame'>\n"
     ]
    }
   ],
   "source": [
    "print(netflix_df.shape)\n",
    "print(type(netflix_df))"
   ]
  },
  {
   "cell_type": "markdown",
   "id": "1606c779-b351-46b6-b888-91152e83c542",
   "metadata": {},
   "source": [
    "#### Viewing the first 5 rows of the dataframe (<b>c</b>)"
   ]
  },
  {
   "cell_type": "code",
   "execution_count": 33,
   "id": "e14ccb1d-0590-40f5-b513-dbed3ae843c8",
   "metadata": {},
   "outputs": [
    {
     "data": {
      "text/html": [
       "<div>\n",
       "<style scoped>\n",
       "    .dataframe tbody tr th:only-of-type {\n",
       "        vertical-align: middle;\n",
       "    }\n",
       "\n",
       "    .dataframe tbody tr th {\n",
       "        vertical-align: top;\n",
       "    }\n",
       "\n",
       "    .dataframe thead tr th {\n",
       "        text-align: left;\n",
       "    }\n",
       "\n",
       "    .dataframe thead tr:last-of-type th {\n",
       "        text-align: right;\n",
       "    }\n",
       "</style>\n",
       "<table border=\"1\" class=\"dataframe\">\n",
       "  <thead>\n",
       "    <tr>\n",
       "      <th>Price</th>\n",
       "      <th>Close</th>\n",
       "      <th>High</th>\n",
       "      <th>Low</th>\n",
       "      <th>Open</th>\n",
       "      <th>Volume</th>\n",
       "    </tr>\n",
       "    <tr>\n",
       "      <th>Ticker</th>\n",
       "      <th>NFLX</th>\n",
       "      <th>NFLX</th>\n",
       "      <th>NFLX</th>\n",
       "      <th>NFLX</th>\n",
       "      <th>NFLX</th>\n",
       "    </tr>\n",
       "    <tr>\n",
       "      <th>Date</th>\n",
       "      <th></th>\n",
       "      <th></th>\n",
       "      <th></th>\n",
       "      <th></th>\n",
       "      <th></th>\n",
       "    </tr>\n",
       "  </thead>\n",
       "  <tbody>\n",
       "    <tr>\n",
       "      <th>2004-01-02</th>\n",
       "      <td>3.916429</td>\n",
       "      <td>4.127857</td>\n",
       "      <td>3.842143</td>\n",
       "      <td>4.107143</td>\n",
       "      <td>50230600</td>\n",
       "    </tr>\n",
       "    <tr>\n",
       "      <th>2004-01-05</th>\n",
       "      <td>3.992857</td>\n",
       "      <td>4.061429</td>\n",
       "      <td>3.875000</td>\n",
       "      <td>3.892857</td>\n",
       "      <td>25207000</td>\n",
       "    </tr>\n",
       "    <tr>\n",
       "      <th>2004-01-06</th>\n",
       "      <td>4.257857</td>\n",
       "      <td>4.339286</td>\n",
       "      <td>3.937143</td>\n",
       "      <td>3.946429</td>\n",
       "      <td>52633000</td>\n",
       "    </tr>\n",
       "    <tr>\n",
       "      <th>2004-01-07</th>\n",
       "      <td>4.445714</td>\n",
       "      <td>4.470000</td>\n",
       "      <td>4.249286</td>\n",
       "      <td>4.307143</td>\n",
       "      <td>68432000</td>\n",
       "    </tr>\n",
       "    <tr>\n",
       "      <th>2004-01-08</th>\n",
       "      <td>4.432857</td>\n",
       "      <td>4.564286</td>\n",
       "      <td>4.291429</td>\n",
       "      <td>4.539286</td>\n",
       "      <td>37178400</td>\n",
       "    </tr>\n",
       "  </tbody>\n",
       "</table>\n",
       "</div>"
      ],
      "text/plain": [
       "Price          Close      High       Low      Open    Volume\n",
       "Ticker          NFLX      NFLX      NFLX      NFLX      NFLX\n",
       "Date                                                        \n",
       "2004-01-02  3.916429  4.127857  3.842143  4.107143  50230600\n",
       "2004-01-05  3.992857  4.061429  3.875000  3.892857  25207000\n",
       "2004-01-06  4.257857  4.339286  3.937143  3.946429  52633000\n",
       "2004-01-07  4.445714  4.470000  4.249286  4.307143  68432000\n",
       "2004-01-08  4.432857  4.564286  4.291429  4.539286  37178400"
      ]
     },
     "execution_count": 33,
     "metadata": {},
     "output_type": "execute_result"
    }
   ],
   "source": [
    "netflix_df.head(5)"
   ]
  },
  {
   "cell_type": "markdown",
   "id": "9a2b7060-d62c-4df1-a013-ab084d1ee484",
   "metadata": {},
   "source": [
    "#### Plotting the daily prices (<b>d</b>)"
   ]
  },
  {
   "cell_type": "code",
   "execution_count": 36,
   "id": "ef134699-82af-46b6-9fa0-b22bd7a95ba2",
   "metadata": {},
   "outputs": [
    {
     "data": {
      "image/png": "[encoded data removed]",
      "text/plain": [
       "<Figure size 1200x600 with 1 Axes>"
      ]
     },
     "metadata": {},
     "output_type": "display_data"
    }
   ],
   "source": [
    "netflix_df['Close'].plot(title = \"NFLX's stock price\", color = \"#831010\", figsize=(12, 6))\n",
    "plt.ylabel('Close Price (USD)')\n",
    "plt.grid(True)\n",
    "plt.show()"
   ]
  },
  {
   "cell_type": "markdown",
   "id": "51a88e2e-59c5-4740-97d2-6388834b2c7e",
   "metadata": {},
   "source": [
    "#### Computing log returns using closing price (<b>e</b>)"
   ]
  },
  {
   "cell_type": "code",
   "execution_count": 39,
   "id": "d8f271dd-b080-40ff-973c-afceda6e3ef3",
   "metadata": {},
   "outputs": [
    {
     "data": {
      "text/plain": [
       "Date\n",
       "2004-01-05    0.019327\n",
       "2004-01-06    0.064259\n",
       "2004-01-07    0.043175\n",
       "2004-01-08   -0.002896\n",
       "2004-01-09   -0.000967\n",
       "                ...   \n",
       "2019-12-24    0.000300\n",
       "2019-12-26   -0.001712\n",
       "2019-12-27   -0.010700\n",
       "2019-12-30   -0.017720\n",
       "2019-12-31    0.000804\n",
       "Name: NFLX, Length: 4026, dtype: float64"
      ]
     },
     "execution_count": 39,
     "metadata": {},
     "output_type": "execute_result"
    }
   ],
   "source": [
    "netflix_returns = netflix_df[\"Close\"]/netflix_df[\"Close\"].shift(1)\n",
    "netflix_log_returns = np.log(netflix_returns)[\"NFLX\"]\n",
    "## Dropping the null observation\n",
    "netflix_log_returns2 = netflix_log_returns.dropna()\n",
    "netflix_log_returns2"
   ]
  },
  {
   "cell_type": "markdown",
   "id": "aff50453-735f-4cb7-b2e4-476be41be8ad",
   "metadata": {},
   "source": [
    "#### Constructing a time plot of the daily log returns (<b>f</b>)"
   ]
  },
  {
   "cell_type": "code",
   "execution_count": 42,
   "id": "1a6708fd-0eca-405e-ab2c-70aeb06e3001",
   "metadata": {},
   "outputs": [
    {
     "data": {
      "image/png": "[encoded data removed]",
      "text/plain": [
       "<Figure size 640x480 with 1 Axes>"
      ]
     },
     "metadata": {},
     "output_type": "display_data"
    }
   ],
   "source": [
    "netflix_log_returns2.plot(title=\"Timeplot of the daily log returns\")\n",
    "plt.ylabel(\"Daily Returns\")\n",
    "plt.show()"
   ]
  },
  {
   "cell_type": "markdown",
   "id": "ed1885d7-941e-47fd-935d-f335efcb2e0c",
   "metadata": {},
   "source": [
    "#### Calculating the sample mean, standard deviation, minimum, and maximum of the daily log returns series (<b>g</b>)"
   ]
  },
  {
   "cell_type": "code",
   "execution_count": 45,
   "id": "13ca48ae-598d-4e3a-b7eb-ce70e0edaed4",
   "metadata": {},
   "outputs": [
    {
     "data": {
      "text/plain": [
       "mean    0.001096\n",
       "std     0.034518\n",
       "min    -0.526049\n",
       "max     0.352230\n",
       "Name: NFLX, dtype: float64"
      ]
     },
     "execution_count": 45,
     "metadata": {},
     "output_type": "execute_result"
    }
   ],
   "source": [
    "netflix_log_returns2.describe().loc[['mean','std','min','max']]"
   ]
  },
  {
   "cell_type": "markdown",
   "id": "c8384bfd-d48e-4318-9aa7-62b2f78f6aec",
   "metadata": {},
   "source": [
    "#### Constructing a historgram of the return series (<b>h</b>)"
   ]
  },
  {
   "cell_type": "code",
   "execution_count": 48,
   "id": "84ae804e-8aad-4f7e-8e72-b2f295b4aa6d",
   "metadata": {},
   "outputs": [
    {
     "data": {
      "image/png": "[encoded data removed]",
      "text/plain": [
       "<Figure size 640x480 with 1 Axes>"
      ]
     },
     "metadata": {},
     "output_type": "display_data"
    }
   ],
   "source": [
    "plt.hist(netflix_returns,bins=100)\n",
    "plt.show()"
   ]
  },
  {
   "cell_type": "markdown",
   "id": "d266bda6-e073-4a30-acab-7e1761568f3a",
   "metadata": {},
   "source": [
    "#### Testing whether the mean of the daily log return is different from zero (<b>i</b>)\n",
    ">Since `pvalue < 0.01`, we reject the Null Hypothesis (H<sub>0</sub>) and accept the Alternative Hypothesis (H<sub>a</sub>). Therefore, we conclude that the mean is different from zero."
   ]
  },
  {
   "cell_type": "code",
   "execution_count": 60,
   "id": "1aca55c0-8eb1-44e5-b2a9-657b0017e18f",
   "metadata": {},
   "outputs": [
    {
     "data": {
      "text/plain": [
       "TtestResult(statistic=2.015425353081419, pvalue=0.04392644609665825, df=4025)"
      ]
     },
     "execution_count": 60,
     "metadata": {},
     "output_type": "execute_result"
    }
   ],
   "source": [
    "stats.ttest_1samp(netflix_log_returns2, 0)"
   ]
  },
  {
   "cell_type": "markdown",
   "id": "2abeeac7-c20c-4b8c-abca-3c79bc3adcde",
   "metadata": {},
   "source": [
    "#### Summary of the analysis for Section 1 (<b>j</b>)"
   ]
  },
  {
   "cell_type": "markdown",
   "id": "5f871420-e153-41bc-9fff-9dd32cc3c7a5",
   "metadata": {},
   "source": [
    "<b>NFLX's Stock Price</b> - (d)<br>\n",
    "Up to 2010, the price of Netflix's stock remains pretty static with a slight increase happening just after. However at 2012, there seems to be a noticible dip in the stock price. Upon a quick search, it seems that in 2012 Netflix pushed the transition from renting DVDs to providing streaming services. They also gained a lot of competitors. The company lost a significant amount of subsricbers due to these changes, which is accurtely represented in the graph we generated.<br>\n",
    "There is also a visible spike followed by a sharp dip in the graph around late 2018 where the price of the stock reached its highest point. According to more research, it seems that this happened in response to a disappointing subscriber count announcement in contrast to what was originally projected.<br>\n",
    "[Source 1](https://www.nbcnews.com/id/wbna46114423) | [Source 2](https://money.usnews.com/investing/stock-market-news/articles/2018-07-16/netflix-inc-nflx-stock)<br>\n",
    "<b>Timeplot of the daily log returns</b> - (f)<br>\n",
    "The 2012 stock price low is once again visible in this graph we generated. It shows that their strategy of changing into a streaming service seems to have really hit the company hard in that period. However after that point, there does not seem to be as many visible log returns changes in price that are depicted. So although the previous graph seemed to indicate the stock's price drop in stock to be significant in late 2018, our graph reveals that because the price was already very high at that point, the overall log returns barely fluctuated.<br>\n",
    "The timeplot graph actually points to another point in time with the biggest percent change increase in stock price, 2013. Fueled by several popular Netflix Original TV series, the company managed to gain and keep millions of new subscribers. Some even pronounced it as one of the best stocks of that year. This event was not as visible in the previous graph, which simply plotted raw returns without calculating the continuously compounded returns.<br>\n",
    "In general, the daily logs return of Netflix's stock prices seems to be a little volatile, seeing as there are a lot of heavy tails in the graph.<br>\n",
    "[Source 1](https://www.latimes.com/entertainment/envelope/la-xpm-2013-apr-22-la-et-ct-netflix-adds-3-million-streaming-subscribers-worldwide-benefits-from-house-of-cards-halo-effect-20130422-story.html) | [Source 2](https://www.investors.com/how-to-invest/investors-corner/netflix-a-winner-in-2013/)<br>\n",
    "<b>Daily Log Returns Statistics</b> - (g)<br>\n",
    "The mean of the daily log returns is positive, so that indicates that the price of Netflix's stock steadly increased over the 15-year period we examined.<br>\n",
    "The standard deviation cements our prior observation point about the Netflix stock prices being somewhat volatible, sitting at 3.4%.<br>\n",
    "The minimum and maximum of the log return indicate the lowest and highest day-to-day loss/gain changes.<br>\n",
    "<b>Histogram</b> - (h)<br>\n",
    "The histogram illustrates that the daily log returns are symmetric with respect to its mean. This indicates that the returns follow a general pattern close to the mean, and that extreme highs and lows in the price are rare."
   ]
  },
  {
   "cell_type": "markdown",
   "id": "315df20a-4405-4878-ae19-843e2671937b",
   "metadata": {},
   "source": [
    "<hr>"
   ]
  },
  {
   "cell_type": "markdown",
   "id": "fa853452-7242-42a6-8913-4b2e92d1f456",
   "metadata": {},
   "source": [
    "### <b>Section 2</b> - Chosen Stocks Monthly Prices Datasets\n",
    "##### First dataset: link\n",
    "##### Second dataset: link\n",
    "##### Third dataset: link<br>\n",
    "##### <u>Section Code Split</u>\n",
    "<ol>\n",
    "    <li>Mina - </li>\n",
    "    <li>Carmen - </li>\n",
    "    <li>Gaayathri - </li>\n",
    "    <li>Jonathan - </li>   \n",
    "</ol>"
   ]
  },
  {
   "cell_type": "markdown",
   "id": "ab6ff8aa-e9c1-4d10-b97a-0ab2ec7ff2dc",
   "metadata": {},
   "source": [
    "<hr>"
   ]
  },
  {
   "cell_type": "markdown",
   "id": "deeb67da-3349-47e0-97b9-6483e4c76853",
   "metadata": {},
   "source": [
    "#### Converting the CSV files to a dataframe (<b>a</b>)"
   ]
  },
  {
   "cell_type": "code",
   "execution_count": null,
   "id": "c6d9a055-3b36-4f72-9602-40d398a6bd2b",
   "metadata": {},
   "outputs": [],
   "source": []
  },
  {
   "cell_type": "markdown",
   "id": "090b87b0-f60a-424e-9416-c2ddea020f98",
   "metadata": {},
   "source": [
    "#### Choosing the adjusted closing price of the three stocks and formatting the price series in a single Data series (<b>b</b>)"
   ]
  },
  {
   "cell_type": "code",
   "execution_count": null,
   "id": "a8f5260c-ff36-4340-b424-5313959a330a",
   "metadata": {},
   "outputs": [],
   "source": []
  },
  {
   "cell_type": "markdown",
   "id": "74fef274-a2cb-4318-ab62-280e0ddddf94",
   "metadata": {},
   "source": [
    "#### Seeing the size and type of the dataframe. (<b>c</b>)"
   ]
  },
  {
   "cell_type": "code",
   "execution_count": null,
   "id": "8f2ef112-8612-4a7f-a0a5-5d364f2feea4",
   "metadata": {},
   "outputs": [],
   "source": []
  },
  {
   "cell_type": "markdown",
   "id": "2226a79e-5647-4170-8982-80026f6b2a1c",
   "metadata": {},
   "source": [
    "#### Viewing the first 5 rows of the dataframe (<b>d</b>)"
   ]
  },
  {
   "cell_type": "code",
   "execution_count": null,
   "id": "285096ef-e8fa-464b-9620-f512a60404ce",
   "metadata": {},
   "outputs": [],
   "source": []
  },
  {
   "cell_type": "markdown",
   "id": "a751e04b-cafb-4b29-9e18-d95b3b622ec9",
   "metadata": {},
   "source": [
    "#### Plotting the monthly prices of the three stocks (<b>e</b>)"
   ]
  },
  {
   "cell_type": "code",
   "execution_count": null,
   "id": "e20fd15d-9932-40a9-9c74-fc724ccbda04",
   "metadata": {},
   "outputs": [],
   "source": []
  },
  {
   "cell_type": "markdown",
   "id": "15224f9e-f423-4879-b5fd-68746f9f2b1d",
   "metadata": {},
   "source": [
    "#### Computing log returns using closing price, using functions, loops, etc. (<b>f</b>)"
   ]
  },
  {
   "cell_type": "code",
   "execution_count": null,
   "id": "b5711d08-ed58-45f7-8ac4-6292c6af3997",
   "metadata": {},
   "outputs": [],
   "source": []
  },
  {
   "cell_type": "markdown",
   "id": "8f02f70a-bda9-44a9-9a8e-733be8225c96",
   "metadata": {},
   "source": [
    "#### Constructing a time plot of the monthly log returns of the three stocks, and displaying the return series together in one plot and also separately (<b>g</b>)"
   ]
  },
  {
   "cell_type": "code",
   "execution_count": null,
   "id": "5ef5efff-a97a-4a93-8007-3e0e1f4cfcfa",
   "metadata": {},
   "outputs": [],
   "source": []
  },
  {
   "cell_type": "markdown",
   "id": "f2e74be2-4df6-41f3-a3c1-275c80b8c760",
   "metadata": {},
   "source": [
    "#### Calculating the sample mean, standard deviation, minimum, and maximum of the monthly log returns series (<b>h</b>)"
   ]
  },
  {
   "cell_type": "code",
   "execution_count": null,
   "id": "dd367a6f-d4b8-4bf6-ac61-aa49b0288b35",
   "metadata": {},
   "outputs": [],
   "source": []
  },
  {
   "cell_type": "markdown",
   "id": "6af9eaad-c6d1-4b20-915b-6335943abe13",
   "metadata": {},
   "source": [
    "#### Constructing a historgrams of the three return series (<b>i</b>)"
   ]
  },
  {
   "cell_type": "code",
   "execution_count": null,
   "id": "024329eb-4f97-4730-923c-ee24ed1813a2",
   "metadata": {},
   "outputs": [],
   "source": []
  },
  {
   "cell_type": "markdown",
   "id": "29952e81-a371-4319-bba7-acb9c9c12192",
   "metadata": {},
   "source": [
    "#### Testing whether the mean of the daily log return is different from zero (<b>j</b>)"
   ]
  },
  {
   "cell_type": "code",
   "execution_count": null,
   "id": "a0ead171-7dad-4f55-b637-3adcd3d2af0f",
   "metadata": {},
   "outputs": [],
   "source": []
  },
  {
   "cell_type": "markdown",
   "id": "9ae074ad-b22e-4f72-b9da-132bb6db9aa1",
   "metadata": {},
   "source": [
    "#### Computing the total HPR, the average annual HPR returns, and reporting the values in percentage (<b>k</b>)"
   ]
  },
  {
   "cell_type": "code",
   "execution_count": null,
   "id": "7f5d750c-fc46-4cda-9ba5-4f6920c177d1",
   "metadata": {},
   "outputs": [],
   "source": []
  },
  {
   "cell_type": "markdown",
   "id": "b989f73e-1b3f-40e3-9618-07d29e25529c",
   "metadata": {},
   "source": [
    "#### Summary of the analysis for Section 2 (<b>l</b>)"
   ]
  },
  {
   "cell_type": "code",
   "execution_count": null,
   "id": "8a730510-78a1-45cf-8aff-c750c6985015",
   "metadata": {},
   "outputs": [],
   "source": []
  }
 ],
 "metadata": {
  "kernelspec": {
   "display_name": "Python [conda env:base] *",
   "language": "python",
   "name": "conda-base-py"
  },
  "language_info": {
   "codemirror_mode": {
    "name": "ipython",
    "version": 3
   },
   "file_extension": ".py",
   "mimetype": "text/x-python",
   "name": "python",
   "nbconvert_exporter": "python",
   "pygments_lexer": "ipython3",
   "version": "3.12.7"
  }
 },
 "nbformat": 4,
 "nbformat_minor": 5
}
