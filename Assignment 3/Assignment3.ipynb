{
 "cells": [
  {
   "cell_type": "markdown",
   "id": "08a7217c-5b77-43c7-9324-8ad8aa94ac52",
   "metadata": {},
   "source": [
    "# <b>IFI 8420 - Assignment 3</b>\n",
    "### Team 5\n",
    "Mina Carbajal, Carmen Morales-Mier, Gaayathri Rayapaneni, Ignatius Jonathan Sugijono"
   ]
  },
  {
   "cell_type": "markdown",
   "id": "0020f8e7-32f8-4d30-b7bd-cd3f534d70ff",
   "metadata": {},
   "source": [
    "<hr>"
   ]
  },
  {
   "cell_type": "markdown",
   "id": "496f225b-4e8a-471d-aaf8-eba4bd8bd0a4",
   "metadata": {},
   "source": [
    "#### Installing all the requirement packages"
   ]
  },
  {
   "cell_type": "code",
   "execution_count": 1,
   "id": "5c2ca014-9faa-4855-bbfc-d0eef4c42af8",
   "metadata": {},
   "outputs": [],
   "source": [
    "import pandas as pd"
   ]
  },
  {
   "cell_type": "markdown",
   "id": "1f6061f8-ea0e-4565-9576-ca4f61ca3a75",
   "metadata": {},
   "source": [
    "#### Downloading CreditCard CSV data"
   ]
  },
  {
   "cell_type": "code",
   "execution_count": 2,
   "id": "d7410e8a-f1dd-45af-85d8-e478a0b3071a",
   "metadata": {
    "scrolled": true
   },
   "outputs": [
    {
     "name": "stdout",
     "output_type": "stream",
     "text": [
      "<class 'pandas.core.frame.DataFrame'>\n",
      "RangeIndex: 1319 entries, 0 to 1318\n",
      "Data columns (total 12 columns):\n",
      " #   Column       Non-Null Count  Dtype  \n",
      "---  ------       --------------  -----  \n",
      " 0   card         1319 non-null   object \n",
      " 1   reports      1319 non-null   int64  \n",
      " 2   age          1319 non-null   float64\n",
      " 3   income       1319 non-null   float64\n",
      " 4   share        1319 non-null   float64\n",
      " 5   expenditure  1319 non-null   float64\n",
      " 6   owner        1319 non-null   object \n",
      " 7   selfemp      1319 non-null   object \n",
      " 8   dependents   1319 non-null   int64  \n",
      " 9   months       1319 non-null   int64  \n",
      " 10  majorcards   1319 non-null   int64  \n",
      " 11  active       1319 non-null   int64  \n",
      "dtypes: float64(4), int64(5), object(3)\n",
      "memory usage: 123.8+ KB\n",
      "None\n"
     ]
    }
   ],
   "source": [
    "credit_df = pd.read_csv('CreditCard.csv')\n",
    "\n",
    "print(credit_df.info())"
   ]
  },
  {
   "cell_type": "markdown",
   "id": "692227bf-27ea-4a23-96ef-fb516a4dadc6",
   "metadata": {},
   "source": [
    "<hr>"
   ]
  },
  {
   "cell_type": "markdown",
   "id": "58e20fa5-82de-4ca9-a5d9-d0c1b55ea21f",
   "metadata": {},
   "source": [
    "### <b>Section 1</b> - CreditCard data set\n",
    "##### <u>Section Code Split</u>\n",
    "<ul>\n",
    "    <li>Mina - </li>\n",
    "    <li>Carmen - </li>\n",
    "    <li>Gaayathri - </li>\n",
    "    <li>Jonathan - </li>   \n",
    "</ul>"
   ]
  },
  {
   "cell_type": "markdown",
   "id": "8a26c2e6-88cb-4803-9a40-e5dac7e3d0d1",
   "metadata": {},
   "source": [
    "#### Summary stat for all the variables in the CreditCard data. (<b>A</b>)"
   ]
  },
  {
   "cell_type": "code",
   "execution_count": null,
   "id": "4d97a2f6-58a9-4d84-9174-4edff874a45a",
   "metadata": {},
   "outputs": [],
   "source": []
  },
  {
   "cell_type": "markdown",
   "id": "bf6ec592-ad9b-4556-a57d-406d9f2cc904",
   "metadata": {},
   "source": [
    "#### Getting data with ages over 18 for the analysis. (<b>B</b>)"
   ]
  },
  {
   "cell_type": "code",
   "execution_count": null,
   "id": "14cc7da7-dda5-4e30-b18d-29853ea5568f",
   "metadata": {},
   "outputs": [],
   "source": []
  },
  {
   "cell_type": "markdown",
   "id": "58d3520b-9208-4315-a1ed-057a69b77408",
   "metadata": {},
   "source": [
    "#### Plot of <u>income</u> vs. <u>reports</u>. (<b>C</b>)"
   ]
  },
  {
   "cell_type": "code",
   "execution_count": null,
   "id": "13181c21-af9a-4a24-bae4-ccf1336fc6c4",
   "metadata": {},
   "outputs": [],
   "source": []
  },
  {
   "cell_type": "markdown",
   "id": "6e73e191-ef37-41aa-afcb-edf2aa2d0807",
   "metadata": {},
   "source": [
    "#### Boxplot of <u>income</u> as a function of card acceptance status and of <u>reports</u> as a function of card acceptance status. (<b>D</b>)"
   ]
  },
  {
   "cell_type": "code",
   "execution_count": null,
   "id": "07222adc-c1be-440d-9218-7b4b378cbff8",
   "metadata": {},
   "outputs": [],
   "source": []
  },
  {
   "cell_type": "markdown",
   "id": "2b913318-2ea1-44d3-ae87-8585821be0ad",
   "metadata": {},
   "source": [
    "### Histograms for the predictors. (<b>E</b>)"
   ]
  },
  {
   "cell_type": "code",
   "execution_count": null,
   "id": "151b9060-9463-41ae-ad14-b8767f992247",
   "metadata": {},
   "outputs": [],
   "source": []
  },
  {
   "cell_type": "markdown",
   "id": "b5bb6755-e8bf-448c-b0e6-ed1b66d96d25",
   "metadata": {},
   "source": [
    "### Using Logistic Regression with variables 2 to 8 determine which of the predictors influence the probability that an application is accepted  + summary of the model + summary of the model. (<b>F</b>)"
   ]
  },
  {
   "cell_type": "code",
   "execution_count": null,
   "id": "1ee1b324-490e-4530-aecd-58f44a1ac828",
   "metadata": {},
   "outputs": [],
   "source": []
  },
  {
   "cell_type": "markdown",
   "id": "9056a8ad-8b7e-4489-bbf2-8bd34280ef65",
   "metadata": {},
   "source": [
    "### Converting the predicted probabilities into class labels + computing the confusion matrix and overall fraction of correct predictions. (<b>G</b>)"
   ]
  },
  {
   "cell_type": "code",
   "execution_count": null,
   "id": "4b63b3b0-3fc2-4cc3-ae54-1d312ea8ce97",
   "metadata": {},
   "outputs": [],
   "source": []
  },
  {
   "cell_type": "markdown",
   "id": "7c143dbb-581b-4e27-97c0-10aea7029688",
   "metadata": {},
   "source": [
    "### Fitting the model using a training data for observations 1 to 1000 + computing the confusion matrix and overall fraction of correct predictions for the test data. (<b>H</b>)"
   ]
  },
  {
   "cell_type": "code",
   "execution_count": null,
   "id": "12ebad06-b693-45ff-a6b2-20ba2239d6ad",
   "metadata": {},
   "outputs": [],
   "source": []
  },
  {
   "cell_type": "markdown",
   "id": "cdcd2d95-c08d-41b9-bece-5badc19fd880",
   "metadata": {},
   "source": [
    "### Applying Discriminant Analysis (LDA), Nearest-Neighbors, Naïve Bayes in the training and test data + model performance metrics. (<b>I</b>)"
   ]
  },
  {
   "cell_type": "code",
   "execution_count": null,
   "id": "c09e76a6-9f55-4db5-9722-079be6e5a9b7",
   "metadata": {},
   "outputs": [],
   "source": []
  },
  {
   "cell_type": "markdown",
   "id": "a1dd0771-388c-4352-8461-0bd0f89f9a90",
   "metadata": {},
   "source": [
    "### Comparison + final model selection and validation of the models from (H) and (I), <i>written in Python</i>. (<b>J</b>)"
   ]
  },
  {
   "cell_type": "code",
   "execution_count": null,
   "id": "4733d9e2-0915-4a23-a57f-46036fd91bd9",
   "metadata": {},
   "outputs": [],
   "source": []
  }
 ],
 "metadata": {
  "kernelspec": {
   "display_name": "Python 3 (ipykernel)",
   "language": "python",
   "name": "python3"
  },
  "language_info": {
   "codemirror_mode": {
    "name": "ipython",
    "version": 3
   },
   "file_extension": ".py",
   "mimetype": "text/x-python",
   "name": "python",
   "nbconvert_exporter": "python",
   "pygments_lexer": "ipython3",
   "version": "3.12.3"
  }
 },
 "nbformat": 4,
 "nbformat_minor": 5
}
