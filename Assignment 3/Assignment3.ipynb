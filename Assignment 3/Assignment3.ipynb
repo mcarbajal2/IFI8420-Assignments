{
 "cells": [
  {
   "cell_type": "markdown",
   "id": "08a7217c-5b77-43c7-9324-8ad8aa94ac52",
   "metadata": {},
   "source": [
    "# <b>IFI 8420 - Assignment 3</b>\n",
    "### Team 5\n",
    "Mina Carbajal, Carmen Morales-Mier, Gaayathri Rayapaneni, Ignatius Jonathan Sugijono"
   ]
  },
  {
   "cell_type": "markdown",
   "id": "0020f8e7-32f8-4d30-b7bd-cd3f534d70ff",
   "metadata": {},
   "source": [
    "<hr>"
   ]
  },
  {
   "cell_type": "markdown",
   "id": "496f225b-4e8a-471d-aaf8-eba4bd8bd0a4",
   "metadata": {},
   "source": [
    "#### Installing all the requirement packages"
   ]
  },
  {
   "cell_type": "code",
   "execution_count": 25,
   "id": "5c2ca014-9faa-4855-bbfc-d0eef4c42af8",
   "metadata": {},
   "outputs": [],
   "source": [
    "import pandas as pd\n",
    "import matplotlib.pyplot as plt\n",
    "import seaborn as sns"
   ]
  },
  {
   "cell_type": "markdown",
   "id": "1f6061f8-ea0e-4565-9576-ca4f61ca3a75",
   "metadata": {},
   "source": [
    "#### Downloading CreditCard CSV data"
   ]
  },
  {
   "cell_type": "code",
   "execution_count": 36,
   "id": "d7410e8a-f1dd-45af-85d8-e478a0b3071a",
   "metadata": {
    "scrolled": true
   },
   "outputs": [
    {
     "name": "stdout",
     "output_type": "stream",
     "text": [
      "<class 'pandas.core.frame.DataFrame'>\n",
      "RangeIndex: 1319 entries, 0 to 1318\n",
      "Data columns (total 12 columns):\n",
      " #   Column       Non-Null Count  Dtype  \n",
      "---  ------       --------------  -----  \n",
      " 0   card         1319 non-null   object \n",
      " 1   reports      1319 non-null   int64  \n",
      " 2   age          1319 non-null   float64\n",
      " 3   income       1319 non-null   float64\n",
      " 4   share        1319 non-null   float64\n",
      " 5   expenditure  1319 non-null   float64\n",
      " 6   owner        1319 non-null   object \n",
      " 7   selfemp      1319 non-null   object \n",
      " 8   dependents   1319 non-null   int64  \n",
      " 9   months       1319 non-null   int64  \n",
      " 10  majorcards   1319 non-null   int64  \n",
      " 11  active       1319 non-null   int64  \n",
      "dtypes: float64(4), int64(5), object(3)\n",
      "memory usage: 123.8+ KB\n",
      "None\n"
     ]
    }
   ],
   "source": [
    "credit_df = pd.read_csv('CreditCard.csv')\n",
    "print(credit_df.info())"
   ]
  },
  {
   "cell_type": "markdown",
   "id": "692227bf-27ea-4a23-96ef-fb516a4dadc6",
   "metadata": {},
   "source": [
    "<hr>"
   ]
  },
  {
   "cell_type": "markdown",
   "id": "58e20fa5-82de-4ca9-a5d9-d0c1b55ea21f",
   "metadata": {},
   "source": [
    "### <b>Section 1</b> - CreditCard data set\n",
    "##### <u>Section Code Split</u>\n",
    "<ul>\n",
    "    <li>Mina - A, B, C</li>\n",
    "    <li>Carmen - </li>\n",
    "    <li>Gaayathri - </li>\n",
    "    <li>Jonathan - </li>   \n",
    "</ul>"
   ]
  },
  {
   "cell_type": "markdown",
   "id": "8a26c2e6-88cb-4803-9a40-e5dac7e3d0d1",
   "metadata": {},
   "source": [
    "#### Summary stat for all the variables in the CreditCard data. (<b>A</b>)"
   ]
  },
  {
   "cell_type": "code",
   "execution_count": 27,
   "id": "4d97a2f6-58a9-4d84-9174-4edff874a45a",
   "metadata": {},
   "outputs": [
    {
     "data": {
      "text/html": [
       "<div>\n",
       "<style scoped>\n",
       "    .dataframe tbody tr th:only-of-type {\n",
       "        vertical-align: middle;\n",
       "    }\n",
       "\n",
       "    .dataframe tbody tr th {\n",
       "        vertical-align: top;\n",
       "    }\n",
       "\n",
       "    .dataframe thead th {\n",
       "        text-align: right;\n",
       "    }\n",
       "</style>\n",
       "<table border=\"1\" class=\"dataframe\">\n",
       "  <thead>\n",
       "    <tr style=\"text-align: right;\">\n",
       "      <th></th>\n",
       "      <th>reports</th>\n",
       "      <th>age</th>\n",
       "      <th>income</th>\n",
       "      <th>share</th>\n",
       "      <th>expenditure</th>\n",
       "      <th>dependents</th>\n",
       "      <th>months</th>\n",
       "      <th>majorcards</th>\n",
       "      <th>active</th>\n",
       "    </tr>\n",
       "  </thead>\n",
       "  <tbody>\n",
       "    <tr>\n",
       "      <th>count</th>\n",
       "      <td>1319.000000</td>\n",
       "      <td>1319.000000</td>\n",
       "      <td>1319.000000</td>\n",
       "      <td>1319.000000</td>\n",
       "      <td>1319.000000</td>\n",
       "      <td>1319.000000</td>\n",
       "      <td>1319.000000</td>\n",
       "      <td>1319.000000</td>\n",
       "      <td>1319.000000</td>\n",
       "    </tr>\n",
       "    <tr>\n",
       "      <th>mean</th>\n",
       "      <td>0.456406</td>\n",
       "      <td>33.213103</td>\n",
       "      <td>3.365376</td>\n",
       "      <td>0.068732</td>\n",
       "      <td>185.057071</td>\n",
       "      <td>0.993935</td>\n",
       "      <td>55.267627</td>\n",
       "      <td>0.817286</td>\n",
       "      <td>6.996967</td>\n",
       "    </tr>\n",
       "    <tr>\n",
       "      <th>std</th>\n",
       "      <td>1.345267</td>\n",
       "      <td>10.142783</td>\n",
       "      <td>1.693902</td>\n",
       "      <td>0.094656</td>\n",
       "      <td>272.218917</td>\n",
       "      <td>1.247745</td>\n",
       "      <td>66.271746</td>\n",
       "      <td>0.386579</td>\n",
       "      <td>6.305812</td>\n",
       "    </tr>\n",
       "    <tr>\n",
       "      <th>min</th>\n",
       "      <td>0.000000</td>\n",
       "      <td>0.166667</td>\n",
       "      <td>0.210000</td>\n",
       "      <td>0.000109</td>\n",
       "      <td>0.000000</td>\n",
       "      <td>0.000000</td>\n",
       "      <td>0.000000</td>\n",
       "      <td>0.000000</td>\n",
       "      <td>0.000000</td>\n",
       "    </tr>\n",
       "    <tr>\n",
       "      <th>25%</th>\n",
       "      <td>0.000000</td>\n",
       "      <td>25.416670</td>\n",
       "      <td>2.243750</td>\n",
       "      <td>0.002316</td>\n",
       "      <td>4.583333</td>\n",
       "      <td>0.000000</td>\n",
       "      <td>12.000000</td>\n",
       "      <td>1.000000</td>\n",
       "      <td>2.000000</td>\n",
       "    </tr>\n",
       "    <tr>\n",
       "      <th>50%</th>\n",
       "      <td>0.000000</td>\n",
       "      <td>31.250000</td>\n",
       "      <td>2.900000</td>\n",
       "      <td>0.038827</td>\n",
       "      <td>101.298300</td>\n",
       "      <td>1.000000</td>\n",
       "      <td>30.000000</td>\n",
       "      <td>1.000000</td>\n",
       "      <td>6.000000</td>\n",
       "    </tr>\n",
       "    <tr>\n",
       "      <th>75%</th>\n",
       "      <td>0.000000</td>\n",
       "      <td>39.416670</td>\n",
       "      <td>4.000000</td>\n",
       "      <td>0.093617</td>\n",
       "      <td>249.035800</td>\n",
       "      <td>2.000000</td>\n",
       "      <td>72.000000</td>\n",
       "      <td>1.000000</td>\n",
       "      <td>11.000000</td>\n",
       "    </tr>\n",
       "    <tr>\n",
       "      <th>max</th>\n",
       "      <td>14.000000</td>\n",
       "      <td>83.500000</td>\n",
       "      <td>13.500000</td>\n",
       "      <td>0.906320</td>\n",
       "      <td>3099.505000</td>\n",
       "      <td>6.000000</td>\n",
       "      <td>540.000000</td>\n",
       "      <td>1.000000</td>\n",
       "      <td>46.000000</td>\n",
       "    </tr>\n",
       "  </tbody>\n",
       "</table>\n",
       "</div>"
      ],
      "text/plain": [
       "           reports          age       income        share  expenditure  \\\n",
       "count  1319.000000  1319.000000  1319.000000  1319.000000  1319.000000   \n",
       "mean      0.456406    33.213103     3.365376     0.068732   185.057071   \n",
       "std       1.345267    10.142783     1.693902     0.094656   272.218917   \n",
       "min       0.000000     0.166667     0.210000     0.000109     0.000000   \n",
       "25%       0.000000    25.416670     2.243750     0.002316     4.583333   \n",
       "50%       0.000000    31.250000     2.900000     0.038827   101.298300   \n",
       "75%       0.000000    39.416670     4.000000     0.093617   249.035800   \n",
       "max      14.000000    83.500000    13.500000     0.906320  3099.505000   \n",
       "\n",
       "        dependents       months   majorcards       active  \n",
       "count  1319.000000  1319.000000  1319.000000  1319.000000  \n",
       "mean      0.993935    55.267627     0.817286     6.996967  \n",
       "std       1.247745    66.271746     0.386579     6.305812  \n",
       "min       0.000000     0.000000     0.000000     0.000000  \n",
       "25%       0.000000    12.000000     1.000000     2.000000  \n",
       "50%       1.000000    30.000000     1.000000     6.000000  \n",
       "75%       2.000000    72.000000     1.000000    11.000000  \n",
       "max       6.000000   540.000000     1.000000    46.000000  "
      ]
     },
     "execution_count": 27,
     "metadata": {},
     "output_type": "execute_result"
    }
   ],
   "source": [
    "credit_df.describe()"
   ]
  },
  {
   "cell_type": "markdown",
   "id": "bf6ec592-ad9b-4556-a57d-406d9f2cc904",
   "metadata": {},
   "source": [
    "#### Getting data with ages over 18 for the analysis. (<b>B</b>)"
   ]
  },
  {
   "cell_type": "code",
   "execution_count": 43,
   "id": "14cc7da7-dda5-4e30-b18d-29853ea5568f",
   "metadata": {},
   "outputs": [
    {
     "data": {
      "text/html": [
       "<div>\n",
       "<style scoped>\n",
       "    .dataframe tbody tr th:only-of-type {\n",
       "        vertical-align: middle;\n",
       "    }\n",
       "\n",
       "    .dataframe tbody tr th {\n",
       "        vertical-align: top;\n",
       "    }\n",
       "\n",
       "    .dataframe thead th {\n",
       "        text-align: right;\n",
       "    }\n",
       "</style>\n",
       "<table border=\"1\" class=\"dataframe\">\n",
       "  <thead>\n",
       "    <tr style=\"text-align: right;\">\n",
       "      <th></th>\n",
       "      <th>card</th>\n",
       "      <th>reports</th>\n",
       "      <th>age</th>\n",
       "      <th>income</th>\n",
       "      <th>share</th>\n",
       "      <th>expenditure</th>\n",
       "      <th>owner</th>\n",
       "      <th>selfemp</th>\n",
       "      <th>dependents</th>\n",
       "      <th>months</th>\n",
       "      <th>majorcards</th>\n",
       "      <th>active</th>\n",
       "    </tr>\n",
       "  </thead>\n",
       "  <tbody>\n",
       "    <tr>\n",
       "      <th>0</th>\n",
       "      <td>1</td>\n",
       "      <td>0</td>\n",
       "      <td>37.66667</td>\n",
       "      <td>4.5200</td>\n",
       "      <td>0.033270</td>\n",
       "      <td>124.983300</td>\n",
       "      <td>yes</td>\n",
       "      <td>no</td>\n",
       "      <td>3</td>\n",
       "      <td>54</td>\n",
       "      <td>1</td>\n",
       "      <td>12</td>\n",
       "    </tr>\n",
       "    <tr>\n",
       "      <th>1</th>\n",
       "      <td>1</td>\n",
       "      <td>0</td>\n",
       "      <td>33.25000</td>\n",
       "      <td>2.4200</td>\n",
       "      <td>0.005217</td>\n",
       "      <td>9.854167</td>\n",
       "      <td>no</td>\n",
       "      <td>no</td>\n",
       "      <td>3</td>\n",
       "      <td>34</td>\n",
       "      <td>1</td>\n",
       "      <td>13</td>\n",
       "    </tr>\n",
       "    <tr>\n",
       "      <th>2</th>\n",
       "      <td>1</td>\n",
       "      <td>0</td>\n",
       "      <td>33.66667</td>\n",
       "      <td>4.5000</td>\n",
       "      <td>0.004156</td>\n",
       "      <td>15.000000</td>\n",
       "      <td>yes</td>\n",
       "      <td>no</td>\n",
       "      <td>4</td>\n",
       "      <td>58</td>\n",
       "      <td>1</td>\n",
       "      <td>5</td>\n",
       "    </tr>\n",
       "    <tr>\n",
       "      <th>3</th>\n",
       "      <td>1</td>\n",
       "      <td>0</td>\n",
       "      <td>30.50000</td>\n",
       "      <td>2.5400</td>\n",
       "      <td>0.065214</td>\n",
       "      <td>137.869200</td>\n",
       "      <td>no</td>\n",
       "      <td>no</td>\n",
       "      <td>0</td>\n",
       "      <td>25</td>\n",
       "      <td>1</td>\n",
       "      <td>7</td>\n",
       "    </tr>\n",
       "    <tr>\n",
       "      <th>4</th>\n",
       "      <td>1</td>\n",
       "      <td>0</td>\n",
       "      <td>32.16667</td>\n",
       "      <td>9.7867</td>\n",
       "      <td>0.067051</td>\n",
       "      <td>546.503300</td>\n",
       "      <td>yes</td>\n",
       "      <td>no</td>\n",
       "      <td>2</td>\n",
       "      <td>64</td>\n",
       "      <td>1</td>\n",
       "      <td>5</td>\n",
       "    </tr>\n",
       "  </tbody>\n",
       "</table>\n",
       "</div>"
      ],
      "text/plain": [
       "   card  reports       age  income     share  expenditure owner selfemp  \\\n",
       "0     1        0  37.66667  4.5200  0.033270   124.983300   yes      no   \n",
       "1     1        0  33.25000  2.4200  0.005217     9.854167    no      no   \n",
       "2     1        0  33.66667  4.5000  0.004156    15.000000   yes      no   \n",
       "3     1        0  30.50000  2.5400  0.065214   137.869200    no      no   \n",
       "4     1        0  32.16667  9.7867  0.067051   546.503300   yes      no   \n",
       "\n",
       "   dependents  months  majorcards  active  \n",
       "0           3      54           1      12  \n",
       "1           3      34           1      13  \n",
       "2           4      58           1       5  \n",
       "3           0      25           1       7  \n",
       "4           2      64           1       5  "
      ]
     },
     "execution_count": 43,
     "metadata": {},
     "output_type": "execute_result"
    }
   ],
   "source": [
    "credit_18_df = credit_df[credit_df['age'] > 18].copy()\n",
    "credit_18_df['card'] = credit_18_df['card'].apply(lambda x: 1 if x == 'yes' else 0)\n",
    "credit_18_df.head()"
   ]
  },
  {
   "cell_type": "markdown",
   "id": "58d3520b-9208-4315-a1ed-057a69b77408",
   "metadata": {},
   "source": [
    "#### Plot of <u>income</u> vs. <u>reports</u>. (<b>C</b>)"
   ]
  },
  {
   "cell_type": "code",
   "execution_count": 49,
   "id": "13181c21-af9a-4a24-bae4-ccf1336fc6c4",
   "metadata": {},
   "outputs": [
    {
     "data": {
      "image/png": "[encoded data removed]",
      "text/plain": [
       "<Figure size 1200x600 with 1 Axes>"
      ]
     },
     "metadata": {},
     "output_type": "display_data"
    }
   ],
   "source": [
    "plt.figure(figsize=(12, 6))\n",
    "\n",
    "sns.scatterplot(\n",
    "    data=credit_18_df,\n",
    "    x='income',\n",
    "    y='reports',\n",
    "    hue='card',\n",
    "    palette={1: 'blue', 0: 'red'}\n",
    ")\n",
    "\n",
    "plt.title('Income vs Reports')\n",
    "plt.xlabel('Income')\n",
    "plt.ylabel('Number of Reports')\n",
    "plt.legend(title='Card Application Accepted', labels=['Yes', 'No'])\n",
    "plt.grid(True)\n",
    "plt.show()"
   ]
  },
  {
   "cell_type": "markdown",
   "id": "6e73e191-ef37-41aa-afcb-edf2aa2d0807",
   "metadata": {},
   "source": [
    "#### Boxplot of <u>income</u> as a function of card acceptance status and of <u>reports</u> as a function of card acceptance status. (<b>D</b>)"
   ]
  },
  {
   "cell_type": "code",
   "execution_count": null,
   "id": "07222adc-c1be-440d-9218-7b4b378cbff8",
   "metadata": {},
   "outputs": [],
   "source": []
  },
  {
   "cell_type": "markdown",
   "id": "2b913318-2ea1-44d3-ae87-8585821be0ad",
   "metadata": {},
   "source": [
    "### Histograms for the predictors. (<b>E</b>)"
   ]
  },
  {
   "cell_type": "code",
   "execution_count": null,
   "id": "151b9060-9463-41ae-ad14-b8767f992247",
   "metadata": {},
   "outputs": [],
   "source": []
  },
  {
   "cell_type": "markdown",
   "id": "b5bb6755-e8bf-448c-b0e6-ed1b66d96d25",
   "metadata": {},
   "source": [
    "### Using Logistic Regression with variables 2 to 8 determine which of the predictors influence the probability that an application is accepted  + summary of the model + summary of the model. (<b>F</b>)"
   ]
  },
  {
   "cell_type": "code",
   "execution_count": null,
   "id": "1ee1b324-490e-4530-aecd-58f44a1ac828",
   "metadata": {},
   "outputs": [],
   "source": []
  },
  {
   "cell_type": "markdown",
   "id": "9056a8ad-8b7e-4489-bbf2-8bd34280ef65",
   "metadata": {},
   "source": [
    "### Converting the predicted probabilities into class labels + computing the confusion matrix and overall fraction of correct predictions. (<b>G</b>)"
   ]
  },
  {
   "cell_type": "code",
   "execution_count": null,
   "id": "4b63b3b0-3fc2-4cc3-ae54-1d312ea8ce97",
   "metadata": {},
   "outputs": [],
   "source": []
  },
  {
   "cell_type": "markdown",
   "id": "7c143dbb-581b-4e27-97c0-10aea7029688",
   "metadata": {},
   "source": [
    "### Fitting the model using a training data for observations 1 to 1000 + computing the confusion matrix and overall fraction of correct predictions for the test data. (<b>H</b>)"
   ]
  },
  {
   "cell_type": "code",
   "execution_count": null,
   "id": "12ebad06-b693-45ff-a6b2-20ba2239d6ad",
   "metadata": {},
   "outputs": [],
   "source": []
  },
  {
   "cell_type": "markdown",
   "id": "cdcd2d95-c08d-41b9-bece-5badc19fd880",
   "metadata": {},
   "source": [
    "### Applying Discriminant Analysis (LDA), Nearest-Neighbors, Naïve Bayes in the training and test data + model performance metrics. (<b>I</b>)"
   ]
  },
  {
   "cell_type": "code",
   "execution_count": null,
   "id": "c09e76a6-9f55-4db5-9722-079be6e5a9b7",
   "metadata": {},
   "outputs": [],
   "source": []
  },
  {
   "cell_type": "markdown",
   "id": "a1dd0771-388c-4352-8461-0bd0f89f9a90",
   "metadata": {},
   "source": [
    "### Comparison + final model selection and validation of the models from (H) and (I), <i>written in Python</i>. (<b>J</b>)"
   ]
  },
  {
   "cell_type": "code",
   "execution_count": null,
   "id": "4733d9e2-0915-4a23-a57f-46036fd91bd9",
   "metadata": {},
   "outputs": [],
   "source": []
  }
 ],
 "metadata": {
  "kernelspec": {
   "display_name": "Python 3 (ipykernel)",
   "language": "python",
   "name": "python3"
  },
  "language_info": {
   "codemirror_mode": {
    "name": "ipython",
    "version": 3
   },
   "file_extension": ".py",
   "mimetype": "text/x-python",
   "name": "python",
   "nbconvert_exporter": "python",
   "pygments_lexer": "ipython3",
   "version": "3.12.3"
  }
 },
 "nbformat": 4,
 "nbformat_minor": 5
}
