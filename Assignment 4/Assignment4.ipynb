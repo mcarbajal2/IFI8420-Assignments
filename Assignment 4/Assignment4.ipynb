{
 "cells": [
  {
   "cell_type": "markdown",
   "id": "08a7217c-5b77-43c7-9324-8ad8aa94ac52",
   "metadata": {},
   "source": [
    "# <b>IFI 8420 - Assignment 4</b>\n",
    "### Team 5\n",
    "Mina Carbajal, Carmen Morales-Mier, Gaayathri Rayapaneni, Ignatius Jonathan Sugijono"
   ]
  },
  {
   "cell_type": "markdown",
   "id": "0020f8e7-32f8-4d30-b7bd-cd3f534d70ff",
   "metadata": {},
   "source": [
    "<hr>"
   ]
  },
  {
   "cell_type": "markdown",
   "id": "496f225b-4e8a-471d-aaf8-eba4bd8bd0a4",
   "metadata": {},
   "source": [
    "#### Installing all the requirement packages"
   ]
  },
  {
   "cell_type": "code",
   "execution_count": 51,
   "id": "5c2ca014-9faa-4855-bbfc-d0eef4c42af8",
   "metadata": {},
   "outputs": [],
   "source": [
    "%matplotlib inline\n",
    "\n",
    "import pandas as pd\n",
    "import numpy as np\n",
    "import matplotlib.pyplot as plt\n",
    "\n",
    "from sklearn.preprocessing import scale \n",
    "from sklearn.model_selection import train_test_split\n",
    "from sklearn.linear_model import Ridge, RidgeCV, Lasso, LassoCV, LinearRegression\n",
    "from sklearn.tree import DecisionTreeRegressor, DecisionTreeClassifier, export_graphviz\n",
    "from sklearn.metrics import mean_squared_error, r2_score"
   ]
  },
  {
   "cell_type": "markdown",
   "id": "1f6061f8-ea0e-4565-9576-ca4f61ca3a75",
   "metadata": {},
   "source": [
    "#### Downloading College CSV data"
   ]
  },
  {
   "cell_type": "code",
   "execution_count": 2,
   "id": "d7410e8a-f1dd-45af-85d8-e478a0b3071a",
   "metadata": {
    "scrolled": true
   },
   "outputs": [
    {
     "name": "stdout",
     "output_type": "stream",
     "text": [
      "<class 'pandas.core.frame.DataFrame'>\n",
      "RangeIndex: 777 entries, 0 to 776\n",
      "Data columns (total 19 columns):\n",
      " #   Column       Non-Null Count  Dtype  \n",
      "---  ------       --------------  -----  \n",
      " 0   Unnamed: 0   777 non-null    object \n",
      " 1   Private      777 non-null    object \n",
      " 2   Apps         777 non-null    int64  \n",
      " 3   Accept       777 non-null    int64  \n",
      " 4   Enroll       777 non-null    int64  \n",
      " 5   Top10perc    777 non-null    int64  \n",
      " 6   Top25perc    777 non-null    int64  \n",
      " 7   F.Undergrad  777 non-null    int64  \n",
      " 8   P.Undergrad  777 non-null    int64  \n",
      " 9   Outstate     777 non-null    int64  \n",
      " 10  Room.Board   777 non-null    int64  \n",
      " 11  Books        777 non-null    int64  \n",
      " 12  Personal     777 non-null    int64  \n",
      " 13  PhD          777 non-null    int64  \n",
      " 14  Terminal     777 non-null    int64  \n",
      " 15  S.F.Ratio    777 non-null    float64\n",
      " 16  perc.alumni  777 non-null    int64  \n",
      " 17  Expend       777 non-null    int64  \n",
      " 18  Grad.Rate    777 non-null    int64  \n",
      "dtypes: float64(1), int64(16), object(2)\n",
      "memory usage: 115.5+ KB\n",
      "None\n"
     ]
    }
   ],
   "source": [
    "college = pd.read_csv('College.csv')\n",
    "print(college.info())\n",
    "\n",
    "X = college.drop('Apps', axis=1)\n",
    "y = college['Apps']\n",
    "\n",
    "X = pd.get_dummies(X, drop_first=True)"
   ]
  },
  {
   "cell_type": "markdown",
   "id": "692227bf-27ea-4a23-96ef-fb516a4dadc6",
   "metadata": {},
   "source": [
    "<hr>"
   ]
  },
  {
   "cell_type": "markdown",
   "id": "58e20fa5-82de-4ca9-a5d9-d0c1b55ea21f",
   "metadata": {},
   "source": [
    "### <b>Section 1</b> - <u>LASSO</u>: Predict the number of applications received <b>Apps</b> using all other variables in the <b>College</b> data set using <b>LASSO</b> model for variable selection\n",
    "##### <u>Section Code Split</u>\n",
    "<ul>\n",
    "    <li>Mina - E, F, G</li>\n",
    "    <li>Carmen - A, B, C, D</li>\n",
    "    <li>Gaayathri - </li>\n",
    "    <li>Jonathan - </li>   \n",
    "</ul>"
   ]
  },
  {
   "cell_type": "markdown",
   "id": "e35dcba2-2ca7-4f66-a215-5f398f8165dc",
   "metadata": {},
   "source": [
    "<hr>"
   ]
  },
  {
   "cell_type": "markdown",
   "id": "8a26c2e6-88cb-4803-9a40-e5dac7e3d0d1",
   "metadata": {},
   "source": [
    "#### Splitting the data set randomly into training and test data sets. (<b>A</b>)"
   ]
  },
  {
   "cell_type": "code",
   "execution_count": 3,
   "id": "4d97a2f6-58a9-4d84-9174-4edff874a45a",
   "metadata": {},
   "outputs": [],
   "source": [
    "X_train, X_test , y_train, y_test = train_test_split(X, y, test_size=0.5, random_state=1)"
   ]
  },
  {
   "cell_type": "markdown",
   "id": "bf6ec592-ad9b-4556-a57d-406d9f2cc904",
   "metadata": {},
   "source": [
    "#### Fitting the LASSO model using the training data set. (<b>B</b>)"
   ]
  },
  {
   "cell_type": "code",
   "execution_count": 4,
   "id": "14cc7da7-dda5-4e30-b18d-29853ea5568f",
   "metadata": {},
   "outputs": [
    {
     "name": "stdout",
     "output_type": "stream",
     "text": [
      "Accept                                          1.263616\n",
      "Enroll                                         -0.003872\n",
      "Top10perc                                      37.000546\n",
      "Top25perc                                      -9.665180\n",
      "F.Undergrad                                     0.031155\n",
      "                                                ...     \n",
      "Unnamed: 0_Xavier University                   -0.000000\n",
      "Unnamed: 0_Xavier University of Louisiana       0.000000\n",
      "Unnamed: 0_Yale University                   2365.312448\n",
      "Unnamed: 0_York College of Pennsylvania         0.000000\n",
      "Private_Yes                                  -203.235859\n",
      "Length: 793, dtype: float64\n",
      "MSE:  1187722.5602323648\n"
     ]
    }
   ],
   "source": [
    "lasso2 = Lasso(alpha = 4)\n",
    "lasso2.fit(X_train, y_train)\n",
    "pred2 = lasso2.predict(X_test)\n",
    "print(pd.Series(lasso2.coef_, index = X.columns))\n",
    "print(\"MSE: \", mean_squared_error(y_test, pred2))"
   ]
  },
  {
   "cell_type": "markdown",
   "id": "58d3520b-9208-4315-a1ed-057a69b77408",
   "metadata": {},
   "source": [
    "#### Cross-validation on the training data set to choose the best lambda. (<b>C</b>)"
   ]
  },
  {
   "cell_type": "code",
   "execution_count": 37,
   "id": "13181c21-af9a-4a24-bae4-ccf1336fc6c4",
   "metadata": {},
   "outputs": [
    {
     "name": "stdout",
     "output_type": "stream",
     "text": [
      "Accept                                         1.170931\n",
      "Enroll                                         0.350071\n",
      "Top10perc                                     54.162201\n",
      "Top25perc                                    -17.785350\n",
      "F.Undergrad                                    0.010110\n",
      "                                                ...    \n",
      "Unnamed: 0_Xavier University                  -0.000000\n",
      "Unnamed: 0_Xavier University of Louisiana      0.000000\n",
      "Unnamed: 0_Yale University                     0.000000\n",
      "Unnamed: 0_York College of Pennsylvania        0.000000\n",
      "Private_Yes                                 -243.977628\n",
      "Length: 793, dtype: float64\n",
      "The best lambda:  9.369087114301934\n"
     ]
    }
   ],
   "source": [
    "alphas = 10**np.linspace(10,-2,100)*0.5\n",
    "lassocv = LassoCV(alphas = alphas, cv = 10, max_iter = 100000)\n",
    "lassocv.fit(X_train, y_train)\n",
    "print(pd.Series(lassocv.coef_, index = X.columns))\n",
    "print(\"The best lambda: \", lassocv.alpha_)"
   ]
  },
  {
   "cell_type": "markdown",
   "id": "6e73e191-ef37-41aa-afcb-edf2aa2d0807",
   "metadata": {},
   "source": [
    "#### Estimating the predicted values using the best lambda obtained in part (C) on the test data, and computing the test MSE. (<b>D</b>)"
   ]
  },
  {
   "cell_type": "code",
   "execution_count": 11,
   "id": "07222adc-c1be-440d-9218-7b4b378cbff8",
   "metadata": {},
   "outputs": [
    {
     "name": "stdout",
     "output_type": "stream",
     "text": [
      "MSE using best lambda: 1352370.2154947503\n"
     ]
    }
   ],
   "source": [
    "y_pred = lassocv.predict(X_test)\n",
    "pred3 = mean_squared_error(y_test, y_pred)\n",
    "print(\"MSE using best lambda:\", pred3)"
   ]
  },
  {
   "cell_type": "markdown",
   "id": "2b913318-2ea1-44d3-ae87-8585821be0ad",
   "metadata": {},
   "source": [
    "#### Conclusion: Comparing the LASSO predicted test MSE with the null model test MSE, and least square regression model test MSE, <i>written in Python</i>. (<b>E</b>)"
   ]
  },
  {
   "cell_type": "code",
   "execution_count": 14,
   "id": "151b9060-9463-41ae-ad14-b8767f992247",
   "metadata": {},
   "outputs": [
    {
     "name": "stdout",
     "output_type": "stream",
     "text": [
      "Accept                                       0.0\n",
      "Enroll                                       0.0\n",
      "Top10perc                                    0.0\n",
      "Top25perc                                    0.0\n",
      "F.Undergrad                                  0.0\n",
      "                                            ... \n",
      "Unnamed: 0_Xavier University                -0.0\n",
      "Unnamed: 0_Xavier University of Louisiana    0.0\n",
      "Unnamed: 0_Yale University                   0.0\n",
      "Unnamed: 0_York College of Pennsylvania     -0.0\n",
      "Private_Yes                                 -0.0\n",
      "Length: 793, dtype: float64\n",
      "MSE using the Null Model:  17455722.410031803\n"
     ]
    }
   ],
   "source": [
    "# Null Model MSE\n",
    "lasso_null = Lasso(alpha = 10**10)\n",
    "lasso_null.fit(X_train, y_train)\n",
    "y_pred = lasso_null.predict(X_test)\n",
    "pred4 = mean_squared_error(y_test, y_pred)\n",
    "print(pd.Series(lasso_null.coef_, index = X.columns))\n",
    "print(\"MSE using the Null Model: \", pred4)"
   ]
  },
  {
   "cell_type": "code",
   "execution_count": 15,
   "id": "9f5c6e4c-b82c-41e7-a195-10977fc30523",
   "metadata": {},
   "outputs": [
    {
     "name": "stdout",
     "output_type": "stream",
     "text": [
      "Accept                                          1.449127\n",
      "Enroll                                          0.074620\n",
      "Top10perc                                      41.843551\n",
      "Top25perc                                      -5.749204\n",
      "F.Undergrad                                    -0.029065\n",
      "                                                ...     \n",
      "Unnamed: 0_Xavier University                 -750.087485\n",
      "Unnamed: 0_Xavier University of Louisiana       0.000000\n",
      "Unnamed: 0_Yale University                   3397.905652\n",
      "Unnamed: 0_York College of Pennsylvania       481.284468\n",
      "Private_Yes                                    -3.289317\n",
      "Length: 793, dtype: float64\n",
      "MSE using the LSE Model:  1137205.6330091893\n"
     ]
    },
    {
     "name": "stderr",
     "output_type": "stream",
     "text": [
      "C:\\Users\\Mina\\anaconda3\\Lib\\site-packages\\sklearn\\base.py:1389: UserWarning: With alpha=0, this algorithm does not converge well. You are advised to use the LinearRegression estimator\n",
      "  return fit_method(estimator, *args, **kwargs)\n",
      "C:\\Users\\Mina\\anaconda3\\Lib\\site-packages\\sklearn\\linear_model\\_coordinate_descent.py:695: UserWarning: Coordinate descent with no regularization may lead to unexpected results and is discouraged.\n",
      "  model = cd_fast.enet_coordinate_descent(\n"
     ]
    }
   ],
   "source": [
    "# Least Square Regression MSE\n",
    "lasso_lr = Lasso(alpha = 0)\n",
    "lasso_lr.fit(X_train, y_train)\n",
    "y_pred = lasso_lr.predict(X_test)\n",
    "pred5 = mean_squared_error(y_test, y_pred)\n",
    "print(pd.Series(lasso_lr.coef_, index = X.columns))\n",
    "print(\"MSE using the LSE Model: \", pred5)"
   ]
  },
  {
   "cell_type": "code",
   "execution_count": 38,
   "id": "e95ca273-74c5-407c-9da2-0ccbb7378d43",
   "metadata": {},
   "outputs": [
    {
     "name": "stdout",
     "output_type": "stream",
     "text": [
      "THE NULL MODEL\n",
      "This model MSE ( 17455722.410031803 ) is the highest of the 3, and therefore performs the worst. When lambda is infinity, the shrinkage penalty causes all the coefficient estimates to go to zero, instead of removing only irrelavent variables, as seen above. This model is underfitted and suffers from high bias.\n",
      "\n",
      "\n",
      "THE LSE MODEL\n",
      "This model actually produces the lowest MSE value of the 3 ( 1137205.6330091893 ), however it is not without downside. When lambda is zero, the shrinkage penalty has no effect at all, and irrelavent variables remain present in the model. This model is overfitted and suffers from high variance.\n",
      "\n",
      "\n",
      "THE BEST LAMBDA MODEL\n",
      "This model gives an MSE value in between the null and LSE models, ( 1352370.2154947503 ), but it successfully makes use of the shrinkage penalty to remove irrelavent variables. It properly demonstrates the bias-variance trade-off.\n"
     ]
    }
   ],
   "source": [
    "# Comparing all 3 MSEs\n",
    "print(\"THE NULL MODEL\")\n",
    "print(\"This model MSE (\",pred4,\") is the highest of the 3, and therefore performs the worst. When lambda is infinity, the shrinkage penalty causes all the coefficient estimates to go to zero, instead of removing only irrelavent variables, as seen above. This model is underfitted and suffers from high bias.\")\n",
    "print(\"\\n\")\n",
    "print(\"THE LSE MODEL\")\n",
    "print(\"This model actually produces the lowest MSE value of the 3 (\",pred5,\"), however it is not without downside. When lambda is zero, the shrinkage penalty has no effect at all, and irrelavent variables remain present in the model. This model is overfitted and suffers from high variance.\")\n",
    "print(\"\\n\")\n",
    "print(\"THE BEST LAMBDA MODEL\")\n",
    "print(\"This model gives an MSE value in between the null and LSE models, (\",pred3,\"), but it successfully makes use of the shrinkage penalty to remove irrelavent variables. It properly demonstrates the bias-variance trade-off.\")"
   ]
  },
  {
   "cell_type": "markdown",
   "id": "b5bb6755-e8bf-448c-b0e6-ed1b66d96d25",
   "metadata": {},
   "source": [
    "#### Constructing the LASSO model for the entire data set and obtaining the LASSO coefficients using the best lambda obtained in part (C) + reporting the number of non-zero coefficient estimates. (<b>F</b>)"
   ]
  },
  {
   "cell_type": "code",
   "execution_count": 42,
   "id": "1ee1b324-490e-4530-aecd-58f44a1ac828",
   "metadata": {},
   "outputs": [
    {
     "name": "stdout",
     "output_type": "stream",
     "text": [
      "Accept                                         1.567544\n",
      "Enroll                                        -0.844624\n",
      "Top10perc                                     49.317764\n",
      "Top25perc                                    -13.980303\n",
      "F.Undergrad                                    0.062534\n",
      "                                                ...    \n",
      "Unnamed: 0_Xavier University                  -0.000000\n",
      "Unnamed: 0_Xavier University of Louisiana     -0.000000\n",
      "Unnamed: 0_Yale University                     0.000000\n",
      "Unnamed: 0_York College of Pennsylvania        0.000000\n",
      "Private_Yes                                 -373.511583\n",
      "Length: 793, dtype: float64\n"
     ]
    }
   ],
   "source": [
    "# Fitting the model using the best lambda\n",
    "lasso_final = Lasso(alpha=lassocv.alpha_)\n",
    "lasso_final.fit(X, y)\n",
    "coef = pd.Series(lasso_final.coef_, index=X.columns)\n",
    "print(coef)"
   ]
  },
  {
   "cell_type": "code",
   "execution_count": 45,
   "id": "a95d8042-ebcb-4e54-b285-71691b3ffcc3",
   "metadata": {},
   "outputs": [
    {
     "name": "stdout",
     "output_type": "stream",
     "text": [
      "Non-zero Coefficients: 18\n"
     ]
    }
   ],
   "source": [
    "#Getting non-zero coefficients\n",
    "non_zero_coef = np.count_nonzero(coef)\n",
    "print(\"Non-zero Coefficients:\", non_zero_coef)"
   ]
  },
  {
   "cell_type": "markdown",
   "id": "9056a8ad-8b7e-4489-bbf2-8bd34280ef65",
   "metadata": {},
   "source": [
    "#### Using the LASSO predictors obtained in part (F) to fit the Linear Regression Model + report summary of the linear model. (<b>G</b>)"
   ]
  },
  {
   "cell_type": "code",
   "execution_count": 56,
   "id": "4b63b3b0-3fc2-4cc3-ae54-1d312ea8ce97",
   "metadata": {},
   "outputs": [
    {
     "name": "stdout",
     "output_type": "stream",
     "text": [
      "Accept                                     1.291866\n",
      "Enroll                                    -0.317288\n",
      "Top10perc                                 46.848026\n",
      "Top25perc                                -13.512837\n",
      "F.Undergrad                                0.074086\n",
      "P.Undergrad                                0.029498\n",
      "Outstate                                  -0.055362\n",
      "Room.Board                                 0.181589\n",
      "Books                                      0.006481\n",
      "Personal                                  -0.000690\n",
      "PhD                                       -7.655770\n",
      "Terminal                                  -3.849972\n",
      "S.F.Ratio                                 12.836059\n",
      "perc.alumni                               -5.452760\n",
      "Expend                                     0.077573\n",
      "Grad.Rate                                  9.914822\n",
      "Unnamed: 0_Rutgers at New Brunswick    12674.477977\n",
      "Private_Yes                             -579.782938\n",
      "dtype: float64\n"
     ]
    }
   ],
   "source": [
    "predictors = coef[coef != 0].index\n",
    "X_pred = X[predictors]\n",
    "\n",
    "lin_reg = LinearRegression()\n",
    "lin_reg.fit(X_pred, y)\n",
    "y_pred = lin_reg.predict(X_pred)\n",
    "\n",
    "lin_reg_coefs = pd.Series(lin_reg.coef_, index=X_pred.columns)\n",
    "print(lin_reg_coefs)"
   ]
  },
  {
   "cell_type": "code",
   "execution_count": 57,
   "id": "fbaf75ac-0949-49a7-b022-77484ee1ce0a",
   "metadata": {},
   "outputs": [
    {
     "name": "stdout",
     "output_type": "stream",
     "text": [
      "MSE:  931189.0414176561\n",
      "R-squared: 0.9377513404886181\n"
     ]
    }
   ],
   "source": [
    "# Model Summary\n",
    "print(\"MSE: \", mean_squared_error(y, y_pred))\n",
    "print(\"R-squared:\", r2_score(y, y_pred))"
   ]
  },
  {
   "cell_type": "markdown",
   "id": "bb3e59e9-b137-4a70-8eed-6f9e1458b1b3",
   "metadata": {},
   "source": [
    "<hr>"
   ]
  },
  {
   "cell_type": "markdown",
   "id": "9f8d3221-161a-4284-b84e-5afe5e7c5412",
   "metadata": {},
   "source": [
    "### <b>Section 2</b> - <u>Regression Tree</u>: Predict the number of applications received <b>Apps</b> using all other variables in the <b>College</b> data set based on a <b>Regression Tree</b>\n",
    "##### <u>Section Code Split</u>\n",
    "<ul>\n",
    "    <li>Mina - A</li>\n",
    "    <li>Carmen - </li>\n",
    "    <li>Gaayathri - </li>\n",
    "    <li>Jonathan - </li>   \n",
    "</ul>"
   ]
  },
  {
   "cell_type": "markdown",
   "id": "38f60241-aac8-498d-87b1-51c390411e03",
   "metadata": {},
   "source": [
    "<hr>"
   ]
  },
  {
   "cell_type": "markdown",
   "id": "7c143dbb-581b-4e27-97c0-10aea7029688",
   "metadata": {},
   "source": [
    "#### Fitting a Regression Tree to the training data, with Apps as the response and the all other variables as predictors. (<b>A</b>)\n",
    "<ul><li>Tree max depth = 3.</li>\n",
    "    <li>Plot of the tree.</li>\n",
    "    <li>Note of how many terminal nodes the tree has, <i>written in Python</i>.</li>\n",
    "</ul>"
   ]
  },
  {
   "cell_type": "code",
   "execution_count": 59,
   "id": "12ebad06-b693-45ff-a6b2-20ba2239d6ad",
   "metadata": {},
   "outputs": [
    {
     "name": "stdout",
     "output_type": "stream",
     "text": [
      "0       1660\n",
      "1       2186\n",
      "2       1428\n",
      "3        417\n",
      "4        193\n",
      "       ...  \n",
      "772     2197\n",
      "773     1959\n",
      "774     2097\n",
      "775    10705\n",
      "776     2989\n",
      "Name: Apps, Length: 777, dtype: int64\n"
     ]
    }
   ],
   "source": [
    "# Fitting the tree\n",
    "X_train, X_test, y_train, y_test = train_test_split(X, y, train_size = 0.8, random_state = 0) \n",
    "\n",
    "regr_tree_college = DecisionTreeRegressor(max_depth = 3) \n",
    "regr_tree_college.fit(X_train, y_train)\n",
    "\n",
    "type(y_train)\n",
    "print(y)"
   ]
  },
  {
   "cell_type": "code",
   "execution_count": 60,
   "id": "0ab6cc2e-4b03-460e-95f4-387960865cce",
   "metadata": {},
   "outputs": [],
   "source": [
    "# Plot of the tree\n",
    "export_graphviz(regr_tree_college,                 \n",
    "                out_file = \"college_tree.dot\",                 \n",
    "                feature_names = X_train.columns)"
   ]
  },
  {
   "cell_type": "code",
   "execution_count": 61,
   "id": "45f6affc-ae55-4631-9b36-57c8156b9217",
   "metadata": {},
   "outputs": [
    {
     "data": {
      "image/png": "[encoded data removed]",
      "text/plain": [
       "<Figure size 640x480 with 1 Axes>"
      ]
     },
     "metadata": {},
     "output_type": "display_data"
    }
   ],
   "source": [
    "y_pred = regr_tree_college.predict(X_test) \n",
    "plt.scatter(y_pred,             \n",
    "            y_test,             \n",
    "            label = 'Apps') \n",
    "plt.plot([0, 1],          \n",
    "         [0, 1],          \n",
    "         '--k',          \n",
    "         transform = plt.gca().transAxes) \n",
    "plt.xlabel('y_pred') \n",
    "plt.ylabel('y_test')\n",
    "plt.legend()\n",
    "plt.title('Predicted vs Actual Received Applications')\n",
    "plt.show()"
   ]
  },
  {
   "cell_type": "code",
   "execution_count": 7,
   "id": "6ebd0f46-edaa-4034-b575-372b003254f9",
   "metadata": {},
   "outputs": [
    {
     "name": "stdout",
     "output_type": "stream",
     "text": [
      "Number of terminal nodes: 8\n"
     ]
    }
   ],
   "source": [
    "# Counting the terminal nodes\n",
    "terminal_nodes = regr_tree_college.get_n_leaves()\n",
    "print(\"Number of terminal nodes:\", terminal_nodes)"
   ]
  },
  {
   "cell_type": "markdown",
   "id": "cdcd2d95-c08d-41b9-bece-5badc19fd880",
   "metadata": {},
   "source": [
    "#### Training accuracy, Test Accuracy, and Test MSE. (<b>B</b>)"
   ]
  },
  {
   "cell_type": "code",
   "execution_count": null,
   "id": "c09e76a6-9f55-4db5-9722-079be6e5a9b7",
   "metadata": {},
   "outputs": [],
   "source": []
  },
  {
   "cell_type": "markdown",
   "id": "a1dd0771-388c-4352-8461-0bd0f89f9a90",
   "metadata": {},
   "source": [
    "#### Finding the optimal depth that will improve performance + using cost complexity pruning to prune the decision tree. (<b>C</b>)"
   ]
  },
  {
   "cell_type": "code",
   "execution_count": null,
   "id": "4733d9e2-0915-4a23-a57f-46036fd91bd9",
   "metadata": {},
   "outputs": [],
   "source": []
  },
  {
   "cell_type": "markdown",
   "id": "7dc42645-542c-4021-a772-ea1240026dc3",
   "metadata": {},
   "source": [
    "#### Conclusion: Plot of (C) + observing total impurity versus effective alpha for training set, <i>written in Python</i>. (<b>D</b>)"
   ]
  },
  {
   "cell_type": "code",
   "execution_count": null,
   "id": "919137e0-f3b0-49f7-9acc-b6998f5f7ab2",
   "metadata": {},
   "outputs": [],
   "source": []
  },
  {
   "cell_type": "markdown",
   "id": "90552f39-0caf-43df-ab7f-995ed7ce28dc",
   "metadata": {},
   "source": [
    "#### Conclusion: Constructing plots to display number of nodes versus alpha and tree depth versus alpha, <i>written in Python</i>. (<b>E</b>)"
   ]
  },
  {
   "cell_type": "code",
   "execution_count": null,
   "id": "8aaf6ec3-6e8a-4045-bfff-26e16fdd3fad",
   "metadata": {},
   "outputs": [],
   "source": []
  },
  {
   "cell_type": "markdown",
   "id": "29254ce8-471c-40b2-a8fa-ed252279c7f6",
   "metadata": {},
   "source": [
    "#### Conclusion: Constructing a plot to observe changes of training and test accuracy with respect to alpha, <i>written in Python</i>. (<b>F</b>)"
   ]
  },
  {
   "cell_type": "code",
   "execution_count": null,
   "id": "cbb6b827-5b5e-4ce9-9e5b-5aee1caca025",
   "metadata": {},
   "outputs": [],
   "source": []
  },
  {
   "cell_type": "markdown",
   "id": "cb2c32da-b249-4f9f-bd64-9dbe76d859a2",
   "metadata": {},
   "source": [
    "#### Conclusion: Creating the final Tree, <i>written in Python</i>. (<b>G</b>)\n",
    "<ul>\n",
    "    <li>Finding which alpha corresponds to the highest test score.</li>\n",
    "    <li>Finding the depth of the tree corresponding to the best alpha and create the tree using that depth.</li>\n",
    "    <li>Printing the decision tree.</li>\n",
    "    <li>Computing the mean squared test error corresponding to the tree with best alpha.</li>\n",
    "</ul>"
   ]
  },
  {
   "cell_type": "code",
   "execution_count": null,
   "id": "5737bed4-8f87-4c1d-b6ae-0386e96fc241",
   "metadata": {},
   "outputs": [],
   "source": []
  },
  {
   "cell_type": "markdown",
   "id": "08738806-e1aa-48cf-873b-17665452288b",
   "metadata": {},
   "source": [
    "#### Conclusion: Comparing the above test error rates in (G) with the one obtained using LASSO regression (test MSE) in Part 1(D), <i>written in Python</i>. (<b>H</b>)"
   ]
  },
  {
   "cell_type": "code",
   "execution_count": null,
   "id": "e8523dd7-7bf1-48e7-bc6d-4203279fc806",
   "metadata": {},
   "outputs": [],
   "source": []
  }
 ],
 "metadata": {
  "kernelspec": {
   "display_name": "Python 3 (ipykernel)",
   "language": "python",
   "name": "python3"
  },
  "language_info": {
   "codemirror_mode": {
    "name": "ipython",
    "version": 3
   },
   "file_extension": ".py",
   "mimetype": "text/x-python",
   "name": "python",
   "nbconvert_exporter": "python",
   "pygments_lexer": "ipython3",
   "version": "3.12.3"
  }
 },
 "nbformat": 4,
 "nbformat_minor": 5
}
