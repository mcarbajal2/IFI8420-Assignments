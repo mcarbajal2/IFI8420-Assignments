{
 "cells": [
  {
   "cell_type": "markdown",
   "id": "08a7217c-5b77-43c7-9324-8ad8aa94ac52",
   "metadata": {},
   "source": [
    "# <b>IFI 8420 - Assignment 4</b>\n",
    "### Team 5\n",
    "Mina Carbajal, Carmen Morales-Mier, Gaayathri Rayapaneni, Ignatius Jonathan Sugijono"
   ]
  },
  {
   "cell_type": "markdown",
   "id": "0020f8e7-32f8-4d30-b7bd-cd3f534d70ff",
   "metadata": {},
   "source": [
    "<hr>"
   ]
  },
  {
   "cell_type": "markdown",
   "id": "496f225b-4e8a-471d-aaf8-eba4bd8bd0a4",
   "metadata": {},
   "source": [
    "#### Installing all the requirement packages"
   ]
  },
  {
   "cell_type": "code",
   "execution_count": 1,
   "id": "5c2ca014-9faa-4855-bbfc-d0eef4c42af8",
   "metadata": {},
   "outputs": [],
   "source": []
  },
  {
   "cell_type": "markdown",
   "id": "1f6061f8-ea0e-4565-9576-ca4f61ca3a75",
   "metadata": {},
   "source": [
    "#### Downloading College CSV data"
   ]
  },
  {
   "cell_type": "code",
   "execution_count": null,
   "id": "d7410e8a-f1dd-45af-85d8-e478a0b3071a",
   "metadata": {
    "scrolled": true
   },
   "outputs": [],
   "source": []
  },
  {
   "cell_type": "markdown",
   "id": "692227bf-27ea-4a23-96ef-fb516a4dadc6",
   "metadata": {},
   "source": [
    "<hr>"
   ]
  },
  {
   "cell_type": "markdown",
   "id": "58e20fa5-82de-4ca9-a5d9-d0c1b55ea21f",
   "metadata": {},
   "source": [
    "### <b>Section 1</b> - <u>LASSO</u>: Predict the number of applications received <b>Apps</b> using all other variables in the <b>College</b> data set using <b>LASSO</b> model for variable selection\n",
    "##### <u>Section Code Split</u>\n",
    "<ul>\n",
    "    <li>Mina - </li>\n",
    "    <li>Carmen - </li>\n",
    "    <li>Gaayathri - </li>\n",
    "    <li>Jonathan - </li>   \n",
    "</ul>"
   ]
  },
  {
   "cell_type": "markdown",
   "id": "e35dcba2-2ca7-4f66-a215-5f398f8165dc",
   "metadata": {},
   "source": [
    "<hr>"
   ]
  },
  {
   "cell_type": "markdown",
   "id": "8a26c2e6-88cb-4803-9a40-e5dac7e3d0d1",
   "metadata": {},
   "source": [
    "#### Splitting the data set randomly into training and test data sets. (<b>A</b>)"
   ]
  },
  {
   "cell_type": "code",
   "execution_count": null,
   "id": "4d97a2f6-58a9-4d84-9174-4edff874a45a",
   "metadata": {},
   "outputs": [],
   "source": []
  },
  {
   "cell_type": "markdown",
   "id": "bf6ec592-ad9b-4556-a57d-406d9f2cc904",
   "metadata": {},
   "source": [
    "#### Fitting the LASSO model using the training data set. (<b>B</b>)"
   ]
  },
  {
   "cell_type": "code",
   "execution_count": null,
   "id": "14cc7da7-dda5-4e30-b18d-29853ea5568f",
   "metadata": {},
   "outputs": [],
   "source": []
  },
  {
   "cell_type": "markdown",
   "id": "58d3520b-9208-4315-a1ed-057a69b77408",
   "metadata": {},
   "source": [
    "#### Cross-validation on the training data set to choose the best lambda. (<b>C</b>)"
   ]
  },
  {
   "cell_type": "code",
   "execution_count": null,
   "id": "13181c21-af9a-4a24-bae4-ccf1336fc6c4",
   "metadata": {},
   "outputs": [],
   "source": []
  },
  {
   "cell_type": "markdown",
   "id": "6e73e191-ef37-41aa-afcb-edf2aa2d0807",
   "metadata": {},
   "source": [
    "#### Estimating the predicted values using the best lambda obtained in part (C) on the test data, and computing the test MSE. (<b>D</b>)"
   ]
  },
  {
   "cell_type": "code",
   "execution_count": null,
   "id": "07222adc-c1be-440d-9218-7b4b378cbff8",
   "metadata": {},
   "outputs": [],
   "source": []
  },
  {
   "cell_type": "markdown",
   "id": "2b913318-2ea1-44d3-ae87-8585821be0ad",
   "metadata": {},
   "source": [
    "#### Conclusion: Comparing the LASSO predicted test MSE with the null model test MSE, and least square regression model test MSE, <i>written in Python</i>. (<b>E</b>)"
   ]
  },
  {
   "cell_type": "code",
   "execution_count": null,
   "id": "151b9060-9463-41ae-ad14-b8767f992247",
   "metadata": {},
   "outputs": [],
   "source": []
  },
  {
   "cell_type": "markdown",
   "id": "b5bb6755-e8bf-448c-b0e6-ed1b66d96d25",
   "metadata": {},
   "source": [
    "#### Constructing the LASSO model for the entire data set and obtaining the LASSO coefficients using the best lambda obtained in part (C) + reporting the number of non-zero coefficient estimates. (<b>F</b>)"
   ]
  },
  {
   "cell_type": "code",
   "execution_count": null,
   "id": "1ee1b324-490e-4530-aecd-58f44a1ac828",
   "metadata": {},
   "outputs": [],
   "source": []
  },
  {
   "cell_type": "markdown",
   "id": "9056a8ad-8b7e-4489-bbf2-8bd34280ef65",
   "metadata": {},
   "source": [
    "#### Using the LASSO predictors obtained in part (F) to fit the Linear Regression Model + report summary of the linear model. (<b>G</b>)"
   ]
  },
  {
   "cell_type": "code",
   "execution_count": null,
   "id": "4b63b3b0-3fc2-4cc3-ae54-1d312ea8ce97",
   "metadata": {},
   "outputs": [],
   "source": []
  },
  {
   "cell_type": "markdown",
   "id": "bb3e59e9-b137-4a70-8eed-6f9e1458b1b3",
   "metadata": {},
   "source": [
    "<hr>"
   ]
  },
  {
   "cell_type": "markdown",
   "id": "9f8d3221-161a-4284-b84e-5afe5e7c5412",
   "metadata": {},
   "source": [
    "### <b>Section 2</b> - <u>Regression Tree</u>: Predict the number of applications received <b>Apps</b> using all other variables in the <b>College</b> data set based on a <b>Regression Tree</b>\n",
    "##### <u>Section Code Split</u>\n",
    "<ul>\n",
    "    <li>Mina - </li>\n",
    "    <li>Carmen - </li>\n",
    "    <li>Gaayathri - </li>\n",
    "    <li>Jonathan - </li>   \n",
    "</ul>"
   ]
  },
  {
   "cell_type": "markdown",
   "id": "38f60241-aac8-498d-87b1-51c390411e03",
   "metadata": {},
   "source": [
    "<hr>"
   ]
  },
  {
   "cell_type": "markdown",
   "id": "7c143dbb-581b-4e27-97c0-10aea7029688",
   "metadata": {},
   "source": [
    "#### Fitting a Regression Tree to the training data, with Apps as the response and the all other variables as predictors. (<b>A</b>)\n",
    "<ul><li>Tree max depth = 3.</li>\n",
    "    <li>Plot of the tree.</li>\n",
    "    <li>Note of how many terminal nodes the tree has, <i>written in Python</i>.</li>\n",
    "</ul>"
   ]
  },
  {
   "cell_type": "code",
   "execution_count": null,
   "id": "12ebad06-b693-45ff-a6b2-20ba2239d6ad",
   "metadata": {},
   "outputs": [],
   "source": []
  },
  {
   "cell_type": "markdown",
   "id": "cdcd2d95-c08d-41b9-bece-5badc19fd880",
   "metadata": {},
   "source": [
    "#### Training accuracy, Test Accuracy, and Test MSE. (<b>B</b>)"
   ]
  },
  {
   "cell_type": "code",
   "execution_count": null,
   "id": "c09e76a6-9f55-4db5-9722-079be6e5a9b7",
   "metadata": {},
   "outputs": [],
   "source": []
  },
  {
   "cell_type": "markdown",
   "id": "a1dd0771-388c-4352-8461-0bd0f89f9a90",
   "metadata": {},
   "source": [
    "#### Finding the optimal depth that will improve performance + using cost complexity pruning to prune the decision tree. (<b>C</b>)"
   ]
  },
  {
   "cell_type": "code",
   "execution_count": null,
   "id": "4733d9e2-0915-4a23-a57f-46036fd91bd9",
   "metadata": {},
   "outputs": [],
   "source": []
  },
  {
   "cell_type": "markdown",
   "id": "7dc42645-542c-4021-a772-ea1240026dc3",
   "metadata": {},
   "source": [
    "#### Conclusion: Plot of (C) + observing total impurity versus effective alpha for training set, <i>written in Python</i>. (<b>D</b>)"
   ]
  },
  {
   "cell_type": "code",
   "execution_count": null,
   "id": "919137e0-f3b0-49f7-9acc-b6998f5f7ab2",
   "metadata": {},
   "outputs": [],
   "source": []
  },
  {
   "cell_type": "markdown",
   "id": "90552f39-0caf-43df-ab7f-995ed7ce28dc",
   "metadata": {},
   "source": [
    "#### Conclusion: Constructing plots to display number of nodes versus alpha and tree depth versus alpha, <i>written in Python</i>. (<b>E</b>)"
   ]
  },
  {
   "cell_type": "code",
   "execution_count": null,
   "id": "8aaf6ec3-6e8a-4045-bfff-26e16fdd3fad",
   "metadata": {},
   "outputs": [],
   "source": []
  },
  {
   "cell_type": "markdown",
   "id": "29254ce8-471c-40b2-a8fa-ed252279c7f6",
   "metadata": {},
   "source": [
    "#### Conclusion: Constructing a plot to observe changes of training and test accuracy with respect to alpha, <i>written in Python</i>. (<b>F</b>)"
   ]
  },
  {
   "cell_type": "code",
   "execution_count": null,
   "id": "cbb6b827-5b5e-4ce9-9e5b-5aee1caca025",
   "metadata": {},
   "outputs": [],
   "source": []
  },
  {
   "cell_type": "markdown",
   "id": "cb2c32da-b249-4f9f-bd64-9dbe76d859a2",
   "metadata": {},
   "source": [
    "#### Conclusion: Creating the final Tree, <i>written in Python</i>. (<b>G</b>)\n",
    "<ul>\n",
    "    <li>Finding which alpha corresponds to the highest test score.</li>\n",
    "    <li>Finding the depth of the tree corresponding to the best alpha and create the tree using that depth.</li>\n",
    "    <li>Printing the decision tree.</li>\n",
    "    <li>Computing the mean squared test error corresponding to the tree with best alpha.</li>\n",
    "</ul>"
   ]
  },
  {
   "cell_type": "code",
   "execution_count": null,
   "id": "5737bed4-8f87-4c1d-b6ae-0386e96fc241",
   "metadata": {},
   "outputs": [],
   "source": []
  },
  {
   "cell_type": "markdown",
   "id": "08738806-e1aa-48cf-873b-17665452288b",
   "metadata": {},
   "source": [
    "#### Conclusion: Comparing the above test error rates in (G) with the one obtained using LASSO regression (test MSE) in Part 1(D), <i>written in Python</i>. (<b>H</b>)"
   ]
  },
  {
   "cell_type": "code",
   "execution_count": null,
   "id": "e8523dd7-7bf1-48e7-bc6d-4203279fc806",
   "metadata": {},
   "outputs": [],
   "source": []
  }
 ],
 "metadata": {
  "kernelspec": {
   "display_name": "Python 3 (ipykernel)",
   "language": "python",
   "name": "python3"
  },
  "language_info": {
   "codemirror_mode": {
    "name": "ipython",
    "version": 3
   },
   "file_extension": ".py",
   "mimetype": "text/x-python",
   "name": "python",
   "nbconvert_exporter": "python",
   "pygments_lexer": "ipython3",
   "version": "3.12.3"
  }
 },
 "nbformat": 4,
 "nbformat_minor": 5
}
