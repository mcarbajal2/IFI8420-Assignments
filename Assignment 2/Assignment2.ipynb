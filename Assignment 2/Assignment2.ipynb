{
 "cells": [
  {
   "cell_type": "markdown",
   "id": "08a7217c-5b77-43c7-9324-8ad8aa94ac52",
   "metadata": {},
   "source": [
    "# <b>IFI 8420 - Assignment 2</b>\n",
    "### Team 5\n",
    "Mina Carbajal, Carmen Morales-Mier, Gaayathri Rayapaneni, Ignatius Jonathan Sugijono"
   ]
  },
  {
   "cell_type": "markdown",
   "id": "0020f8e7-32f8-4d30-b7bd-cd3f534d70ff",
   "metadata": {},
   "source": [
    "<hr>"
   ]
  },
  {
   "cell_type": "markdown",
   "id": "496f225b-4e8a-471d-aaf8-eba4bd8bd0a4",
   "metadata": {},
   "source": [
    "#### Installing all the requirement packages"
   ]
  },
  {
   "cell_type": "code",
   "execution_count": 1,
   "id": "5c2ca014-9faa-4855-bbfc-d0eef4c42af8",
   "metadata": {},
   "outputs": [],
   "source": [
    "import pandas as pd\n",
    "import csv\n",
    "\n",
    "\n",
    "import numpy as np  \n",
    "import matplotlib.pyplot as plt  \n",
    "import seaborn as seabornInstance \n",
    "import statsmodels.api as sm\n",
    "\n",
    "import statsmodels.formula.api as smf\n",
    "\n",
    "\n",
    "from sklearn.model_selection import train_test_split \n",
    "from sklearn.linear_model import LinearRegression\n",
    "from sklearn import metrics"
   ]
  },
  {
   "cell_type": "markdown",
   "id": "1f6061f8-ea0e-4565-9576-ca4f61ca3a75",
   "metadata": {},
   "source": [
    "#### Downloading HousePrices and Credit CSV data"
   ]
  },
  {
   "cell_type": "code",
   "execution_count": 4,
   "id": "d7410e8a-f1dd-45af-85d8-e478a0b3071a",
   "metadata": {},
   "outputs": [
    {
     "name": "stdout",
     "output_type": "stream",
     "text": [
      "<class 'pandas.core.frame.DataFrame'>\n",
      "RangeIndex: 400 entries, 0 to 399\n",
      "Data columns (total 12 columns):\n",
      " #   Column      Non-Null Count  Dtype  \n",
      "---  ------      --------------  -----  \n",
      " 0   Unnamed: 0  400 non-null    int64  \n",
      " 1   Income      400 non-null    float64\n",
      " 2   Limit       400 non-null    int64  \n",
      " 3   Rating      400 non-null    int64  \n",
      " 4   Cards       400 non-null    int64  \n",
      " 5   Age         400 non-null    int64  \n",
      " 6   Education   400 non-null    int64  \n",
      " 7   Gender      400 non-null    object \n",
      " 8   Student     400 non-null    object \n",
      " 9   Married     400 non-null    object \n",
      " 10  Ethnicity   400 non-null    object \n",
      " 11  Balance     400 non-null    int64  \n",
      "dtypes: float64(1), int64(7), object(4)\n",
      "memory usage: 37.6+ KB\n",
      "None\n",
      "<class 'pandas.core.frame.DataFrame'>\n",
      "RangeIndex: 546 entries, 0 to 545\n",
      "Data columns (total 12 columns):\n",
      " #   Column      Non-Null Count  Dtype  \n",
      "---  ------      --------------  -----  \n",
      " 0   price       546 non-null    float64\n",
      " 1   lotsize     546 non-null    int64  \n",
      " 2   bedrooms    546 non-null    int64  \n",
      " 3   bathrooms   546 non-null    int64  \n",
      " 4   stories     546 non-null    int64  \n",
      " 5   driveway    546 non-null    object \n",
      " 6   recreation  546 non-null    object \n",
      " 7   fullbase    546 non-null    object \n",
      " 8   gasheat     546 non-null    object \n",
      " 9   aircon      546 non-null    object \n",
      " 10  garage      546 non-null    int64  \n",
      " 11  prefer      546 non-null    object \n",
      "dtypes: float64(1), int64(5), object(6)\n",
      "memory usage: 51.3+ KB\n",
      "None\n"
     ]
    }
   ],
   "source": [
    "credit_df = pd.read_csv('Credit.csv')\n",
    "house_prices_df = pd.read_csv('HousePrices.csv')\n",
    "\n",
    "print(credit_df.info())\n",
    "print(house_prices_df.info())"
   ]
  },
  {
   "cell_type": "markdown",
   "id": "692227bf-27ea-4a23-96ef-fb516a4dadc6",
   "metadata": {},
   "source": [
    "<hr>"
   ]
  },
  {
   "cell_type": "markdown",
   "id": "58e20fa5-82de-4ca9-a5d9-d0c1b55ea21f",
   "metadata": {},
   "source": [
    "### <b>Section 1</b> - HousePrices data set\n",
    "##### <u>Section Code Split</u>\n",
    "<ul>\n",
    "    <li>Mina - </li>\n",
    "    <li>Carmen - i - iv</li>\n",
    "    <li>Gaayathri - </li>\n",
    "    <li>Jonathan - </li>   \n",
    "</ul>"
   ]
  },
  {
   "cell_type": "markdown",
   "id": "8a26c2e6-88cb-4803-9a40-e5dac7e3d0d1",
   "metadata": {},
   "source": [
    "#### Summary stat for all the variables in the HousePrices data. (<b>i</b>)"
   ]
  },
  {
   "cell_type": "code",
   "execution_count": null,
   "id": "4d97a2f6-58a9-4d84-9174-4edff874a45a",
   "metadata": {},
   "outputs": [],
   "source": []
  },
  {
   "cell_type": "markdown",
   "id": "bf6ec592-ad9b-4556-a57d-406d9f2cc904",
   "metadata": {},
   "source": [
    "#### Percentage of houses in the data with Driveway, Gas-Heat, and Air-conditioning present. (<b>ii</b>)"
   ]
  },
  {
   "cell_type": "code",
   "execution_count": null,
   "id": "37c15f3d-a9c6-4257-afce-8da760344408",
   "metadata": {},
   "outputs": [],
   "source": []
  },
  {
   "cell_type": "markdown",
   "id": "58d3520b-9208-4315-a1ed-057a69b77408",
   "metadata": {},
   "source": [
    "#### Constructing a linear regression model to test whether number of bedrooms influence house prices + summary of the model. (<b>iii</b>)"
   ]
  },
  {
   "cell_type": "code",
   "execution_count": null,
   "id": "13181c21-af9a-4a24-bae4-ccf1336fc6c4",
   "metadata": {},
   "outputs": [],
   "source": []
  },
  {
   "cell_type": "markdown",
   "id": "6e73e191-ef37-41aa-afcb-edf2aa2d0807",
   "metadata": {},
   "source": [
    "#### Constructing a multiple linear regression model and observing the effect on the house prices + summary of the model. (<b>iv</b>)"
   ]
  },
  {
   "cell_type": "code",
   "execution_count": null,
   "id": "2e8d1da9-cf29-4fdb-9118-8e83c2017a66",
   "metadata": {},
   "outputs": [],
   "source": []
  },
  {
   "cell_type": "markdown",
   "id": "4bbe708f-64bb-42f5-8f9a-4b3ef3e83099",
   "metadata": {},
   "source": [
    "<hr>"
   ]
  },
  {
   "cell_type": "markdown",
   "id": "027e669e-ab7d-421a-8e39-cc78ffdb1468",
   "metadata": {},
   "source": [
    "### <b>Section 2</b> - Credit data set part 1\n",
    "##### <u>Section Code Split</u>\n",
    "<ul>\n",
    "    <li>Mina - </li>\n",
    "    <li>Carmen - A-i until A-ii</li>\n",
    "    <li>Gaayathri - A-iii until B</li>\n",
    "    <li>Jonathan - </li>\n",
    "</ul>"
   ]
  },
  {
   "cell_type": "markdown",
   "id": "1e8303ab-59df-4e16-9068-8952c8a6966d",
   "metadata": {},
   "source": [
    "#### Observing the dimension of the Credit data. (<b>A-i</b>)"
   ]
  },
  {
   "cell_type": "code",
   "execution_count": null,
   "id": "501f54a1-292c-4be2-816d-f496d3e8635c",
   "metadata": {},
   "outputs": [],
   "source": []
  },
  {
   "cell_type": "markdown",
   "id": "7dbb00e9-bc45-4ee1-8aeb-4e66cbda509e",
   "metadata": {},
   "source": [
    "#### Summary stat for the variables in Credit data. (<b>A-ii</b>)"
   ]
  },
  {
   "cell_type": "code",
   "execution_count": null,
   "id": "0a577ba4-b54c-4732-9ced-d3de11988382",
   "metadata": {},
   "outputs": [],
   "source": []
  },
  {
   "cell_type": "markdown",
   "id": "69dc2c1c-37b5-4b1d-a783-cfe388b21d82",
   "metadata": {},
   "source": [
    "#### Calculating the percentages of:\n",
    "<ul>\n",
    "    <li>Student</li>\n",
    "    <li>Female</li>\n",
    "    <li>Student who are Female</li>\n",
    "</ul>\n",
    "<h4>in the Credit data. (<b>A-iii</b>)</h4>"
   ]
  },
  {
   "cell_type": "code",
   "execution_count": null,
   "id": "a707f225-8c86-4b49-b0eb-66df7bc9a9f6",
   "metadata": {},
   "outputs": [],
   "source": []
  },
  {
   "cell_type": "markdown",
   "id": "1026d2ad-8e3b-48ca-ae64-398ef97d51cb",
   "metadata": {},
   "source": [
    "#### Constructing a linear regression model to test:\n",
    "<ul>\n",
    "    <li>How Credit Rating and Student effect Credit Card Balance</li>\n",
    "    <li>Whether the effect of Credit Rating on Credit Card Balance is different for students vs. non-students</li>\n",
    "</ul>\n",
    "<h4>+ summary of the model. (<b>B</b>)</h4>"
   ]
  },
  {
   "cell_type": "code",
   "execution_count": null,
   "id": "35371451-d12c-4919-b4b0-71705b850391",
   "metadata": {},
   "outputs": [],
   "source": []
  },
  {
   "cell_type": "markdown",
   "id": "0bd8583e-d1be-429e-8175-4a7eabbf367a",
   "metadata": {},
   "source": [
    "<hr>"
   ]
  },
  {
   "cell_type": "markdown",
   "id": "7c2a1318-2c68-45f2-9db1-e3ad68379980",
   "metadata": {},
   "source": [
    "### <b>Section 3</b> - Credit data set part 2\n",
    "##### <u>Section Code Split</u>\n",
    "<ul>\n",
    "    <li>Mina - </li>\n",
    "    <li>Carmen - </li>\n",
    "    <li>Gaayathri - i until iv</li>\n",
    "    <li>Jonathan - </li>   \n",
    "</ul>"
   ]
  },
  {
   "cell_type": "markdown",
   "id": "0b7c9552-ca1b-4d5c-92a5-8dab87d8560a",
   "metadata": {},
   "source": [
    "#### Testing whether Age influence Credit Card Balance on the basis of simple linear regression + summary of the model using the summary() function. (<b>i</b>)"
   ]
  },
  {
   "cell_type": "code",
   "execution_count": null,
   "id": "de92e311-6e96-4b3d-960c-bed280a177d9",
   "metadata": {},
   "outputs": [],
   "source": []
  },
  {
   "cell_type": "markdown",
   "id": "955f44bd-8ea0-40a7-bbc9-c6704f05a558",
   "metadata": {},
   "source": [
    "#### Using Age and Credit Rating as predictors of Credit Card Balance (response variable) in a multiple linear regression setting + summary of the model. (<b>ii</b>)"
   ]
  },
  {
   "cell_type": "code",
   "execution_count": null,
   "id": "07ccde40-0e53-4840-aaa3-d2bbde315630",
   "metadata": {},
   "outputs": [],
   "source": []
  },
  {
   "cell_type": "markdown",
   "id": "2ed7a642-4f6a-40bc-ba45-737dcb9c8656",
   "metadata": {},
   "source": [
    "#### Comparing effect of Age from part (i) and (ii) _in Pythoncode_. (<b>iii</b>)"
   ]
  },
  {
   "cell_type": "code",
   "execution_count": null,
   "id": "052d969b-753b-43c6-8ae2-49a35e5b71d9",
   "metadata": {},
   "outputs": [],
   "source": []
  },
  {
   "cell_type": "markdown",
   "id": "1271299f-f91b-4070-a7a7-59c074ba7550",
   "metadata": {},
   "source": [
    "#### Observing the distribution of Age and constructing 3 dummy variables based on it:\n",
    "<ol>\n",
    "    <li>Age 40 and below (Age≤40)</li>\n",
    "    <li>Age Between 41 to 56 (41≤Age≤56)</li>\n",
    "    <li>Age group over 56 (Age>56)</li>\n",
    "</ol>\n",
    "<h4>in the Credit data. (<b>iv</b>)</h4>"
   ]
  },
  {
   "cell_type": "code",
   "execution_count": null,
   "id": "f40c80aa-5aa0-4127-aaf8-e0e885334349",
   "metadata": {},
   "outputs": [],
   "source": []
  },
  {
   "cell_type": "markdown",
   "id": "bf7d39a2-08cd-4da7-9eab-cd38c325c3ba",
   "metadata": {},
   "source": [
    "<hr>"
   ]
  },
  {
   "cell_type": "markdown",
   "id": "2ca916bb-7709-431f-9acd-ccabe84c1e2c",
   "metadata": {},
   "source": [
    "### <b>Section 4</b> - S&P 500 price data and ? stock\n",
    "##### <u>Section Code Split</u>\n",
    "<ul>\n",
    "    <li>Mina - vii - xi</li>\n",
    "    <li>Carmen - </li>\n",
    "    <li>Gaayathri - </li>\n",
    "    <li>Jonathan - i - vi</li>   \n",
    "</ul>"
   ]
  },
  {
   "cell_type": "markdown",
   "id": "2d97ec34-c913-4aae-bff7-00691bbc076d",
   "metadata": {},
   "source": [
    "#### Downloading the monthly price data of S&P500 and a ? stock. (<b>i</b>)"
   ]
  },
  {
   "cell_type": "code",
   "execution_count": null,
   "id": "5c46588d-f79e-4a83-93d5-0f36bd1e26c1",
   "metadata": {},
   "outputs": [],
   "source": []
  },
  {
   "cell_type": "markdown",
   "id": "06a75bfd-c8ed-440b-95e7-b387329ced2b",
   "metadata": {},
   "source": [
    "#### Computing the monthly returns for the S&P 500 and the stock + constructing one data frame to store the return series. (<b>ii</b>)"
   ]
  },
  {
   "cell_type": "code",
   "execution_count": null,
   "id": "16cf4ac7-996d-4fb4-b6a5-8d85db871d00",
   "metadata": {},
   "outputs": [],
   "source": []
  },
  {
   "cell_type": "markdown",
   "id": "e4ceee7d-a468-43dd-8554-002c40ec36fc",
   "metadata": {},
   "source": [
    "#### Constructing summary statistics, histogram, correlation matrix of the return series. (<b>iii</b>)"
   ]
  },
  {
   "cell_type": "code",
   "execution_count": null,
   "id": "ac06e438-8f55-41b8-9f3d-5424efe37e04",
   "metadata": {},
   "outputs": [],
   "source": []
  },
  {
   "cell_type": "markdown",
   "id": "63ce2468-528f-431b-9d81-3a7e36e3d195",
   "metadata": {},
   "source": [
    "#### Downloading 3 month TBill rate from Fred. (<b>iv</b>)"
   ]
  },
  {
   "cell_type": "code",
   "execution_count": null,
   "id": "d12cfbcb-80a8-4e4c-9589-2b14685bd18f",
   "metadata": {},
   "outputs": [],
   "source": []
  },
  {
   "cell_type": "markdown",
   "id": "45252e00-b915-47c7-8b21-f40647f8b79e",
   "metadata": {},
   "source": [
    "#### Constructing a matrix of return series combining Stock, S&P500, and TBill for the sample period + constructing a return series with columns of excess returns of the stock. (<b>v</b>)"
   ]
  },
  {
   "cell_type": "code",
   "execution_count": null,
   "id": "3c13d627-c656-4441-9cbd-ee26adc4f0fe",
   "metadata": {},
   "outputs": [],
   "source": []
  },
  {
   "cell_type": "markdown",
   "id": "70005bc0-9857-402e-9d4b-a7a8054ef351",
   "metadata": {},
   "source": [
    "#### Constructing a linear regression model with the excess returns : stock excess return being the response variable and S&P500 excess return the predictor. (<b>vi</b>)"
   ]
  },
  {
   "cell_type": "code",
   "execution_count": null,
   "id": "2c97f925-c183-43cc-a224-a3c65848b426",
   "metadata": {},
   "outputs": [],
   "source": []
  },
  {
   "cell_type": "markdown",
   "id": "60e03327-a8e4-4581-8bc1-32accccc2121",
   "metadata": {},
   "source": [
    "#### Beta for the stock based on the model constructed, testing the null hypothesis, and drawing a conclusion based on p-value. (<b>vii</b>)"
   ]
  },
  {
   "cell_type": "code",
   "execution_count": null,
   "id": "d1bd311a-f8f6-48a2-b2c7-d7f26c65e00c",
   "metadata": {},
   "outputs": [],
   "source": []
  },
  {
   "cell_type": "markdown",
   "id": "5d308c43-366a-48f7-9bdf-3177c56ff774",
   "metadata": {},
   "source": [
    "#### Beta of the stock from the available stock report + discussing why these two measures are same or different. (<b>viii</b>)"
   ]
  },
  {
   "cell_type": "code",
   "execution_count": null,
   "id": "1d3ab0c3-5e4b-42b3-b371-330f73593a1e",
   "metadata": {},
   "outputs": [],
   "source": []
  },
  {
   "cell_type": "markdown",
   "id": "02a8f57b-2375-473c-9796-e03d7c411984",
   "metadata": {},
   "source": [
    "#### Model accuracy: standard error and R-square. (<b>ix</b>)"
   ]
  },
  {
   "cell_type": "code",
   "execution_count": null,
   "id": "988a6d78-2c65-4458-90ab-b5921177660b",
   "metadata": {},
   "outputs": [],
   "source": []
  },
  {
   "cell_type": "markdown",
   "id": "ba82f688-e982-4d44-b59e-d1d36209cf6f",
   "metadata": {},
   "source": [
    "#### Scatter plot + fitted line for the linear regression model. (<b>x</b>)"
   ]
  },
  {
   "cell_type": "code",
   "execution_count": null,
   "id": "5b71efc7-afd2-4d6c-86dc-8b8582e90ce4",
   "metadata": {},
   "outputs": [],
   "source": []
  },
  {
   "cell_type": "markdown",
   "id": "2b913318-2ea1-44d3-ae87-8585821be0ad",
   "metadata": {},
   "source": [
    "#### Interpretation of the analysis: considering return of the stock and S&P 500 and the model constructed. (<b>xi</b>)"
   ]
  },
  {
   "cell_type": "code",
   "execution_count": null,
   "id": "9479ec3c-b46c-4aae-b9fd-1031cc47ea76",
   "metadata": {},
   "outputs": [],
   "source": []
  }
 ],
 "metadata": {
  "kernelspec": {
   "display_name": "Python 3 (ipykernel)",
   "language": "python",
   "name": "python3"
  },
  "language_info": {
   "codemirror_mode": {
    "name": "ipython",
    "version": 3
   },
   "file_extension": ".py",
   "mimetype": "text/x-python",
   "name": "python",
   "nbconvert_exporter": "python",
   "pygments_lexer": "ipython3",
   "version": "3.12.5"
  }
 },
 "nbformat": 4,
 "nbformat_minor": 5
}
