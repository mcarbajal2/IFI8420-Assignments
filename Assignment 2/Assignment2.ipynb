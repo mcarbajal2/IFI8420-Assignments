{
 "cells": [
  {
   "cell_type": "markdown",
   "id": "08a7217c-5b77-43c7-9324-8ad8aa94ac52",
   "metadata": {},
   "source": [
    "# <b>IFI 8420 - Assignment 2</b>\n",
    "### Team 5\n",
    "Mina Carbajal, Carmen Morales-Mier, Gaayathri Rayapaneni, Ignatius Jonathan Sugijono"
   ]
  },
  {
   "cell_type": "markdown",
   "id": "0020f8e7-32f8-4d30-b7bd-cd3f534d70ff",
   "metadata": {},
   "source": [
    "<hr>"
   ]
  },
  {
   "cell_type": "markdown",
   "id": "496f225b-4e8a-471d-aaf8-eba4bd8bd0a4",
   "metadata": {},
   "source": [
    "#### Installing all the requirement packages"
   ]
  },
  {
   "cell_type": "code",
   "execution_count": 73,
   "id": "5c2ca014-9faa-4855-bbfc-d0eef4c42af8",
   "metadata": {},
   "outputs": [],
   "source": [
    "import pandas as pd\n",
    "import csv\n",
    "\n",
    "\n",
    "import numpy as np  \n",
    "import matplotlib.pyplot as plt  \n",
    "import seaborn as seabornInstance \n",
    "import statsmodels.api as sm\n",
    "\n",
    "import statsmodels.formula.api as smf\n",
    "\n",
    "from sklearn.model_selection import train_test_split \n",
    "from sklearn.linear_model import LinearRegression\n",
    "from sklearn import metrics"
   ]
  },
  {
   "cell_type": "markdown",
   "id": "1f6061f8-ea0e-4565-9576-ca4f61ca3a75",
   "metadata": {},
   "source": [
    "#### Downloading HousePrices and Credit CSV data"
   ]
  },
  {
   "cell_type": "code",
   "execution_count": 74,
   "id": "d7410e8a-f1dd-45af-85d8-e478a0b3071a",
   "metadata": {
    "scrolled": true
   },
   "outputs": [
    {
     "name": "stdout",
     "output_type": "stream",
     "text": [
      "<class 'pandas.core.frame.DataFrame'>\n",
      "RangeIndex: 400 entries, 0 to 399\n",
      "Data columns (total 12 columns):\n",
      " #   Column      Non-Null Count  Dtype  \n",
      "---  ------      --------------  -----  \n",
      " 0   Unnamed: 0  400 non-null    int64  \n",
      " 1   Income      400 non-null    float64\n",
      " 2   Limit       400 non-null    int64  \n",
      " 3   Rating      400 non-null    int64  \n",
      " 4   Cards       400 non-null    int64  \n",
      " 5   Age         400 non-null    int64  \n",
      " 6   Education   400 non-null    int64  \n",
      " 7   Gender      400 non-null    object \n",
      " 8   Student     400 non-null    object \n",
      " 9   Married     400 non-null    object \n",
      " 10  Ethnicity   400 non-null    object \n",
      " 11  Balance     400 non-null    int64  \n",
      "dtypes: float64(1), int64(7), object(4)\n",
      "memory usage: 37.6+ KB\n",
      "None\n",
      "<class 'pandas.core.frame.DataFrame'>\n",
      "RangeIndex: 546 entries, 0 to 545\n",
      "Data columns (total 12 columns):\n",
      " #   Column      Non-Null Count  Dtype  \n",
      "---  ------      --------------  -----  \n",
      " 0   price       546 non-null    float64\n",
      " 1   lotsize     546 non-null    int64  \n",
      " 2   bedrooms    546 non-null    int64  \n",
      " 3   bathrooms   546 non-null    int64  \n",
      " 4   stories     546 non-null    int64  \n",
      " 5   driveway    546 non-null    object \n",
      " 6   recreation  546 non-null    object \n",
      " 7   fullbase    546 non-null    object \n",
      " 8   gasheat     546 non-null    object \n",
      " 9   aircon      546 non-null    object \n",
      " 10  garage      546 non-null    int64  \n",
      " 11  prefer      546 non-null    object \n",
      "dtypes: float64(1), int64(5), object(6)\n",
      "memory usage: 51.3+ KB\n",
      "None\n"
     ]
    }
   ],
   "source": [
    "credit_df = pd.read_csv('Credit.csv')\n",
    "house_prices_df = pd.read_csv('HousePrices.csv')\n",
    "\n",
    "print(credit_df.info())\n",
    "print(house_prices_df.info())"
   ]
  },
  {
   "cell_type": "markdown",
   "id": "692227bf-27ea-4a23-96ef-fb516a4dadc6",
   "metadata": {},
   "source": [
    "<hr>"
   ]
  },
  {
   "cell_type": "markdown",
   "id": "58e20fa5-82de-4ca9-a5d9-d0c1b55ea21f",
   "metadata": {},
   "source": [
    "### <b>Section 1</b> - HousePrices data set\n",
    "##### <u>Section Code Split</u>\n",
    "<ul>\n",
    "    <li>Mina - </li>\n",
    "    <li>Carmen - i - iv</li>\n",
    "    <li>Gaayathri - </li>\n",
    "    <li>Jonathan - </li>   \n",
    "</ul>"
   ]
  },
  {
   "cell_type": "markdown",
   "id": "8a26c2e6-88cb-4803-9a40-e5dac7e3d0d1",
   "metadata": {},
   "source": [
    "#### Summary stat for all the variables in the HousePrices data. (<b>i</b>)"
   ]
  },
  {
   "cell_type": "code",
   "execution_count": 75,
   "id": "4d97a2f6-58a9-4d84-9174-4edff874a45a",
   "metadata": {},
   "outputs": [
    {
     "name": "stdout",
     "output_type": "stream",
     "text": [
      "                   mean   median       max      min           std\n",
      "price      68121.597070  62000.0  190000.0  25000.0  26702.670926\n",
      "lotsize     5150.265568   4600.0   16200.0   1650.0   2168.158725\n",
      "bedrooms       2.965201      3.0       6.0      1.0      0.737388\n",
      "bathrooms      1.285714      1.0       4.0      1.0      0.502158\n",
      "stories        1.807692      2.0       4.0      1.0      0.868203\n",
      "garage         0.692308      0.0       3.0      0.0      0.861307\n"
     ]
    }
   ],
   "source": [
    "numeric_cols = house_prices_df.select_dtypes(include=[np.number])\n",
    "\n",
    "summary_stats = numeric_cols.describe().T\n",
    "summary_stats[\"median\"] = numeric_cols.median()\n",
    "\n",
    "print(summary_stats[[\"mean\", \"median\", \"max\", \"min\", \"std\"]])"
   ]
  },
  {
   "cell_type": "markdown",
   "id": "bf6ec592-ad9b-4556-a57d-406d9f2cc904",
   "metadata": {},
   "source": [
    "#### Percentage of houses in the data with Driveway, Gas-Heat, and Air-conditioning present. (<b>ii</b>)"
   ]
  },
  {
   "cell_type": "code",
   "execution_count": 76,
   "id": "14cc7da7-dda5-4e30-b18d-29853ea5568f",
   "metadata": {},
   "outputs": [
    {
     "name": "stdout",
     "output_type": "stream",
     "text": [
      "Unique values in categorical columns:\n",
      "  driveway gasheat aircon\n",
      "0      yes      no     no\n",
      "1       no     yes    yes\n"
     ]
    }
   ],
   "source": [
    "#Checking unique values in categorical columns BEFORE conversion\n",
    "print(\"Unique values in categorical columns:\")\n",
    "print(house_prices_df[['driveway', 'gasheat', 'aircon']].apply(pd.unique))"
   ]
  },
  {
   "cell_type": "code",
   "execution_count": 77,
   "id": "37c15f3d-a9c6-4257-afce-8da760344408",
   "metadata": {},
   "outputs": [
    {
     "name": "stdout",
     "output_type": "stream",
     "text": [
      "Percentage of houses with Driveway: 85.90%\n",
      "Percentage of houses with Gas-Heat: 4.58%\n",
      "Percentage of houses with Air-conditioning: 31.68%\n"
     ]
    },
    {
     "name": "stderr",
     "output_type": "stream",
     "text": [
      "C:\\Users\\Mina\\AppData\\Local\\Temp\\ipykernel_13688\\708984163.py:2: FutureWarning: Downcasting behavior in `replace` is deprecated and will be removed in a future version. To retain the old behavior, explicitly call `result.infer_objects(copy=False)`. To opt-in to the future behavior, set `pd.set_option('future.no_silent_downcasting', True)`\n",
      "  house_prices_df[['driveway', 'gasheat', 'aircon']] = house_prices_df[['driveway', 'gasheat', 'aircon']].replace({'yes': 1, 'no': 0})\n"
     ]
    }
   ],
   "source": [
    "#Converting 'yes' to 1 and 'no' to 0\n",
    "house_prices_df[['driveway', 'gasheat', 'aircon']] = house_prices_df[['driveway', 'gasheat', 'aircon']].replace({'yes': 1, 'no': 0})\n",
    "\n",
    "#Calculating the percentage of houses with each feature\n",
    "percentages = house_prices_df[['driveway', 'gasheat', 'aircon']].mean() * 100\n",
    "\n",
    "print(f\"Percentage of houses with Driveway: {percentages['driveway']:.2f}%\")\n",
    "print(f\"Percentage of houses with Gas-Heat: {percentages['gasheat']:.2f}%\")\n",
    "print(f\"Percentage of houses with Air-conditioning: {percentages['aircon']:.2f}%\")"
   ]
  },
  {
   "cell_type": "markdown",
   "id": "58d3520b-9208-4315-a1ed-057a69b77408",
   "metadata": {},
   "source": [
    "#### Constructing a linear regression model to test whether number of bedrooms influence house prices + summary of the model. (<b>iii</b>)"
   ]
  },
  {
   "cell_type": "code",
   "execution_count": 78,
   "id": "13181c21-af9a-4a24-bae4-ccf1336fc6c4",
   "metadata": {},
   "outputs": [
    {
     "name": "stdout",
     "output_type": "stream",
     "text": [
      "                            OLS Regression Results                            \n",
      "==============================================================================\n",
      "Dep. Variable:                  price   R-squared:                       0.134\n",
      "Model:                            OLS   Adj. R-squared:                  0.133\n",
      "Method:                 Least Squares   F-statistic:                     84.38\n",
      "Date:                Tue, 18 Feb 2025   Prob (F-statistic):           8.53e-19\n",
      "Time:                        20:58:15   Log-Likelihood:                -6300.0\n",
      "No. Observations:                 546   AIC:                         1.260e+04\n",
      "Df Residuals:                     544   BIC:                         1.261e+04\n",
      "Df Model:                           1                                         \n",
      "Covariance Type:            nonrobust                                         \n",
      "==============================================================================\n",
      "                 coef    std err          t      P>|t|      [0.025      0.975]\n",
      "------------------------------------------------------------------------------\n",
      "const       2.877e+04   4413.753      6.519      0.000    2.01e+04    3.74e+04\n",
      "bedrooms    1.327e+04   1444.598      9.186      0.000    1.04e+04    1.61e+04\n",
      "==============================================================================\n",
      "Omnibus:                       91.631   Durbin-Watson:                   0.812\n",
      "Prob(Omnibus):                  0.000   Jarque-Bera (JB):              162.283\n",
      "Skew:                           0.994   Prob(JB):                     5.76e-36\n",
      "Kurtosis:                       4.784   Cond. No.                         14.0\n",
      "==============================================================================\n",
      "\n",
      "Notes:\n",
      "[1] Standard Errors assume that the covariance matrix of the errors is correctly specified.\n"
     ]
    }
   ],
   "source": [
    "X = house_prices_df[['bedrooms']]\n",
    "y = house_prices_df['price']\n",
    "\n",
    "X = sm.add_constant(X)\n",
    "\n",
    "model = sm.OLS(y, X).fit()\n",
    "\n",
    "print(model.summary())"
   ]
  },
  {
   "cell_type": "markdown",
   "id": "6e73e191-ef37-41aa-afcb-edf2aa2d0807",
   "metadata": {},
   "source": [
    "#### Constructing a multiple linear regression model and observing the effect on the house prices + summary of the model. (<b>iv</b>)"
   ]
  },
  {
   "cell_type": "code",
   "execution_count": 79,
   "id": "07222adc-c1be-440d-9218-7b4b378cbff8",
   "metadata": {},
   "outputs": [
    {
     "name": "stdout",
     "output_type": "stream",
     "text": [
      "                            OLS Regression Results                            \n",
      "==============================================================================\n",
      "Dep. Variable:                      y   R-squared:                       0.673\n",
      "Model:                            OLS   Adj. R-squared:                  0.666\n",
      "Method:                 Least Squares   F-statistic:                     99.97\n",
      "Date:                Tue, 18 Feb 2025   Prob (F-statistic):          6.18e-122\n",
      "Time:                        20:58:21   Log-Likelihood:                -6034.1\n",
      "No. Observations:                 546   AIC:                         1.209e+04\n",
      "Df Residuals:                     534   BIC:                         1.214e+04\n",
      "Df Model:                          11                                         \n",
      "Covariance Type:            nonrobust                                         \n",
      "==============================================================================\n",
      "                 coef    std err          t      P>|t|      [0.025      0.975]\n",
      "------------------------------------------------------------------------------\n",
      "const      -4038.3504   3409.471     -1.184      0.237   -1.07e+04    2659.271\n",
      "x1             3.5463      0.350     10.124      0.000       2.858       4.234\n",
      "x2          1832.0035   1047.000      1.750      0.081    -224.741    3888.748\n",
      "x3          1.434e+04   1489.921      9.622      0.000    1.14e+04    1.73e+04\n",
      "x4          6556.9457    925.290      7.086      0.000    4739.291    8374.600\n",
      "x5          6687.7789   2045.246      3.270      0.001    2670.065    1.07e+04\n",
      "x6          4511.2838   1899.958      2.374      0.018     778.976    8243.592\n",
      "x7          5452.3855   1588.024      3.433      0.001    2332.845    8571.926\n",
      "x8          1.283e+04   3217.597      3.988      0.000    6510.706    1.92e+04\n",
      "x9          1.263e+04   1555.021      8.124      0.000    9578.182    1.57e+04\n",
      "x10         4244.8290    840.544      5.050      0.000    2593.650    5896.008\n",
      "x11         9369.5132   1669.091      5.614      0.000    6090.724    1.26e+04\n",
      "==============================================================================\n",
      "Omnibus:                       93.454   Durbin-Watson:                   1.604\n",
      "Prob(Omnibus):                  0.000   Jarque-Bera (JB):              247.620\n",
      "Skew:                           0.853   Prob(JB):                     1.70e-54\n",
      "Kurtosis:                       5.824   Cond. No.                     3.07e+04\n",
      "==============================================================================\n",
      "\n",
      "Notes:\n",
      "[1] Standard Errors assume that the covariance matrix of the errors is correctly specified.\n",
      "[2] The condition number is large, 3.07e+04. This might indicate that there are\n",
      "strong multicollinearity or other numerical problems.\n"
     ]
    },
    {
     "name": "stderr",
     "output_type": "stream",
     "text": [
      "C:\\Users\\Mina\\AppData\\Local\\Temp\\ipykernel_13688\\2927854671.py:2: FutureWarning: Downcasting behavior in `replace` is deprecated and will be removed in a future version. To retain the old behavior, explicitly call `result.infer_objects(copy=False)`. To opt-in to the future behavior, set `pd.set_option('future.no_silent_downcasting', True)`\n",
      "  house_prices_df = house_prices_df.replace({'yes': 1, 'no': 0})\n"
     ]
    }
   ],
   "source": [
    "# Getting dummy variables\n",
    "house_prices_df = house_prices_df.replace({'yes': 1, 'no': 0})\n",
    "\n",
    "# Creating the model\n",
    "X = house_prices_df[['lotsize', 'bedrooms', 'bathrooms', 'stories', 'driveway', 'recreation', 'fullbase', 'gasheat', 'aircon', 'garage', 'prefer']].values\n",
    "y = house_prices_df['price'].values\n",
    "\n",
    "X1 = sm.add_constant(X)\n",
    "\n",
    "model = sm.OLS(y, X1).fit()\n",
    "print(model.summary())"
   ]
  },
  {
   "cell_type": "markdown",
   "id": "4bbe708f-64bb-42f5-8f9a-4b3ef3e83099",
   "metadata": {},
   "source": [
    "<hr>"
   ]
  },
  {
   "cell_type": "markdown",
   "id": "027e669e-ab7d-421a-8e39-cc78ffdb1468",
   "metadata": {},
   "source": [
    "### <b>Section 2</b> - Credit data set part 1\n",
    "##### <u>Section Code Split</u>\n",
    "<ul>\n",
    "    <li>Mina - </li>\n",
    "    <li>Carmen - A-i until A-ii</li>\n",
    "    <li>Gaayathri - A-iii until B</li>\n",
    "    <li>Jonathan - </li>\n",
    "</ul>"
   ]
  },
  {
   "cell_type": "markdown",
   "id": "1e8303ab-59df-4e16-9068-8952c8a6966d",
   "metadata": {},
   "source": [
    "#### Observing the dimension of the Credit data. (<b>A-i</b>)"
   ]
  },
  {
   "cell_type": "code",
   "execution_count": 298,
   "id": "501f54a1-292c-4be2-816d-f496d3e8635c",
   "metadata": {},
   "outputs": [
    {
     "name": "stdout",
     "output_type": "stream",
     "text": [
      "Shape of Credit Data: (400, 12)\n"
     ]
    }
   ],
   "source": [
    "print(f\"Shape of Credit Data: {credit_df.shape}\")"
   ]
  },
  {
   "cell_type": "markdown",
   "id": "7dbb00e9-bc45-4ee1-8aeb-4e66cbda509e",
   "metadata": {},
   "source": [
    "#### Summary stat for the variables in Credit data. (<b>A-ii</b>)"
   ]
  },
  {
   "cell_type": "code",
   "execution_count": 301,
   "id": "0a577ba4-b54c-4732-9ced-d3de11988382",
   "metadata": {},
   "outputs": [
    {
     "name": "stdout",
     "output_type": "stream",
     "text": [
      "       Unnamed: 0      Income         Limit      Rating       Cards  \\\n",
      "count  400.000000  400.000000    400.000000  400.000000  400.000000   \n",
      "mean   200.500000   45.218885   4735.600000  354.940000    2.957500   \n",
      "std    115.614301   35.244273   2308.198848  154.724143    1.371275   \n",
      "min      1.000000   10.354000    855.000000   93.000000    1.000000   \n",
      "25%    100.750000   21.007250   3088.000000  247.250000    2.000000   \n",
      "50%    200.500000   33.115500   4622.500000  344.000000    3.000000   \n",
      "75%    300.250000   57.470750   5872.750000  437.250000    4.000000   \n",
      "max    400.000000  186.634000  13913.000000  982.000000    9.000000   \n",
      "\n",
      "              Age   Education      Balance  \n",
      "count  400.000000  400.000000   400.000000  \n",
      "mean    55.667500   13.450000   520.015000  \n",
      "std     17.249807    3.125207   459.758877  \n",
      "min     23.000000    5.000000     0.000000  \n",
      "25%     41.750000   11.000000    68.750000  \n",
      "50%     56.000000   14.000000   459.500000  \n",
      "75%     70.000000   16.000000   863.000000  \n",
      "max     98.000000   20.000000  1999.000000  \n"
     ]
    }
   ],
   "source": [
    "credit_summary = credit_df.describe()\n",
    "\n",
    "print(credit_summary)"
   ]
  },
  {
   "cell_type": "markdown",
   "id": "69dc2c1c-37b5-4b1d-a783-cfe388b21d82",
   "metadata": {},
   "source": [
    "#### Calculating the percentages of:\n",
    "<ul>\n",
    "    <li>Student</li>\n",
    "    <li>Female</li>\n",
    "    <li>Student who are Female</li>\n",
    "</ul>\n",
    "<h4>in the Credit data. (<b>A-iii</b>)</h4>"
   ]
  },
  {
   "cell_type": "code",
   "execution_count": null,
   "id": "a707f225-8c86-4b49-b0eb-66df7bc9a9f6",
   "metadata": {},
   "outputs": [],
   "source": []
  },
  {
   "cell_type": "markdown",
   "id": "1026d2ad-8e3b-48ca-ae64-398ef97d51cb",
   "metadata": {},
   "source": [
    "#### Constructing a linear regression model to test:\n",
    "<ul>\n",
    "    <li>How Credit Rating and Student effect Credit Card Balance</li>\n",
    "    <li>Whether the effect of Credit Rating on Credit Card Balance is different for students vs. non-students</li>\n",
    "</ul>\n",
    "<h4>+ summary of the model. (<b>B</b>)</h4>"
   ]
  },
  {
   "cell_type": "code",
   "execution_count": null,
   "id": "35371451-d12c-4919-b4b0-71705b850391",
   "metadata": {},
   "outputs": [],
   "source": []
  },
  {
   "cell_type": "markdown",
   "id": "0bd8583e-d1be-429e-8175-4a7eabbf367a",
   "metadata": {},
   "source": [
    "<hr>"
   ]
  },
  {
   "cell_type": "markdown",
   "id": "7c2a1318-2c68-45f2-9db1-e3ad68379980",
   "metadata": {},
   "source": [
    "### <b>Section 3</b> - Credit data set part 2\n",
    "##### <u>Section Code Split</u>\n",
    "<ul>\n",
    "    <li>Mina - </li>\n",
    "    <li>Carmen - </li>\n",
    "    <li>Gaayathri - i until iv</li>\n",
    "    <li>Jonathan - </li>   \n",
    "</ul>"
   ]
  },
  {
   "cell_type": "markdown",
   "id": "0b7c9552-ca1b-4d5c-92a5-8dab87d8560a",
   "metadata": {},
   "source": [
    "#### Testing whether Age influence Credit Card Balance on the basis of simple linear regression + summary of the model using the summary() function. (<b>i</b>)"
   ]
  },
  {
   "cell_type": "code",
   "execution_count": null,
   "id": "de92e311-6e96-4b3d-960c-bed280a177d9",
   "metadata": {},
   "outputs": [],
   "source": []
  },
  {
   "cell_type": "markdown",
   "id": "955f44bd-8ea0-40a7-bbc9-c6704f05a558",
   "metadata": {},
   "source": [
    "#### Using Age and Credit Rating as predictors of Credit Card Balance (response variable) in a multiple linear regression setting + summary of the model. (<b>ii</b>)"
   ]
  },
  {
   "cell_type": "code",
   "execution_count": null,
   "id": "07ccde40-0e53-4840-aaa3-d2bbde315630",
   "metadata": {},
   "outputs": [],
   "source": []
  },
  {
   "cell_type": "markdown",
   "id": "2ed7a642-4f6a-40bc-ba45-737dcb9c8656",
   "metadata": {},
   "source": [
    "#### Comparing effect of Age from part (i) and (ii) _in Pythoncode_. (<b>iii</b>)"
   ]
  },
  {
   "cell_type": "code",
   "execution_count": null,
   "id": "052d969b-753b-43c6-8ae2-49a35e5b71d9",
   "metadata": {},
   "outputs": [],
   "source": []
  },
  {
   "cell_type": "markdown",
   "id": "1271299f-f91b-4070-a7a7-59c074ba7550",
   "metadata": {},
   "source": [
    "#### Observing the distribution of Age and constructing 3 dummy variables based on it:\n",
    "<ol>\n",
    "    <li>Age 40 and below (Age≤40)</li>\n",
    "    <li>Age Between 41 to 56 (41≤Age≤56)</li>\n",
    "    <li>Age group over 56 (Age>56)</li>\n",
    "</ol>\n",
    "<h4>in the Credit data. (<b>iv</b>)</h4>"
   ]
  },
  {
   "cell_type": "code",
   "execution_count": null,
   "id": "f40c80aa-5aa0-4127-aaf8-e0e885334349",
   "metadata": {},
   "outputs": [],
   "source": []
  },
  {
   "cell_type": "markdown",
   "id": "bf7d39a2-08cd-4da7-9eab-cd38c325c3ba",
   "metadata": {},
   "source": [
    "<hr>"
   ]
  },
  {
   "cell_type": "markdown",
   "id": "2ca916bb-7709-431f-9acd-ccabe84c1e2c",
   "metadata": {},
   "source": [
    "### <b>Section 4</b> - S&P 500 price data and NVIDIA stock\n",
    "##### <u>Section Code Split</u>\n",
    "<ul>\n",
    "    <li>Mina - i - vi</li>\n",
    "    <li>Carmen - </li>\n",
    "    <li>Gaayathri - </li>\n",
    "    <li>Jonathan - vii - xi</li>   \n",
    "</ul>"
   ]
  },
  {
   "cell_type": "markdown",
   "id": "2d97ec34-c913-4aae-bff7-00691bbc076d",
   "metadata": {},
   "source": [
    "#### Downloading the monthly price data of S&P500 and NVIDIA. (<b>i</b>)"
   ]
  },
  {
   "cell_type": "code",
   "execution_count": 320,
   "id": "8bbc5f8f-3b98-4760-b14a-1934784e406b",
   "metadata": {},
   "outputs": [],
   "source": [
    "import yfinance as yf"
   ]
  },
  {
   "cell_type": "code",
   "execution_count": 322,
   "id": "5c46588d-f79e-4a83-93d5-0f36bd1e26c1",
   "metadata": {},
   "outputs": [
    {
     "name": "stderr",
     "output_type": "stream",
     "text": [
      "[*********************100%***********************]  1 of 1 completed\n",
      "[*********************100%***********************]  1 of 1 completed\n"
     ]
    }
   ],
   "source": [
    "tickers = ['SPY', 'NVDA']\n",
    "stock_data = {}\n",
    "\n",
    "for ticker in tickers:\n",
    "    data = yf.download(ticker, start='2005-01-01', end='2019-12-31', interval='1mo')\n",
    "    stock_data[ticker] = data"
   ]
  },
  {
   "cell_type": "markdown",
   "id": "06a75bfd-c8ed-440b-95e7-b387329ced2b",
   "metadata": {},
   "source": [
    "#### Computing the monthly returns for the S&P 500 and NVIDIA + constructing one data frame to store the return series. (<b>ii</b>)"
   ]
  },
  {
   "cell_type": "code",
   "execution_count": 325,
   "id": "16cf4ac7-996d-4fb4-b6a5-8d85db871d00",
   "metadata": {},
   "outputs": [
    {
     "data": {
      "text/html": [
       "<div>\n",
       "<style scoped>\n",
       "    .dataframe tbody tr th:only-of-type {\n",
       "        vertical-align: middle;\n",
       "    }\n",
       "\n",
       "    .dataframe tbody tr th {\n",
       "        vertical-align: top;\n",
       "    }\n",
       "\n",
       "    .dataframe thead th {\n",
       "        text-align: right;\n",
       "    }\n",
       "</style>\n",
       "<table border=\"1\" class=\"dataframe\">\n",
       "  <thead>\n",
       "    <tr style=\"text-align: right;\">\n",
       "      <th></th>\n",
       "      <th>SPY</th>\n",
       "      <th>NVDA</th>\n",
       "    </tr>\n",
       "    <tr>\n",
       "      <th>Date</th>\n",
       "      <th></th>\n",
       "      <th></th>\n",
       "    </tr>\n",
       "  </thead>\n",
       "  <tbody>\n",
       "    <tr>\n",
       "      <th>2005-02-01</th>\n",
       "      <td>0.020688</td>\n",
       "      <td>0.234940</td>\n",
       "    </tr>\n",
       "    <tr>\n",
       "      <th>2005-03-01</th>\n",
       "      <td>-0.022382</td>\n",
       "      <td>-0.198947</td>\n",
       "    </tr>\n",
       "    <tr>\n",
       "      <th>2005-04-01</th>\n",
       "      <td>-0.014993</td>\n",
       "      <td>-0.080147</td>\n",
       "    </tr>\n",
       "    <tr>\n",
       "      <th>2005-05-01</th>\n",
       "      <td>0.031717</td>\n",
       "      <td>0.211676</td>\n",
       "    </tr>\n",
       "    <tr>\n",
       "      <th>2005-06-01</th>\n",
       "      <td>-0.002514</td>\n",
       "      <td>-0.014118</td>\n",
       "    </tr>\n",
       "    <tr>\n",
       "      <th>...</th>\n",
       "      <td>...</td>\n",
       "      <td>...</td>\n",
       "    </tr>\n",
       "    <tr>\n",
       "      <th>2019-08-01</th>\n",
       "      <td>-0.016886</td>\n",
       "      <td>-0.007197</td>\n",
       "    </tr>\n",
       "    <tr>\n",
       "      <th>2019-09-01</th>\n",
       "      <td>0.014664</td>\n",
       "      <td>0.039404</td>\n",
       "    </tr>\n",
       "    <tr>\n",
       "      <th>2019-10-01</th>\n",
       "      <td>0.026471</td>\n",
       "      <td>0.143947</td>\n",
       "    </tr>\n",
       "    <tr>\n",
       "      <th>2019-11-01</th>\n",
       "      <td>0.035558</td>\n",
       "      <td>0.075294</td>\n",
       "    </tr>\n",
       "    <tr>\n",
       "      <th>2019-12-01</th>\n",
       "      <td>0.023737</td>\n",
       "      <td>0.082901</td>\n",
       "    </tr>\n",
       "  </tbody>\n",
       "</table>\n",
       "<p>179 rows × 2 columns</p>\n",
       "</div>"
      ],
      "text/plain": [
       "                 SPY      NVDA\n",
       "Date                          \n",
       "2005-02-01  0.020688  0.234940\n",
       "2005-03-01 -0.022382 -0.198947\n",
       "2005-04-01 -0.014993 -0.080147\n",
       "2005-05-01  0.031717  0.211676\n",
       "2005-06-01 -0.002514 -0.014118\n",
       "...              ...       ...\n",
       "2019-08-01 -0.016886 -0.007197\n",
       "2019-09-01  0.014664  0.039404\n",
       "2019-10-01  0.026471  0.143947\n",
       "2019-11-01  0.035558  0.075294\n",
       "2019-12-01  0.023737  0.082901\n",
       "\n",
       "[179 rows x 2 columns]"
      ]
     },
     "execution_count": 325,
     "metadata": {},
     "output_type": "execute_result"
    }
   ],
   "source": [
    "# Adjusted Close Prices\n",
    "adjusted_close = pd.concat((stock_data[ticker]['Close'] for ticker in tickers), axis=1)\n",
    "adjusted_close.columns = tickers\n",
    "\n",
    "#Monthly Log Returns\n",
    "def monthly_log_returns(df, stocks):\n",
    "    mlog_returns = pd.DataFrame(index = df.index)\n",
    "    for stock in stocks:\n",
    "        if stock in df.columns:\n",
    "            mlog_returns[stock] = np.log(df[stock]/df[stock].shift(1))\n",
    "        else:\n",
    "            print(\"error\")\n",
    "    return mlog_returns\n",
    "    \n",
    "mlog_returns = monthly_log_returns(adjusted_close, tickers)\n",
    "\n",
    "## Dropping the null observation\n",
    "mlog_returns2 = mlog_returns.dropna()\n",
    "mlog_returns2"
   ]
  },
  {
   "cell_type": "markdown",
   "id": "e4ceee7d-a468-43dd-8554-002c40ec36fc",
   "metadata": {},
   "source": [
    "#### Constructing summary statistics, histogram, correlation matrix of the return series. (<b>iii</b>)"
   ]
  },
  {
   "cell_type": "code",
   "execution_count": 328,
   "id": "ac06e438-8f55-41b8-9f3d-5424efe37e04",
   "metadata": {},
   "outputs": [
    {
     "data": {
      "text/html": [
       "<div>\n",
       "<style scoped>\n",
       "    .dataframe tbody tr th:only-of-type {\n",
       "        vertical-align: middle;\n",
       "    }\n",
       "\n",
       "    .dataframe tbody tr th {\n",
       "        vertical-align: top;\n",
       "    }\n",
       "\n",
       "    .dataframe thead th {\n",
       "        text-align: right;\n",
       "    }\n",
       "</style>\n",
       "<table border=\"1\" class=\"dataframe\">\n",
       "  <thead>\n",
       "    <tr style=\"text-align: right;\">\n",
       "      <th></th>\n",
       "      <th>SPY</th>\n",
       "      <th>NVDA</th>\n",
       "    </tr>\n",
       "  </thead>\n",
       "  <tbody>\n",
       "    <tr>\n",
       "      <th>count</th>\n",
       "      <td>179.000000</td>\n",
       "      <td>179.000000</td>\n",
       "    </tr>\n",
       "    <tr>\n",
       "      <th>mean</th>\n",
       "      <td>0.007251</td>\n",
       "      <td>0.019608</td>\n",
       "    </tr>\n",
       "    <tr>\n",
       "      <th>std</th>\n",
       "      <td>0.040697</td>\n",
       "      <td>0.132510</td>\n",
       "    </tr>\n",
       "    <tr>\n",
       "      <th>min</th>\n",
       "      <td>-0.174776</td>\n",
       "      <td>-0.492476</td>\n",
       "    </tr>\n",
       "    <tr>\n",
       "      <th>25%</th>\n",
       "      <td>-0.013482</td>\n",
       "      <td>-0.043333</td>\n",
       "    </tr>\n",
       "    <tr>\n",
       "      <th>50%</th>\n",
       "      <td>0.013551</td>\n",
       "      <td>0.028694</td>\n",
       "    </tr>\n",
       "    <tr>\n",
       "      <th>75%</th>\n",
       "      <td>0.031070</td>\n",
       "      <td>0.101028</td>\n",
       "    </tr>\n",
       "    <tr>\n",
       "      <th>max</th>\n",
       "      <td>0.108752</td>\n",
       "      <td>0.440347</td>\n",
       "    </tr>\n",
       "  </tbody>\n",
       "</table>\n",
       "</div>"
      ],
      "text/plain": [
       "              SPY        NVDA\n",
       "count  179.000000  179.000000\n",
       "mean     0.007251    0.019608\n",
       "std      0.040697    0.132510\n",
       "min     -0.174776   -0.492476\n",
       "25%     -0.013482   -0.043333\n",
       "50%      0.013551    0.028694\n",
       "75%      0.031070    0.101028\n",
       "max      0.108752    0.440347"
      ]
     },
     "execution_count": 328,
     "metadata": {},
     "output_type": "execute_result"
    }
   ],
   "source": [
    "# Summary Statistics\n",
    "mlog_returns2.describe()"
   ]
  },
  {
   "cell_type": "code",
   "execution_count": 330,
   "id": "d5f32712-8fce-48e3-9afa-bf6fcb438a5a",
   "metadata": {},
   "outputs": [
    {
     "data": {
      "image/png": "[encoded data removed]",
      "text/plain": [
       "<Figure size 1200x600 with 2 Axes>"
      ]
     },
     "metadata": {},
     "output_type": "display_data"
    }
   ],
   "source": [
    "# Histograms\n",
    "fig, axs = plt.subplots(1, 2, figsize=(12, 6))\n",
    "mlog_returns2['SPY'].hist(bins=60, ax=axs[0])\n",
    "mlog_returns2['NVDA'].hist(bins=60, ax=axs[1])\n",
    "\n",
    "plt.suptitle('Monthly Returns Series Histograms')\n",
    "axs[0].set_title('S&P 500')\n",
    "axs[1].set_title('NVIDIA')\n",
    "\n",
    "for ax in axs:\n",
    "    ax.set_xlabel('Monthly Returns %')\n",
    "    ax.set_ylabel('Percent')\n",
    "\n",
    "axs[0].text(mlog_returns2['SPY'].min(), 1.3, 'Extreme\\nLow\\nReturns', ha='center', color='red')\n",
    "axs[0].text(mlog_returns2['SPY'].max(), 1.3, 'Extreme\\nHigh\\nReturns', color='red')\n",
    "axs[1].text(mlog_returns2['NVDA'].min(), 1.3, 'Extreme\\nLow\\nReturns', ha='center', color='red')\n",
    "axs[1].text(mlog_returns2['NVDA'].max(), 1.3, 'Extreme\\nHigh\\nReturns', color='red')\n",
    "    \n",
    "plt.show()"
   ]
  },
  {
   "cell_type": "code",
   "execution_count": 332,
   "id": "6112b326-b941-4f7f-818b-05ec98d0cfd8",
   "metadata": {},
   "outputs": [
    {
     "data": {
      "image/png": "[encoded data removed]",
      "text/plain": [
       "<Figure size 640x480 with 2 Axes>"
      ]
     },
     "metadata": {},
     "output_type": "display_data"
    }
   ],
   "source": [
    "# Correlation matrix\n",
    "correlation_matrix = mlog_returns2.corr()\n",
    "\n",
    "seabornInstance.heatmap(correlation_matrix, annot=True, cmap='RdBu')\n",
    "plt.title('S&P 500 and NVIDIA Monthly Returns Series CM')\n",
    "plt.show()"
   ]
  },
  {
   "cell_type": "markdown",
   "id": "63ce2468-528f-431b-9d81-3a7e36e3d195",
   "metadata": {},
   "source": [
    "#### Downloading 3 month TBill rate from Fred. (<b>iv</b>)"
   ]
  },
  {
   "cell_type": "code",
   "execution_count": 335,
   "id": "6482d0d8-52cf-46b9-9b75-a39c9d3fe25e",
   "metadata": {},
   "outputs": [
    {
     "name": "stdout",
     "output_type": "stream",
     "text": [
      "Requirement already satisfied: fredapi in /opt/anaconda3/lib/python3.12/site-packages (0.5.2)\n",
      "Requirement already satisfied: pandas in /opt/anaconda3/lib/python3.12/site-packages (from fredapi) (2.2.2)\n",
      "Requirement already satisfied: numpy>=1.26.0 in /opt/anaconda3/lib/python3.12/site-packages (from pandas->fredapi) (1.26.4)\n",
      "Requirement already satisfied: python-dateutil>=2.8.2 in /opt/anaconda3/lib/python3.12/site-packages (from pandas->fredapi) (2.9.0.post0)\n",
      "Requirement already satisfied: pytz>=2020.1 in /opt/anaconda3/lib/python3.12/site-packages (from pandas->fredapi) (2024.1)\n",
      "Requirement already satisfied: tzdata>=2022.7 in /opt/anaconda3/lib/python3.12/site-packages (from pandas->fredapi) (2023.3)\n",
      "Requirement already satisfied: six>=1.5 in /opt/anaconda3/lib/python3.12/site-packages (from python-dateutil>=2.8.2->pandas->fredapi) (1.16.0)\n",
      "Note: you may need to restart the kernel to use updated packages.\n"
     ]
    }
   ],
   "source": [
    "pip install fredapi"
   ]
  },
  {
   "cell_type": "code",
   "execution_count": 336,
   "id": "d12cfbcb-80a8-4e4c-9589-2b14685bd18f",
   "metadata": {},
   "outputs": [
    {
     "data": {
      "text/html": [
       "<div>\n",
       "<style scoped>\n",
       "    .dataframe tbody tr th:only-of-type {\n",
       "        vertical-align: middle;\n",
       "    }\n",
       "\n",
       "    .dataframe tbody tr th {\n",
       "        vertical-align: top;\n",
       "    }\n",
       "\n",
       "    .dataframe thead th {\n",
       "        text-align: right;\n",
       "    }\n",
       "</style>\n",
       "<table border=\"1\" class=\"dataframe\">\n",
       "  <thead>\n",
       "    <tr style=\"text-align: right;\">\n",
       "      <th></th>\n",
       "      <th>TB3MS</th>\n",
       "      <th>Monthly_Rate</th>\n",
       "    </tr>\n",
       "  </thead>\n",
       "  <tbody>\n",
       "    <tr>\n",
       "      <th>2005-01-01</th>\n",
       "      <td>2.33</td>\n",
       "      <td>0.001942</td>\n",
       "    </tr>\n",
       "    <tr>\n",
       "      <th>2005-02-01</th>\n",
       "      <td>2.54</td>\n",
       "      <td>0.002117</td>\n",
       "    </tr>\n",
       "    <tr>\n",
       "      <th>2005-03-01</th>\n",
       "      <td>2.74</td>\n",
       "      <td>0.002283</td>\n",
       "    </tr>\n",
       "    <tr>\n",
       "      <th>2005-04-01</th>\n",
       "      <td>2.78</td>\n",
       "      <td>0.002317</td>\n",
       "    </tr>\n",
       "    <tr>\n",
       "      <th>2005-05-01</th>\n",
       "      <td>2.84</td>\n",
       "      <td>0.002367</td>\n",
       "    </tr>\n",
       "    <tr>\n",
       "      <th>...</th>\n",
       "      <td>...</td>\n",
       "      <td>...</td>\n",
       "    </tr>\n",
       "    <tr>\n",
       "      <th>2019-08-01</th>\n",
       "      <td>1.95</td>\n",
       "      <td>0.001625</td>\n",
       "    </tr>\n",
       "    <tr>\n",
       "      <th>2019-09-01</th>\n",
       "      <td>1.89</td>\n",
       "      <td>0.001575</td>\n",
       "    </tr>\n",
       "    <tr>\n",
       "      <th>2019-10-01</th>\n",
       "      <td>1.65</td>\n",
       "      <td>0.001375</td>\n",
       "    </tr>\n",
       "    <tr>\n",
       "      <th>2019-11-01</th>\n",
       "      <td>1.54</td>\n",
       "      <td>0.001283</td>\n",
       "    </tr>\n",
       "    <tr>\n",
       "      <th>2019-12-01</th>\n",
       "      <td>1.54</td>\n",
       "      <td>0.001283</td>\n",
       "    </tr>\n",
       "  </tbody>\n",
       "</table>\n",
       "<p>180 rows × 2 columns</p>\n",
       "</div>"
      ],
      "text/plain": [
       "            TB3MS  Monthly_Rate\n",
       "2005-01-01   2.33      0.001942\n",
       "2005-02-01   2.54      0.002117\n",
       "2005-03-01   2.74      0.002283\n",
       "2005-04-01   2.78      0.002317\n",
       "2005-05-01   2.84      0.002367\n",
       "...           ...           ...\n",
       "2019-08-01   1.95      0.001625\n",
       "2019-09-01   1.89      0.001575\n",
       "2019-10-01   1.65      0.001375\n",
       "2019-11-01   1.54      0.001283\n",
       "2019-12-01   1.54      0.001283\n",
       "\n",
       "[180 rows x 2 columns]"
      ]
     },
     "execution_count": 336,
     "metadata": {},
     "output_type": "execute_result"
    }
   ],
   "source": [
    "from fredapi import Fred\n",
    "fred = Fred(api_key='cd33bef0eccbe064b1f3daf1afeba501')\n",
    "\n",
    "tbill = fred.get_series('TB3MS', '2005-01-01', '2019-12-31')\n",
    "tbill = pd.DataFrame(tbill, columns=['TB3MS'])\n",
    "\n",
    "# Converting the rates from percent to decimal, and from annual to monthly\n",
    "tbill['Monthly_Rate'] = (tbill['TB3MS'] / 100) / 12\n",
    "tbill"
   ]
  },
  {
   "cell_type": "markdown",
   "id": "45252e00-b915-47c7-8b21-f40647f8b79e",
   "metadata": {},
   "source": [
    "### Constructing a matrix of return series combining NVIDIA, S&P500, and TBill for the sample period + constructing a return series with columns of excess returns. (<b>v</b>)"
   ]
  },
  {
   "cell_type": "code",
   "execution_count": 338,
   "id": "3c13d627-c656-4441-9cbd-ee26adc4f0fe",
   "metadata": {},
   "outputs": [
    {
     "data": {
      "image/png": "[encoded data removed]",
      "text/plain": [
       "<Figure size 640x480 with 2 Axes>"
      ]
     },
     "metadata": {},
     "output_type": "display_data"
    },
    {
     "name": "stdout",
     "output_type": "stream",
     "text": [
      "\n",
      "Return Series with Excess Return Columns\n"
     ]
    },
    {
     "data": {
      "text/html": [
       "<div>\n",
       "<style scoped>\n",
       "    .dataframe tbody tr th:only-of-type {\n",
       "        vertical-align: middle;\n",
       "    }\n",
       "\n",
       "    .dataframe tbody tr th {\n",
       "        vertical-align: top;\n",
       "    }\n",
       "\n",
       "    .dataframe thead th {\n",
       "        text-align: right;\n",
       "    }\n",
       "</style>\n",
       "<table border=\"1\" class=\"dataframe\">\n",
       "  <thead>\n",
       "    <tr style=\"text-align: right;\">\n",
       "      <th></th>\n",
       "      <th>SPY</th>\n",
       "      <th>NVDA</th>\n",
       "      <th>Monthly_Rate</th>\n",
       "      <th>Excess_SPY</th>\n",
       "      <th>Excess_NVDA</th>\n",
       "    </tr>\n",
       "  </thead>\n",
       "  <tbody>\n",
       "    <tr>\n",
       "      <th>2005-02-01</th>\n",
       "      <td>0.020688</td>\n",
       "      <td>0.234940</td>\n",
       "      <td>0.002117</td>\n",
       "      <td>0.018572</td>\n",
       "      <td>0.232823</td>\n",
       "    </tr>\n",
       "    <tr>\n",
       "      <th>2005-03-01</th>\n",
       "      <td>-0.022382</td>\n",
       "      <td>-0.198947</td>\n",
       "      <td>0.002283</td>\n",
       "      <td>-0.024666</td>\n",
       "      <td>-0.201230</td>\n",
       "    </tr>\n",
       "    <tr>\n",
       "      <th>2005-04-01</th>\n",
       "      <td>-0.014993</td>\n",
       "      <td>-0.080147</td>\n",
       "      <td>0.002317</td>\n",
       "      <td>-0.017310</td>\n",
       "      <td>-0.082464</td>\n",
       "    </tr>\n",
       "    <tr>\n",
       "      <th>2005-05-01</th>\n",
       "      <td>0.031717</td>\n",
       "      <td>0.211676</td>\n",
       "      <td>0.002367</td>\n",
       "      <td>0.029350</td>\n",
       "      <td>0.209310</td>\n",
       "    </tr>\n",
       "    <tr>\n",
       "      <th>2005-06-01</th>\n",
       "      <td>-0.002514</td>\n",
       "      <td>-0.014118</td>\n",
       "      <td>0.002475</td>\n",
       "      <td>-0.004989</td>\n",
       "      <td>-0.016593</td>\n",
       "    </tr>\n",
       "    <tr>\n",
       "      <th>...</th>\n",
       "      <td>...</td>\n",
       "      <td>...</td>\n",
       "      <td>...</td>\n",
       "      <td>...</td>\n",
       "      <td>...</td>\n",
       "    </tr>\n",
       "    <tr>\n",
       "      <th>2019-08-01</th>\n",
       "      <td>-0.016886</td>\n",
       "      <td>-0.007197</td>\n",
       "      <td>0.001625</td>\n",
       "      <td>-0.018511</td>\n",
       "      <td>-0.008822</td>\n",
       "    </tr>\n",
       "    <tr>\n",
       "      <th>2019-09-01</th>\n",
       "      <td>0.014664</td>\n",
       "      <td>0.039404</td>\n",
       "      <td>0.001575</td>\n",
       "      <td>0.013089</td>\n",
       "      <td>0.037829</td>\n",
       "    </tr>\n",
       "    <tr>\n",
       "      <th>2019-10-01</th>\n",
       "      <td>0.026471</td>\n",
       "      <td>0.143947</td>\n",
       "      <td>0.001375</td>\n",
       "      <td>0.025096</td>\n",
       "      <td>0.142572</td>\n",
       "    </tr>\n",
       "    <tr>\n",
       "      <th>2019-11-01</th>\n",
       "      <td>0.035558</td>\n",
       "      <td>0.075294</td>\n",
       "      <td>0.001283</td>\n",
       "      <td>0.034275</td>\n",
       "      <td>0.074011</td>\n",
       "    </tr>\n",
       "    <tr>\n",
       "      <th>2019-12-01</th>\n",
       "      <td>0.023737</td>\n",
       "      <td>0.082901</td>\n",
       "      <td>0.001283</td>\n",
       "      <td>0.022453</td>\n",
       "      <td>0.081617</td>\n",
       "    </tr>\n",
       "  </tbody>\n",
       "</table>\n",
       "<p>179 rows × 5 columns</p>\n",
       "</div>"
      ],
      "text/plain": [
       "                 SPY      NVDA  Monthly_Rate  Excess_SPY  Excess_NVDA\n",
       "2005-02-01  0.020688  0.234940      0.002117    0.018572     0.232823\n",
       "2005-03-01 -0.022382 -0.198947      0.002283   -0.024666    -0.201230\n",
       "2005-04-01 -0.014993 -0.080147      0.002317   -0.017310    -0.082464\n",
       "2005-05-01  0.031717  0.211676      0.002367    0.029350     0.209310\n",
       "2005-06-01 -0.002514 -0.014118      0.002475   -0.004989    -0.016593\n",
       "...              ...       ...           ...         ...          ...\n",
       "2019-08-01 -0.016886 -0.007197      0.001625   -0.018511    -0.008822\n",
       "2019-09-01  0.014664  0.039404      0.001575    0.013089     0.037829\n",
       "2019-10-01  0.026471  0.143947      0.001375    0.025096     0.142572\n",
       "2019-11-01  0.035558  0.075294      0.001283    0.034275     0.074011\n",
       "2019-12-01  0.023737  0.082901      0.001283    0.022453     0.081617\n",
       "\n",
       "[179 rows x 5 columns]"
      ]
     },
     "execution_count": 338,
     "metadata": {},
     "output_type": "execute_result"
    }
   ],
   "source": [
    "# Combined Return Series\n",
    "combined_returns = pd.concat([mlog_returns2, tbill['Monthly_Rate']], axis=1).dropna()\n",
    "\n",
    "# Correlation matrix of Combined Return Series\n",
    "com_correlation_matrix = combined_returns.corr()\n",
    "\n",
    "seabornInstance.heatmap(com_correlation_matrix, annot=True, cmap='RdBu')\n",
    "plt.title('S&P 500, NVIDIA, and TBill 3-Month Returns Series')\n",
    "plt.show()\n",
    "\n",
    "# Combined Return Series with Excess Return Columns\n",
    "combined_returns['Excess_SPY'] = combined_returns['SPY'] - combined_returns['Monthly_Rate']\n",
    "combined_returns['Excess_NVDA'] = combined_returns['NVDA'] - combined_returns['Monthly_Rate']\n",
    "\n",
    "print('\\nReturn Series with Excess Return Columns')\n",
    "combined_returns"
   ]
  },
  {
   "cell_type": "markdown",
   "id": "70005bc0-9857-402e-9d4b-a7a8054ef351",
   "metadata": {},
   "source": [
    "### Constructing a linear regression model with the excess returns. (<b>vi</b>)"
   ]
  },
  {
   "cell_type": "code",
   "execution_count": 340,
   "id": "2c97f925-c183-43cc-a224-a3c65848b426",
   "metadata": {},
   "outputs": [
    {
     "data": {
      "text/html": [
       "<table class=\"simpletable\">\n",
       "<caption>OLS Regression Results</caption>\n",
       "<tr>\n",
       "  <th>Dep. Variable:</th>       <td>Excess_NVDA</td>   <th>  R-squared:         </th> <td>   0.278</td>\n",
       "</tr>\n",
       "<tr>\n",
       "  <th>Model:</th>                   <td>OLS</td>       <th>  Adj. R-squared:    </th> <td>   0.274</td>\n",
       "</tr>\n",
       "<tr>\n",
       "  <th>Method:</th>             <td>Least Squares</td>  <th>  F-statistic:       </th> <td>   68.30</td>\n",
       "</tr>\n",
       "<tr>\n",
       "  <th>Date:</th>             <td>Tue, 18 Feb 2025</td> <th>  Prob (F-statistic):</th> <td>3.20e-14</td>\n",
       "</tr>\n",
       "<tr>\n",
       "  <th>Time:</th>                 <td>18:22:04</td>     <th>  Log-Likelihood:    </th> <td>  137.51</td>\n",
       "</tr>\n",
       "<tr>\n",
       "  <th>No. Observations:</th>      <td>   179</td>      <th>  AIC:               </th> <td>  -271.0</td>\n",
       "</tr>\n",
       "<tr>\n",
       "  <th>Df Residuals:</th>          <td>   177</td>      <th>  BIC:               </th> <td>  -264.6</td>\n",
       "</tr>\n",
       "<tr>\n",
       "  <th>Df Model:</th>              <td>     1</td>      <th>                     </th>     <td> </td>   \n",
       "</tr>\n",
       "<tr>\n",
       "  <th>Covariance Type:</th>      <td>nonrobust</td>    <th>                     </th>     <td> </td>   \n",
       "</tr>\n",
       "</table>\n",
       "<table class=\"simpletable\">\n",
       "<tr>\n",
       "       <td></td>         <th>coef</th>     <th>std err</th>      <th>t</th>      <th>P>|t|</th>  <th>[0.025</th>    <th>0.975]</th>  \n",
       "</tr>\n",
       "<tr>\n",
       "  <th>const</th>      <td>    0.0079</td> <td>    0.009</td> <td>    0.930</td> <td> 0.354</td> <td>   -0.009</td> <td>    0.025</td>\n",
       "</tr>\n",
       "<tr>\n",
       "  <th>Excess_SPY</th> <td>    1.7155</td> <td>    0.208</td> <td>    8.265</td> <td> 0.000</td> <td>    1.306</td> <td>    2.125</td>\n",
       "</tr>\n",
       "</table>\n",
       "<table class=\"simpletable\">\n",
       "<tr>\n",
       "  <th>Omnibus:</th>       <td>15.156</td> <th>  Durbin-Watson:     </th> <td>   1.875</td>\n",
       "</tr>\n",
       "<tr>\n",
       "  <th>Prob(Omnibus):</th> <td> 0.001</td> <th>  Jarque-Bera (JB):  </th> <td>  43.736</td>\n",
       "</tr>\n",
       "<tr>\n",
       "  <th>Skew:</th>          <td>-0.172</td> <th>  Prob(JB):          </th> <td>3.18e-10</td>\n",
       "</tr>\n",
       "<tr>\n",
       "  <th>Kurtosis:</th>      <td> 5.397</td> <th>  Cond. No.          </th> <td>    24.6</td>\n",
       "</tr>\n",
       "</table><br/><br/>Notes:<br/>[1] Standard Errors assume that the covariance matrix of the errors is correctly specified."
      ],
      "text/latex": [
       "\\begin{center}\n",
       "\\begin{tabular}{lclc}\n",
       "\\toprule\n",
       "\\textbf{Dep. Variable:}    &   Excess\\_NVDA   & \\textbf{  R-squared:         } &     0.278   \\\\\n",
       "\\textbf{Model:}            &       OLS        & \\textbf{  Adj. R-squared:    } &     0.274   \\\\\n",
       "\\textbf{Method:}           &  Least Squares   & \\textbf{  F-statistic:       } &     68.30   \\\\\n",
       "\\textbf{Date:}             & Tue, 18 Feb 2025 & \\textbf{  Prob (F-statistic):} &  3.20e-14   \\\\\n",
       "\\textbf{Time:}             &     18:22:04     & \\textbf{  Log-Likelihood:    } &    137.51   \\\\\n",
       "\\textbf{No. Observations:} &         179      & \\textbf{  AIC:               } &    -271.0   \\\\\n",
       "\\textbf{Df Residuals:}     &         177      & \\textbf{  BIC:               } &    -264.6   \\\\\n",
       "\\textbf{Df Model:}         &           1      & \\textbf{                     } &             \\\\\n",
       "\\textbf{Covariance Type:}  &    nonrobust     & \\textbf{                     } &             \\\\\n",
       "\\bottomrule\n",
       "\\end{tabular}\n",
       "\\begin{tabular}{lcccccc}\n",
       "                     & \\textbf{coef} & \\textbf{std err} & \\textbf{t} & \\textbf{P$> |$t$|$} & \\textbf{[0.025} & \\textbf{0.975]}  \\\\\n",
       "\\midrule\n",
       "\\textbf{const}       &       0.0079  &        0.009     &     0.930  &         0.354        &       -0.009    &        0.025     \\\\\n",
       "\\textbf{Excess\\_SPY} &       1.7155  &        0.208     &     8.265  &         0.000        &        1.306    &        2.125     \\\\\n",
       "\\bottomrule\n",
       "\\end{tabular}\n",
       "\\begin{tabular}{lclc}\n",
       "\\textbf{Omnibus:}       & 15.156 & \\textbf{  Durbin-Watson:     } &    1.875  \\\\\n",
       "\\textbf{Prob(Omnibus):} &  0.001 & \\textbf{  Jarque-Bera (JB):  } &   43.736  \\\\\n",
       "\\textbf{Skew:}          & -0.172 & \\textbf{  Prob(JB):          } & 3.18e-10  \\\\\n",
       "\\textbf{Kurtosis:}      &  5.397 & \\textbf{  Cond. No.          } &     24.6  \\\\\n",
       "\\bottomrule\n",
       "\\end{tabular}\n",
       "%\\caption{OLS Regression Results}\n",
       "\\end{center}\n",
       "\n",
       "Notes: \\newline\n",
       " [1] Standard Errors assume that the covariance matrix of the errors is correctly specified."
      ],
      "text/plain": [
       "<class 'statsmodels.iolib.summary.Summary'>\n",
       "\"\"\"\n",
       "                            OLS Regression Results                            \n",
       "==============================================================================\n",
       "Dep. Variable:            Excess_NVDA   R-squared:                       0.278\n",
       "Model:                            OLS   Adj. R-squared:                  0.274\n",
       "Method:                 Least Squares   F-statistic:                     68.30\n",
       "Date:                Tue, 18 Feb 2025   Prob (F-statistic):           3.20e-14\n",
       "Time:                        18:22:04   Log-Likelihood:                 137.51\n",
       "No. Observations:                 179   AIC:                            -271.0\n",
       "Df Residuals:                     177   BIC:                            -264.6\n",
       "Df Model:                           1                                         \n",
       "Covariance Type:            nonrobust                                         \n",
       "==============================================================================\n",
       "                 coef    std err          t      P>|t|      [0.025      0.975]\n",
       "------------------------------------------------------------------------------\n",
       "const          0.0079      0.009      0.930      0.354      -0.009       0.025\n",
       "Excess_SPY     1.7155      0.208      8.265      0.000       1.306       2.125\n",
       "==============================================================================\n",
       "Omnibus:                       15.156   Durbin-Watson:                   1.875\n",
       "Prob(Omnibus):                  0.001   Jarque-Bera (JB):               43.736\n",
       "Skew:                          -0.172   Prob(JB):                     3.18e-10\n",
       "Kurtosis:                       5.397   Cond. No.                         24.6\n",
       "==============================================================================\n",
       "\n",
       "Notes:\n",
       "[1] Standard Errors assume that the covariance matrix of the errors is correctly specified.\n",
       "\"\"\""
      ]
     },
     "execution_count": 340,
     "metadata": {},
     "output_type": "execute_result"
    }
   ],
   "source": [
    "# Predictor variable\n",
    "X = combined_returns['Excess_SPY']\n",
    "# Response variable\n",
    "y = combined_returns['Excess_NVDA']\n",
    "# Adding intercept (beta_0)\n",
    "X1 = sm.add_constant(X)\n",
    "\n",
    "model = sm.OLS(y, X1).fit()\n",
    "predictions = model.predict(X1)\n",
    "\n",
    "model.summary()"
   ]
  },
  {
   "cell_type": "markdown",
   "id": "60e03327-a8e4-4581-8bc1-32accccc2121",
   "metadata": {},
   "source": [
    "### Beta for the stock based on the model constructed, testing the null hypothesis, and drawing a conclusion based on p-value. (<b>vii</b>)"
   ]
  },
  {
   "cell_type": "code",
   "execution_count": 342,
   "id": "d1bd311a-f8f6-48a2-b2c7-d7f26c65e00c",
   "metadata": {},
   "outputs": [
    {
     "name": "stdout",
     "output_type": "stream",
     "text": [
      "Beta for the stock based on the model constructed: 1.715537\n",
      "P-value for the coefficient of Excess_SPY: 0.000000\n",
      "\n",
      "Null hypothesis -> Beta for Excess_SPY = 0\n",
      "Based on the p-value, which was highly significant, we reject the null hypothesis. This means there is strong evidence to suggest that the excess return of SPY (Excess_SPY) is a significant predictor of the excess return of NVDA (Excess_NVDA).\n"
     ]
    }
   ],
   "source": [
    "print(f\"Beta for the stock based on the model constructed: {model.params.iloc[1]:2f}\")\n",
    "\n",
    "p_value = model.pvalues['Excess_SPY']\n",
    "print(f\"P-value for the coefficient of Excess_SPY: {p_value:2f}\\n\")\n",
    "\n",
    "print(\"Null hypothesis -> Beta for Excess_SPY = 0\")\n",
    "print(\"Based on the p-value, which was highly significant, we reject the null hypothesis. This means there is strong evidence to suggest that the excess return of SPY (Excess_SPY) is a significant predictor of the excess return of NVDA (Excess_NVDA).\")"
   ]
  },
  {
   "cell_type": "markdown",
   "id": "5d308c43-366a-48f7-9bdf-3177c56ff774",
   "metadata": {},
   "source": [
    "### Beta of the stock from the available stock report + discussing why these two measures are same or different. (<b>viii</b>)"
   ]
  },
  {
   "cell_type": "markdown",
   "id": "8eecb96d-1720-4a80-b081-47d7e86014d7",
   "metadata": {},
   "source": [
    "<h5>Model Constructed Beta: 1.715538</h5>\n",
    "<h5>Reported Beta: 1.66 (https://finance.yahoo.com/quote/NVDA)</h5>\n",
    "\n",
    "<p>The beta values from the model and from Yahoo Finance is close but not identical. There are multiple reasons why theyr are different.</p>\n",
    "<p>1. The time period or timeframe that we used in our model is from January 2005 until December 2019 which might be different than the financial website (Yahoo Finance) since they update their data realtime. This differences can lead to variations in beta due to market and stock volatility.</p>\n",
    "<p>2. The market index (SPY) that we used might be difference than the one that Yahoo Finance use (which can be a combined from multiple indexes)</p>\n",
    "<p>3. The methods that we used can be different with the methods that Yahoo Finance use for their daily stock data</p>\n",
    "<p>While the beta values are not exactly the same, they are close enough to conclude that NVIDIA (NVDA) is more volatile than the market. Both measures indicate that NVDA is a higher-risk, higher-reward stock.</p>"
   ]
  },
  {
   "cell_type": "markdown",
   "id": "02a8f57b-2375-473c-9796-e03d7c411984",
   "metadata": {},
   "source": [
    "### Model accuracy: standard error and R-square. (<b>ix</b>)"
   ]
  },
  {
   "cell_type": "code",
   "execution_count": 346,
   "id": "988a6d78-2c65-4458-90ab-b5921177660b",
   "metadata": {},
   "outputs": [
    {
     "name": "stdout",
     "output_type": "stream",
     "text": [
      "Model R-squared: 0.278448\n",
      "The R-squared value indicates that approximately 27.8% of the variability in the response variable (Excess_NVDA) is explained by the predictor variable (Excess_SPY), which means that while the model successfully captures some of the variability, most of the portion remains unexplained by the predictor.\n",
      "\n",
      "Model Standard Error: 0.207575\n",
      "The standard error value measures the average distance that the observed values fall from the regression line. It shows the accuracy of the model's predictions. A lower standard error means that the model's predictions are closer to the actual values, which indicate a better fit.\n"
     ]
    }
   ],
   "source": [
    "r_squared = model.rsquared\n",
    "print(f\"Model R-squared: {r_squared:5f}\")\n",
    "print(\"The R-squared value indicates that approximately 27.8% of the variability in the response variable (Excess_NVDA) is explained by the predictor variable (Excess_SPY), which means that while the model successfully captures some of the variability, most of the portion remains unexplained by the predictor.\\n\")\n",
    "\n",
    "std_error = model.bse['Excess_SPY']\n",
    "print(f\"Model Standard Error: {std_error:5f}\")\n",
    "print(\"The standard error value measures the average distance that the observed values fall from the regression line. It shows the accuracy of the model's predictions. A lower standard error means that the model's predictions are closer to the actual values, which indicate a better fit.\")"
   ]
  },
  {
   "cell_type": "markdown",
   "id": "ba82f688-e982-4d44-b59e-d1d36209cf6f",
   "metadata": {},
   "source": [
    "### Scatter plot + fitted line for the linear regression model. (<b>x</b>)"
   ]
  },
  {
   "cell_type": "code",
   "execution_count": 349,
   "id": "5b71efc7-afd2-4d6c-86dc-8b8582e90ce4",
   "metadata": {},
   "outputs": [
    {
     "data": {
      "image/png": "[encoded data removed]",
      "text/plain": [
       "<Figure size 640x480 with 1 Axes>"
      ]
     },
     "metadata": {},
     "output_type": "display_data"
    }
   ],
   "source": [
    "plt.scatter(X, y, label='Actual Data')\n",
    "plt.plot(X, predictions, color='red', linestyle='dotted', label='Regression Line')\n",
    "\n",
    "plt.xlabel('Excess_SPY')\n",
    "plt.ylabel('Excess_NVDA')\n",
    "plt.title('Scatter Plot with Regression Line')\n",
    "plt.legend()\n",
    "\n",
    "plt.show()"
   ]
  },
  {
   "cell_type": "markdown",
   "id": "2b913318-2ea1-44d3-ae87-8585821be0ad",
   "metadata": {},
   "source": [
    "### Interpretation of the analysis: considering return of the stock and S&P 500 and the model constructed. (<b>xi</b>)"
   ]
  },
  {
   "cell_type": "markdown",
   "id": "a3777792-a28e-4cba-b3c2-aa8f3eaeddb9",
   "metadata": {},
   "source": [
    "The analysis of the regression model constructed to examine the relationship between NVIDIA's (NVDA) excess return and the excess return of the S&P 500 (SPY) has several points:\n",
    "\n",
    "<h4>Beta Values:</h4>\n",
    "The beta values from the model and Yahoo Finance are different but close enough. The model beta = 1.7155 and the beta from the stock report (Yahoo Finance) is 1.66. There are several reasons that might cause the differences:\n",
    "1. Time Period: The timeframe used in our model is from January 2005 until December 2019 and Yahoo Finance updates their data in real-time. These differences can lead to variations in beta due to market and stock volatility.\n",
    "2. Market Index: Our model uses the SPY index, which might differ from the index or indices used by Yahoo Finance.\n",
    "3. Methodology: The methods used in our model can differ from those employed by Yahoo Finance for their daily stock data.\n",
    "\n",
    "While the beta values are not exactly the same, they are close enough to conclude that NVIDIA (NVDA) is more volatile than the market which means that NVIDIA is a high-risk, high-return stock.\n",
    "\n",
    "<h4>Model Interpretation:</h4>\n",
    "The R-squared value is 0.278, which indicate that around 27.8% of the data in NVIDIA's excess return (Excess_NVDA) is explained by the model using the excess return of SPY (Excess_SPY) as the predictor. This R-squared value suggests that the market index (SPY) has a decent explanatory power over NVIDIA's returns. \n",
    "The model Standard Error: 0.207575. The standard error value measures the average distance that the observed values fall from the regression line. It shows the accuracy of the model's predictions. A lower standard error means that the model's predictions are closer to the actual values, which indicate a better fit.\n",
    "\n",
    "<h4>Conclusion:</h4>\n",
    "The analysis indicates that there is a positive relationship between the excess return of NVIDIA and the excess return of the S&P 500. While the R-squared value is not very high, the significant coefficient of Excess_SPY highlights that the market index is a crucial factor in explaining NVIDIA's returns. The model suggests that NVIDIA's stock is more volatile than the market, making it a higher-risk, higher-reward investment. However, the residuals' analysis points to some deviations from normality, which might be considered for further model refinement."
   ]
  },
  {
   "cell_type": "code",
   "execution_count": null,
   "id": "bde01a95-173d-41e0-92ba-01e3fd57ffb8",
   "metadata": {},
   "outputs": [],
   "source": []
  },
  {
   "cell_type": "code",
   "execution_count": null,
   "id": "58827418-12e9-4bd1-ad54-34d5ff248713",
   "metadata": {},
   "outputs": [],
   "source": []
  },
  {
   "cell_type": "code",
   "execution_count": null,
   "id": "834be0ea-47fa-4c85-912f-208df5833d22",
   "metadata": {},
   "outputs": [],
   "source": []
  },
  {
   "cell_type": "code",
   "execution_count": null,
   "id": "efd2b08e-e247-426e-ae3a-168e6824d7a4",
   "metadata": {},
   "outputs": [],
   "source": []
  }
 ],
 "metadata": {
  "kernelspec": {
   "display_name": "Python 3 (ipykernel)",
   "language": "python",
   "name": "python3"
  },
  "language_info": {
   "codemirror_mode": {
    "name": "ipython",
    "version": 3
   },
   "file_extension": ".py",
   "mimetype": "text/x-python",
   "name": "python",
   "nbconvert_exporter": "python",
   "pygments_lexer": "ipython3",
   "version": "3.12.3"
  }
 },
 "nbformat": 4,
 "nbformat_minor": 5
}
